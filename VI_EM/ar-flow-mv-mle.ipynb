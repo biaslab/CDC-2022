{
 "cells": [
  {
   "cell_type": "code",
   "execution_count": null,
   "id": "neutral-company",
   "metadata": {},
   "outputs": [],
   "source": [
    "using GraphPPL\n",
    "using Rocket\n",
    "using ReactiveMP\n",
    "using Distributions\n",
    "using Plots\n",
    "using LinearAlgebra\n",
    "using Random\n",
    "using JLD\n",
    "using Parameters\n",
    "using Optim\n",
    "import ProgressMeter\n"
   ]
  },
  {
   "cell_type": "code",
   "execution_count": null,
   "id": "maritime-sympathy",
   "metadata": {},
   "outputs": [],
   "source": [
    "import ReactiveMP.messageout"
   ]
  },
  {
   "cell_type": "code",
   "execution_count": null,
   "id": "abandoned-token",
   "metadata": {},
   "outputs": [],
   "source": [
    "include(\"../helpers/data.jl\")"
   ]
  },
  {
   "cell_type": "code",
   "execution_count": null,
   "id": "representative-hazard",
   "metadata": {},
   "outputs": [],
   "source": [
    "function ssm(series, order)\n",
    "    inputs = [reverse!(series[1:order])]\n",
    "    outputs = [series[order + 1]]\n",
    "    for x in series[order+2:end]\n",
    "        push!(inputs, vcat(outputs[end], inputs[end])[1:end-1])\n",
    "        push!(outputs, x)\n",
    "    end\n",
    "    return inputs, outputs\n",
    "end"
   ]
  },
  {
   "cell_type": "code",
   "execution_count": null,
   "id": "visible-royal",
   "metadata": {},
   "outputs": [],
   "source": [
    "melu(x) = clamp(x, tiny, Inf)"
   ]
  },
  {
   "cell_type": "code",
   "execution_count": null,
   "id": "otherwise-poultry",
   "metadata": {},
   "outputs": [],
   "source": [
    "data_seed, params_seed = 42, 120"
   ]
  },
  {
   "cell_type": "code",
   "execution_count": null,
   "id": "capital-spine",
   "metadata": {},
   "outputs": [],
   "source": [
    "order_y, order_u, order_h = 2, 2, 2\n",
    "full_order = order_h + order_y + order_u\n",
    "Y = zeros(full_order, order_y); Y[1:order_y, 1:order_y] = diageye(order_y);\n",
    "U = zeros(full_order, order_u); U[order_y+1:order_y+order_u, 1:order_u] = diageye(order_u);\n",
    "H = zeros(full_order, order_h); H[full_order-order_h+1:full_order, 1:order_h] = diageye(order_h);"
   ]
  },
  {
   "cell_type": "code",
   "execution_count": null,
   "id": "minor-frame",
   "metadata": {},
   "outputs": [],
   "source": [
    "# Nonlinear MAX model definition\n",
    "@model [default_factorisation=MeanField()] function nonlinear_max_mv(n, model_flow::FlowModel, params, h_prior, y_prev, u, y_order, u_order, h_order)\n",
    "    \n",
    "    order = h_order + y_order + u_order\n",
    "\n",
    "    # Extract parameters for flow, neural network and Gamma\n",
    "    del = nr_params(model_flow)\n",
    "    params_flow = params[1:del]\n",
    "    params_w = params[end-1:end]\n",
    "    \n",
    "    # initialize variables\n",
    "    h       = randomvar(n)\n",
    "    hy      = randomvar(n)\n",
    "    hyu     = randomvar(n)\n",
    "    θ       = randomvar() where {form_constraint = FixedMarginalConstraint(MvNormalMeanPrecision(zeros(h_order), 1e12*diageye(h_order)))}  \n",
    "    w       = randomvar() where {form_constraint = FixedMarginalConstraint(GammaShapeRate(melu(params_w[1]), melu(params_w[2])))}\n",
    "    y       = datavar(Float64, n)\n",
    "\n",
    "    ar_nodes = Vector{FactorNode}(undef, n)\n",
    "    y_nodes = Vector{FactorNode}(undef, n)\n",
    "\n",
    "    y_lat_1 = randomvar(n)\n",
    "    y_lat_2 = randomvar(n)\n",
    "    y_lat_3 = randomvar(n)\n",
    "    \n",
    "    Ys = [Y*y_prev[i] for i in 1:n]\n",
    "    Us = [U*u[i] for i in 1:n]\n",
    "\n",
    "    # create meta for AR\n",
    "    AR_meta = ARMeta(Multivariate, h_order, ARsafe())\n",
    "    # create meta compile flow model\n",
    "    Flow_meta  = FlowMeta(compile(model_flow, params_flow)) # default: FlowMeta(model, Linearization())\n",
    "    h_0 ~ MvNormalMeanPrecision(h_prior[1], h_prior[2])\n",
    "\n",
    "    θ   ~ MvNormalMeanPrecision(zeros(order_h), 1e12*diageye(order_h))\n",
    "    w   ~ GammaShapeRate(melu(params_w[1]), melu(params_w[2]))\n",
    "    \n",
    "    h_prev = h_0\n",
    "    for t in 1:n\n",
    "        # specify latent state\n",
    "        ar_nodes[t], h[t] ~ AR(h_prev, θ, w) where {q = q(y, x)q(γ)q(θ), meta = AR_meta}\n",
    "        hy[t] ~ H*h[t] + Ys[t]\n",
    "        hyu[t] ~ hy[t] + Us[t]\n",
    "        y_lat_1[t] ~ Flow(hyu[t]) where { meta = Flow_meta}\n",
    "        y_lat_2[t] ~ dot(y_lat_1[t], ones(order))\n",
    "        y_nodes[t], y[t] ~ NormalMeanPrecision(y_lat_2[t], w)\n",
    "        h_prev = h[t]\n",
    "    end\n",
    "\n",
    "    return h, hy, hyu, θ, w, y_lat_1, y_lat_2, y, y_nodes\n",
    "end"
   ]
  },
  {
   "cell_type": "code",
   "execution_count": null,
   "id": "desirable-organic",
   "metadata": {},
   "outputs": [],
   "source": [
    "function nonlinear_max_inference_mv(observations, observations_prev, controls, model_flow::FlowModel, params;  \n",
    "                                    y_order, u_order, h_order,\n",
    "                                    h_prior=(zeros(h_order), 0.1*diageye(h_order)), vmp_its=10)\n",
    "    # fetch number of samples\n",
    "    n = length(observations)\n",
    "\n",
    "    # define model\n",
    "    model, (h, hy, hyu, θ, w, y_lat_1, y_lat_2, y, y_nodes) = nonlinear_max_mv(n, model_flow, params, h_prior,\n",
    "                                                                               observations_prev, controls,\n",
    "                                                                               y_order, u_order, h_order,\n",
    "                                                                               options = (limit_stack_depth = 500, ))\n",
    "    \n",
    "    h_buffer = Vector{Marginal}(undef, n)\n",
    "    hy_buffer = Vector{Marginal}(undef, n)\n",
    "    hyu_buffer = Vector{Marginal}(undef, n)\n",
    "    θ_buffer = Vector{Marginal}(undef, n)\n",
    "    y_out_buffer = Vector{AbstractMessage}(undef, n)\n",
    "    w_buffer = nothing\n",
    "    \n",
    "    h_sub = subscribe!(getmarginals(h), (x) -> copyto!(h_buffer, x))\n",
    "    hy_sub = subscribe!(getmarginals(h), (x) -> copyto!(hy_buffer, x))\n",
    "    w_sub = subscribe!(getmarginal(w), (x) -> w_buffer = x)\n",
    "    θ_sub = subscribe!(getmarginal(θ), (x) -> θ_buffer = x)\n",
    "    y_out_sub = subscribe!(collectLatest(messageout.(ReactiveMP.getinterface.(y_nodes, :out))), \n",
    "                                         (x) -> copyto!(y_out_buffer, ReactiveMP.as_message.(x)))\n",
    "    \n",
    "    # initialize free energy\n",
    "    fe_buffer = Vector()\n",
    "    \n",
    "    # subscribe\n",
    "    fe_sub = subscribe!(score(BetheFreeEnergy(), model), (f) -> push!(fe_buffer, f))\n",
    "\n",
    "    setmarginal!(w, GammaShapeRate(1.0, 1.0))\n",
    "    setmarginal!(θ, MvNormalMeanPrecision(zeros(h_order), diageye(h_order)))\n",
    "    \n",
    "    ProgressMeter.@showprogress for _ in 1:vmp_its\n",
    "        ReactiveMP.update!(y, observations)\n",
    "    end\n",
    "    \n",
    "    # unsubscribe\n",
    "    unsubscribe!(fe_sub)\n",
    "    unsubscribe!(h_sub)\n",
    "    unsubscribe!(w_sub)\n",
    "    unsubscribe!(θ_sub)\n",
    "    \n",
    "    # return the marginal values\n",
    "    return fe_buffer, h_buffer, hy_buffer, hyu_buffer, w_buffer, y_out_buffer, θ_buffer\n",
    "    \n",
    "end"
   ]
  },
  {
   "cell_type": "code",
   "execution_count": null,
   "id": "found-pavilion",
   "metadata": {},
   "outputs": [],
   "source": [
    "# specify flow model\n",
    "model_flow = FlowModel(full_order,\n",
    "    (\n",
    "        AdditiveCouplingLayer(PlanarFlow()), # defaults to AdditiveCouplingLayer(PlanarFlow(); permute=true)\n",
    "        AdditiveCouplingLayer(PlanarFlow()),\n",
    "        AdditiveCouplingLayer(PlanarFlow())\n",
    "    )\n",
    ");"
   ]
  },
  {
   "cell_type": "code",
   "execution_count": null,
   "id": "flexible-proxy",
   "metadata": {},
   "outputs": [],
   "source": [
    "Random.seed!(data_seed)\n",
    "\n",
    "n_samples = 1000\n",
    "u = 3 .* sin.(collect(1:n_samples+10))\n",
    "y_lat, y_obs, h_gen = generate_data(n_samples, narx, Dict(:order_y=>order_y, :order_u=>order_u, :order_e=>order_h),\n",
    "                                                     Dict(:er_var=>1e-2, :u=>u));"
   ]
  },
  {
   "cell_type": "code",
   "execution_count": null,
   "id": "acting-retirement",
   "metadata": {},
   "outputs": [],
   "source": [
    "observations_prev, observations = ssm(y_obs, order_y)\n",
    "controls = ssm(u, order_u)[1]"
   ]
  },
  {
   "cell_type": "code",
   "execution_count": null,
   "id": "entire-paragraph",
   "metadata": {},
   "outputs": [],
   "source": [
    "train_size = 800\n",
    "X_train, Y_train, U_train = observations_prev[1:train_size], observations[1:train_size], controls[1:train_size]\n",
    "X_test, Y_test, U_test = observations_prev[train_size+1:end], observations[train_size+1:end], controls[train_size+1:end];"
   ]
  },
  {
   "cell_type": "markdown",
   "id": "c5f094a2",
   "metadata": {},
   "source": [
    "---\n",
    "### Inspect data and write to file"
   ]
  },
  {
   "cell_type": "code",
   "execution_count": null,
   "id": "a7b6b6a1",
   "metadata": {},
   "outputs": [],
   "source": [
    "train_size = 800\n",
    "X_train, Y_train, U_train = observations_prev[1:train_size], observations[1:train_size], controls[1:train_size]\n",
    "X_test, Y_test, U_test = observations_prev[train_size+1:end], observations[train_size+1:end], controls[train_size+1:end];"
   ]
  },
  {
   "cell_type": "code",
   "execution_count": null,
   "id": "79d05cb6",
   "metadata": {},
   "outputs": [],
   "source": [
    "input_train = u[1:train_size]\n",
    "output_train = y_obs[1:train_size]\n",
    "input_test = u[train_size+1:end]\n",
    "output_test = y_obs[train_size+1:end]\n",
    "\n",
    "p101 = plot(input_train, label=\"input\", ylabel=\"train\")\n",
    "plot!(output_train, label=\"output\")\n",
    "p102 = plot(input_test, label=\"input\", ylabel=\"test\")\n",
    "plot!(output_test, label=\"output\")\n",
    "plot(p101, p102, layout=(2,1), size=(900,500))"
   ]
  },
  {
   "cell_type": "code",
   "execution_count": null,
   "id": "c5a64893",
   "metadata": {},
   "outputs": [],
   "source": [
    "matwrite(\"train_data.mat\", Dict(\"input_train\" => u[1:train_size], \"output_train\" => y_obs[1:train_size]); compress = true)\n",
    "matwrite(\"test_data.mat\", Dict(\"input_test\" => u[train_size+1:end], \"output_test\" => y_obs[train_size+1:end]); compress = true)"
   ]
  },
  {
   "cell_type": "markdown",
   "id": "e5f3b240",
   "metadata": {},
   "source": [
    "---"
   ]
  },
  {
   "cell_type": "code",
   "execution_count": null,
   "id": "steady-blink",
   "metadata": {},
   "outputs": [],
   "source": [
    "Random.seed!(params_seed)\n",
    "\n",
    "flow_param_len = nr_params(model_flow)\n",
    "model_params = [randn(flow_param_len); [0.1, 1.0]]"
   ]
  },
  {
   "cell_type": "code",
   "execution_count": null,
   "id": "diagnostic-budget",
   "metadata": {},
   "outputs": [],
   "source": [
    "fe_, h_, hy_, hyu_, w_, y_out_, θ_ = nonlinear_max_inference_mv(Y_train, X_train, U_train, model_flow, model_params, y_order=order_y, u_order=order_u, h_order=order_h, vmp_its=10);\n"
   ]
  },
  {
   "cell_type": "code",
   "execution_count": null,
   "id": "eastern-chocolate",
   "metadata": {},
   "outputs": [],
   "source": [
    "plot(mean.(y_out_), ribbon=sqrt.(cov.(y_out_)))\n",
    "plot!(Y_train, xlims=(1, 80))"
   ]
  },
  {
   "cell_type": "code",
   "execution_count": null,
   "id": "valued-australia",
   "metadata": {},
   "outputs": [],
   "source": [
    "gr()\n",
    "plot(fe_, label=\"FE = $(fe_[end])\")"
   ]
  },
  {
   "cell_type": "code",
   "execution_count": null,
   "id": "announced-trade",
   "metadata": {},
   "outputs": [],
   "source": [
    "# Optimization function\n",
    "function FE(params)\n",
    "    fe, h, hy, hyu, w, y_out, θ = nonlinear_max_inference_mv(Y_train, X_train, U_train, model_flow, params,\n",
    "                                                             y_order=order_y, u_order=order_u, h_order=order_h,\n",
    "                                                             h_prior=(zeros(order_h), 0.1*diageye(order_h)), vmp_its=1)\n",
    "    return fe[end]\n",
    "end;"
   ]
  },
  {
   "cell_type": "code",
   "execution_count": null,
   "id": "mexican-focus",
   "metadata": {},
   "outputs": [],
   "source": [
    "@time ForwardDiff.gradient(FE, model_params)"
   ]
  },
  {
   "cell_type": "code",
   "execution_count": null,
   "id": "standing-running",
   "metadata": {},
   "outputs": [],
   "source": [
    "# unpack if you don't want to run Optim\n",
    "@unpack inf_params = JLD.load(\"../dump/flow_mv_mle_dataseed_$(data_seed)_paramsseed_$(params_seed).jld\")"
   ]
  },
  {
   "cell_type": "code",
   "execution_count": null,
   "id": "finnish-gathering",
   "metadata": {},
   "outputs": [],
   "source": [
    "import ReactiveMP.fastcholesky\n",
    "using PositiveFactorizations\n",
    "\n",
    "function ReactiveMP.fastcholesky(mat::AbstractMatrix)\n",
    "    return cholesky(PositiveFactorizations.Positive, Hermitian(mat))\n",
    "end"
   ]
  },
  {
   "cell_type": "code",
   "execution_count": null,
   "id": "careful-present",
   "metadata": {},
   "outputs": [],
   "source": [
    "res = optimize(FE, model_params, LBFGS(), Optim.Options(g_tol = 1e-8, iterations = 1000, store_trace = true, show_trace = true, show_every=1), autodiff=:forward)"
   ]
  },
  {
   "cell_type": "code",
   "execution_count": null,
   "id": "individual-jungle",
   "metadata": {},
   "outputs": [],
   "source": [
    "inf_params = Optim.minimizer(res)\n"
   ]
  },
  {
   "cell_type": "code",
   "execution_count": null,
   "id": "bigger-providence",
   "metadata": {},
   "outputs": [],
   "source": [
    "fe_, h_, hy_, hyu_, w_, y_out_, θ_ = nonlinear_max_inference_mv(Y_train, X_train, U_train, model_flow, inf_params,\n",
    "                                                                y_order=order_y, u_order=order_u, h_order=order_h,\n",
    "                                                                h_prior=(zeros(order_h), 0.1*diageye(order_h)), vmp_its=10);\n"
   ]
  },
  {
   "cell_type": "code",
   "execution_count": null,
   "id": "underlying-mortality",
   "metadata": {},
   "outputs": [],
   "source": [
    "using JLD\n",
    "JLD.save(\"../dump/flow_mv_mle_dataseed_$(data_seed)_paramsseed_$(params_seed).jld\", \"inf_params\", inf_params)"
   ]
  },
  {
   "cell_type": "code",
   "execution_count": null,
   "id": "subjective-corruption",
   "metadata": {},
   "outputs": [],
   "source": [
    "plot(mean.(y_out_), ribbon=sqrt.(cov.(y_out_)))\n",
    "plot!(Y_train, xlims=(250, 300))"
   ]
  },
  {
   "cell_type": "code",
   "execution_count": null,
   "id": "several-eagle",
   "metadata": {},
   "outputs": [],
   "source": [
    "plot(fe_)"
   ]
  },
  {
   "cell_type": "markdown",
   "id": "forty-right",
   "metadata": {},
   "source": [
    "### KF-like prediction"
   ]
  },
  {
   "cell_type": "code",
   "execution_count": null,
   "id": "artificial-lying",
   "metadata": {},
   "outputs": [],
   "source": [
    "function transition(γ, order)\n",
    "#     V = zeros(order, order)\n",
    "    V = 1e-12*diageye(order)\n",
    "    V[1] = 1/γ\n",
    "    return V\n",
    "end\n",
    "\n",
    "function shift(dim)\n",
    "    S = Matrix{Float64}(I, dim, dim)\n",
    "    for i in dim:-1:2\n",
    "           S[i,:] = S[i-1, :]\n",
    "    end\n",
    "    S[1, :] = zeros(dim)\n",
    "    return S\n",
    "end"
   ]
  },
  {
   "cell_type": "code",
   "execution_count": null,
   "id": "equivalent-dublin",
   "metadata": {},
   "outputs": [],
   "source": [
    "# Nonlinear MAX model definition\n",
    "@model [default_factorisation=MeanField()] function nonlinear_max_prediction_mv_model(model_flow::FlowModel, params, w, h_prior, y_prev, u, full_order)\n",
    "    \n",
    "    h_order = length(h_prior[1])\n",
    "\n",
    "    A = shift(h_order) # transition matrix\n",
    "    V = transition(w, h_order)\n",
    "\n",
    "    # initialize variables\n",
    "    y_pred   = datavar(Float64)\n",
    "    \n",
    "    Ys = Y*y_prev\n",
    "    Us = U*u\n",
    "    \n",
    "    del = nr_params(model_flow)\n",
    "    params_flow = params[1:del]\n",
    "    params_f = params[del+1:end-2]\n",
    "    params_w = params[end-1:end]\n",
    "\n",
    "    h_0 = randomvar() where {form_constraint = FixedMarginalConstraint(MvNormalMeanPrecision(h_prior[1], h_prior[2]))}\n",
    "\n",
    "    # compile flow model\n",
    "    Flow_meta  = FlowMeta(compile(model_flow, params_flow)) # default: FlowMeta(model, Linearization())\n",
    "    h_0 ~ MvNormalMeanPrecision(h_prior[1], h_prior[2])\n",
    "    \n",
    "    Ah ~ A*h_0\n",
    "    h ~ MvNormalMeanCovariance(Ah, V) where {q = q(Ah, h)q(V)}\n",
    "    \n",
    "    hy ~ H*h + Ys\n",
    "    hyu ~ hy + Us\n",
    "    \n",
    "    y_lat_1 ~ Flow(hyu) where { meta = Flow_meta, q = FullFactorisation() }\n",
    "    \n",
    "    y_lat_2 ~ dot(y_lat_1, ones(full_order))\n",
    "\n",
    "    y_node, y ~ NormalMeanPrecision(y_lat_2, w) where { q = q(y, y_lat_2)q(w)}\n",
    "    \n",
    "    y_pred ~ NormalMeanPrecision(y, 1e-12)\n",
    "    \n",
    "    return h, h_0, y_lat_1, y_lat_2, y, y_node, y_pred\n",
    "end"
   ]
  },
  {
   "cell_type": "code",
   "execution_count": null,
   "id": "decreased-network",
   "metadata": {},
   "outputs": [],
   "source": [
    "function nonlinear_max_prediction_mv(observation_prev, control, model_flow::FlowModel, params; full_order, \n",
    "                                     h_prior=(ones(2), diageye(2)), w=1.0, vmp_its = 50)\n",
    "\n",
    "    # define model\n",
    "    model, (h, h_0, y_lat_1, y_lat_2, y, y_node, y_pred) = nonlinear_max_prediction_mv_model(model_flow, params, w, h_prior,\n",
    "                                                                                             observation_prev, control, full_order,\n",
    "                                                                                             options = (limit_stack_depth = 500, ))\n",
    "    \n",
    "    h_order = length(h_prior[1])\n",
    "    \n",
    "    h_buffer = nothing\n",
    "    h0_buffer = nothing\n",
    "    y_out_buffer = nothing\n",
    "    y_pred_buffer = nothing\n",
    "    \n",
    "    h_sub = subscribe!(getmarginal(h), (x) -> h_buffer = x)\n",
    "    h0_sub = subscribe!(getmarginal(h_0), (x) -> h0_buffer = x)\n",
    "    y_pred_sub = subscribe!(getmarginal(y), (x) -> y_pred_buffer = x)\n",
    "\n",
    "    fe_buffer = Vector()\n",
    "    \n",
    "    # subscribe\n",
    "    fe_sub = subscribe!(score(BetheFreeEnergy(), model), (f) -> push!(fe_buffer, f))\n",
    "    \n",
    "    setmarginal!(y, NormalMeanPrecision(0.0, 1.0))\n",
    "    \n",
    "    for _ in 1:vmp_its\n",
    "        ReactiveMP.update!(y_pred, 0.0)\n",
    "    end\n",
    "    \n",
    "    # return the marginal values\n",
    "    return fe_buffer, h_buffer, h0_buffer, y_pred_buffer\n",
    "    \n",
    "end"
   ]
  },
  {
   "cell_type": "code",
   "execution_count": null,
   "id": "cordless-custom",
   "metadata": {},
   "outputs": [],
   "source": [
    "predictions = []\n",
    "h_prev = (mean(h_[end]), precision(h_[end]))\n",
    "ŵ = mean(w_)\n",
    "for i in 1:length(X_test)\n",
    "    fe, h, h_0, y_pred = nonlinear_max_prediction_mv(X_test[i], U_test[i], model_flow, inf_params, full_order=full_order, h_prior=h_prev, w=ŵ, vmp_its=10)\n",
    "    push!(predictions, y_pred)\n",
    "    _, h_inf, _, _, _ = nonlinear_max_inference_mv([Y_test[i]], [X_test[i]], [U_test[i]], model_flow, inf_params, y_order=order_y, u_order=order_u, h_order=order_h, h_prior=h_prev, vmp_its=10);\n",
    "    h_prev = (mean.(h_inf)[1], precision.(h_inf)[1])\n",
    "end"
   ]
  },
  {
   "cell_type": "code",
   "execution_count": null,
   "id": "ordinary-screen",
   "metadata": {},
   "outputs": [],
   "source": [
    "mx, vx = mean.(predictions), cov.(predictions);"
   ]
  },
  {
   "cell_type": "code",
   "execution_count": null,
   "id": "collectible-bridge",
   "metadata": {},
   "outputs": [],
   "source": [
    "test_from, test_to = 100, 150"
   ]
  },
  {
   "cell_type": "code",
   "execution_count": null,
   "id": "protected-manual",
   "metadata": {},
   "outputs": [],
   "source": [
    "plot(Y_test, label=\"real\")\n",
    "plot!(mx, ribbon=sqrt.(vx), xlims=(test_from, test_to), label=\"predicted\")"
   ]
  },
  {
   "cell_type": "code",
   "execution_count": null,
   "id": "7b4976a8",
   "metadata": {},
   "outputs": [],
   "source": [
    "MSE_ARFLOW = mean((mx .- Y_test).^2)"
   ]
  },
  {
   "cell_type": "code",
   "execution_count": null,
   "id": "ffe98173",
   "metadata": {},
   "outputs": [],
   "source": [
    "baseline = matread(\"LSTMnet.mat\")\n",
    "MSE_LSTMnet = mean((baseline[\"predictions\"] .- Y_test).^2)"
   ]
  },
  {
   "cell_type": "code",
   "execution_count": null,
   "id": "beginning-split",
   "metadata": {},
   "outputs": [],
   "source": [
    "inf_params"
   ]
  },
  {
   "cell_type": "code",
   "execution_count": null,
   "id": "banned-gambling",
   "metadata": {},
   "outputs": [],
   "source": [
    "# decrease noise\n",
    "# increase sampling frequency"
   ]
  },
  {
   "cell_type": "code",
   "execution_count": null,
   "id": "human-nigeria",
   "metadata": {},
   "outputs": [],
   "source": []
  }
 ],
 "metadata": {
  "kernelspec": {
   "display_name": "Julia 1.6.3",
   "language": "julia",
   "name": "julia-1.6"
  },
  "language_info": {
   "file_extension": ".jl",
   "mimetype": "application/julia",
   "name": "julia",
   "version": "1.6.3"
  }
 },
 "nbformat": 4,
 "nbformat_minor": 5
}
