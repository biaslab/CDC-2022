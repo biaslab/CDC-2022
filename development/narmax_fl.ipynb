{
 "cells": [
  {
   "cell_type": "code",
   "execution_count": 3,
   "metadata": {},
   "outputs": [],
   "source": [
    "using Plots\n",
    "using LinearAlgebra\n",
    "using Random\n",
    "using JLD\n",
    "using Parameters\n",
    "using ForneyLab\n",
    "using NARMAX\n",
    "import ProgressMeter\n",
    "using CSV\n",
    "using DataFrames\n",
    "using Statistics"
   ]
  },
  {
   "cell_type": "code",
   "execution_count": 9,
   "metadata": {},
   "outputs": [],
   "source": [
    "using ForneyLab: unsafeMean, unsafeCov, unsafePrecision"
   ]
  },
  {
   "cell_type": "code",
   "execution_count": 10,
   "metadata": {},
   "outputs": [
    {
     "data": {
      "text/plain": [
       "ϕ (generic function with 2 methods)"
      ]
     },
     "execution_count": 10,
     "metadata": {},
     "output_type": "execute_result"
    }
   ],
   "source": [
    "include(\"../helpers/polynomial.jl\")"
   ]
  },
  {
   "cell_type": "code",
   "execution_count": 11,
   "metadata": {},
   "outputs": [
    {
     "data": {
      "text/plain": [
       "model_specification (generic function with 1 method)"
      ]
     },
     "execution_count": 11,
     "metadata": {},
     "output_type": "execute_result"
    }
   ],
   "source": [
    "function model_specification(ϕ; M1=M1, M2=M2, M3=M3, N=N)\n",
    "\n",
    "    graph = FactorGraph()\n",
    "\n",
    "    # Observed variables\n",
    "    @RV u_kmin1; placeholder(u_kmin1, :u_kmin1, dims=(M1,))\n",
    "    @RV y_kmin1; placeholder(y_kmin1, :y_kmin1, dims=(M2,))\n",
    "    @RV e_kmin1; placeholder(e_kmin1, :e_kmin1, dims=(M3,))\n",
    "    @RV u_k; placeholder(u_k, :u_k)\n",
    "\n",
    "    # Time-invariant parameters\n",
    "    @RV τ ~ Gamma(placeholder(:a_τ), placeholder(:b_τ))\n",
    "    @RV θ ~ GaussianMeanPrecision(placeholder(:m_θ, dims=(N,)), placeholder(:w_θ, dims=(N,N)))\n",
    "\n",
    "    # Likelihood\n",
    "    @RV y_k ~ NAutoRegressiveMovingAverageX(θ, u_k, u_kmin1, y_kmin1, e_kmin1, τ, ϕ=ϕ)\n",
    "    placeholder(y_k, :y_k)\n",
    "\n",
    "    q = PosteriorFactorization(θ, τ, ids=[:θ :τ])\n",
    "    algorithm = messagePassingAlgorithm([θ; τ], q, free_energy=true)\n",
    "    return algorithmSourceCode(algorithm, free_energy=true)\n",
    "    \n",
    "end"
   ]
  },
  {
   "cell_type": "code",
   "execution_count": 49,
   "metadata": {},
   "outputs": [
    {
     "data": {
      "text/plain": [
       "experiment_FEM (generic function with 1 method)"
      ]
     },
     "execution_count": 49,
     "metadata": {},
     "output_type": "execute_result"
    }
   ],
   "source": [
    "function experiment_FEM(input_trn, output_trn, input_tst, output_tst, ϕ, priors; M1=1, M2=1, M3=1, N=3, num_iters=5, computeFE=false)\n",
    "\n",
    "    # Maximum delay\n",
    "    maxM = maximum([M1,M2,M3])\n",
    "\n",
    "    # Zero-padding of signals\n",
    "    input_trn = [zeros(maxM,); input_trn]\n",
    "    input_tst = [zeros(maxM,); input_tst]\n",
    "    output_trn = [zeros(maxM,); output_trn]\n",
    "    output_tst = [zeros(maxM,); output_tst]\n",
    "\n",
    "    # Signal splits\n",
    "    T_trn = length(input_trn)\n",
    "    T_tst = length(input_tst)\n",
    "\n",
    "    \"Inference execution\"\n",
    "\n",
    "    # Extract prior parameters\n",
    "    θ_k = priors[\"θ\"]\n",
    "    τ_k = priors[\"τ\"]\n",
    "\n",
    "    # Initialize marginals\n",
    "    marginals = Dict(:θ => ProbabilityDistribution(Multivariate, GaussianMeanPrecision, m=θ_k[1], w=θ_k[2]),\n",
    "                     :τ => ProbabilityDistribution(Univariate, Gamma, a=τ_k[1], b=τ_k[2]))\n",
    "\n",
    "    # Preallocate free energy array\n",
    "    Fq = zeros(T_trn-maxM, num_iters)\n",
    "\n",
    "    # Preallocate parameter arrays\n",
    "    params_θ = (zeros(T_trn-maxM,N), zeros(T_trn-maxM,N,N))\n",
    "    params_τ = (zeros(T_trn-maxM,1), zeros(T_trn-maxM,1))\n",
    "\n",
    "    # Preallocate prediction arrays\n",
    "    predictions = (zeros(T_trn,), zeros(T_trn,))\n",
    "    errors = zeros(T_trn,)\n",
    "\n",
    "    for (ii,k) in enumerate(maxM+1:T_trn)\n",
    "        \n",
    "        # Update history vectors\n",
    "        u_kmin1 = input_trn[k-1:-1:k-M1]\n",
    "        y_kmin1 = output_trn[k-1:-1:k-M2]\n",
    "        e_kmin1 = errors[k-1:-1:k-M3]\n",
    "        \n",
    "        ϕx = ϕ([input_trn[k]; u_kmin1; y_kmin1; e_kmin1])\n",
    "        predictions[1][k] = θ_k[1]'*ϕx\n",
    "        # predictions[2][k] = ϕx'*inv(θ_k[2])*ϕx + inv(τ_k[1]/τ_k[2])\n",
    "\n",
    "        # Compute prediction error\n",
    "        errors[k] = output_trn[k] - predictions[1][k]\n",
    "        \n",
    "        # Set data \n",
    "        data = Dict(:y_k => output_trn[k],\n",
    "                    :u_k => input_trn[k],\n",
    "                    :u_kmin1 => u_kmin1,\n",
    "                    :y_kmin1 => y_kmin1,\n",
    "                    :e_kmin1 => e_kmin1,\n",
    "                    :m_θ => θ_k[1],\n",
    "                    :w_θ => θ_k[2],\n",
    "                    :a_τ => τ_k[1],\n",
    "                    :b_τ => τ_k[2])\n",
    "        \n",
    "        # Iterate updates\n",
    "        for n = 1:num_iters\n",
    "            \n",
    "            # Compute free energy\n",
    "            if computeFE\n",
    "                Fq[ii,n] = freeEnergy(data,marginals)\n",
    "            end\n",
    "            \n",
    "            # Update parameters\n",
    "            stepθ!(data, marginals)\n",
    "            stepτ!(data, marginals)\n",
    "            \n",
    "        end \n",
    "        \n",
    "        # Update params\n",
    "        θ_k = (unsafeMean(marginals[:θ]), unsafePrecision(marginals[:θ]))\n",
    "        τ_k = (marginals[:τ].params[:a], marginals[:τ].params[:b])\n",
    "        \n",
    "        # Store params\n",
    "        params_θ[1][ii,:] = θ_k[1]\n",
    "        params_θ[2][ii,:,:] = θ_k[2]\n",
    "        params_τ[1][ii] = τ_k[1]\n",
    "        params_τ[2][ii] = τ_k[2]\n",
    "        \n",
    "    end\n",
    "\n",
    "    \"1-step ahead prediction\"\n",
    "    \n",
    "    # Prepare array\n",
    "    predictions = (zeros(T_tst,), zeros(T_tst,))\n",
    "    errors = zeros(T_tst,)\n",
    "\n",
    "    for k in maxM+1:T_tst\n",
    "        \n",
    "        # Update history vectors\n",
    "        u_kmin1 = input_tst[k-1:-1:k-M1]\n",
    "        y_kmin1 = output_tst[k-1:-1:k-M2]\n",
    "        e_kmin1 = errors[k-1:-1:k-M3]\n",
    "            \n",
    "        # Posterior predictive\n",
    "        ϕx = ϕ([input_tst[k]; u_kmin1; y_kmin1; e_kmin1])\n",
    "        predictions[1][k] = θ_k[1]'*ϕx\n",
    "        # predictions[2][k] = ϕx'*inv(θ_k[2])*ϕx + inv(τ_k[1] / τ_k[2])\n",
    "\n",
    "        # Update error\n",
    "        errors[k] = output_tst[k] - predictions[1][k]\n",
    "        \n",
    "    end\n",
    "\n",
    "    \"Simulation\"\n",
    "\n",
    "    # Prepare array\n",
    "    simulations = (zeros(T_tst,), zeros(T_tst,))\n",
    "\n",
    "    for k in maxM+1:T_tst\n",
    "        \n",
    "        # Update history vectors\n",
    "        u_kmin1 = input_tst[k-1:-1:k-M1]\n",
    "        y_kmin1 = simulations[1][k-1:-1:k-M2]\n",
    "        e_kmin1 = zeros(M3,)\n",
    "            \n",
    "        # Posterior predictive\n",
    "        ϕx = ϕ([input_tst[k]; u_kmin1; y_kmin1; e_kmin1])\n",
    "        simulations[1][k] = θ_k[1]'*ϕx\n",
    "        # simulations[2][k] = ϕx'*inv(θ_k[2])*ϕx + inv(τ_k[1] / τ_k[2])\n",
    "        \n",
    "    end\n",
    "\n",
    "    \"Evaluation\"\n",
    "\n",
    "    # Compute root mean square error\n",
    "    RMS_prd = sqrt(mean((predictions[1][maxM+1:end] - output_tst[maxM+1:end]).^2))\n",
    "    RMS_sim = sqrt(mean((simulations[1][maxM+1:end] - output_tst[maxM+1:end]).^2))\n",
    "\n",
    "    if computeFE\n",
    "        return RMS_sim, RMS_prd, Fq\n",
    "    else\n",
    "        return RMS_sim, RMS_prd, simulations, predictions\n",
    "    end\n",
    "end"
   ]
  },
  {
   "cell_type": "code",
   "execution_count": 50,
   "metadata": {},
   "outputs": [
    {
     "data": {
      "text/plain": [
       "experiment_RLS (generic function with 1 method)"
      ]
     },
     "execution_count": 50,
     "metadata": {},
     "output_type": "execute_result"
    }
   ],
   "source": [
    "function experiment_RLS(input_trn, output_trn, input_tst, output_tst, ϕ; M1=1, M2=1, M3=1, N=1, λ=1.00)\n",
    "    \n",
    "    # Maximum delay\n",
    "    maxM = maximum([M1,M2,M3])\n",
    "\n",
    "    # Zero-padding of signals\n",
    "    input_trn = [zeros(maxM,); input_trn]\n",
    "    input_tst = [zeros(maxM,); input_tst]\n",
    "    output_trn = [zeros(maxM,); output_trn]\n",
    "    output_tst = [zeros(maxM,); output_tst]\n",
    "\n",
    "    # Signal splits\n",
    "    T_trn = length(input_trn)\n",
    "    T_tst = length(input_tst)\n",
    "\n",
    "    # Parameters\n",
    "    P = λ.*Matrix{Float64}(I,N,N)\n",
    "    w_k = zeros(N,)\n",
    "\n",
    "    # Preallocate prediction array\n",
    "    predictions = zeros(T_trn,)\n",
    "    errors = zeros(T_trn,)\n",
    "\n",
    "    for (ii,k) in enumerate(maxM+1:T_trn)\n",
    "\n",
    "        # Update history vectors\n",
    "        u_kmin1 = input_trn[k-1:-1:k-M1]\n",
    "        y_kmin1 = output_trn[k-1:-1:k-M2]\n",
    "        e_kmin1 = errors[k-1:-1:k-M3]\n",
    "        \n",
    "        # Update data vector\n",
    "        ϕx = ϕ([input_trn[k]; u_kmin1; y_kmin1; e_kmin1])\n",
    "        \n",
    "        # Update weights\n",
    "        α = output_trn[k] - w_k'*ϕx \n",
    "        g = P*ϕx*inv(λ + ϕx'*P*ϕx)\n",
    "        P = inv(λ)*P - g*ϕx'*inv(λ)*P\n",
    "        w_k = w_k + α*g\n",
    "        \n",
    "        # Prediction\n",
    "        predictions[k] = w_k'*ϕx\n",
    "        errors[k] = output_trn[k] - predictions[k]\n",
    "        \n",
    "    end\n",
    "\n",
    "    \"1-step ahead prediction\"\n",
    "    \n",
    "    # Prepare array\n",
    "    predictions = zeros(T_tst,)\n",
    "    errors = zeros(T_tst,)\n",
    "\n",
    "    for k in maxM+1:T_tst\n",
    "        \n",
    "        # Update history vectors\n",
    "        u_kmin1 = input_tst[k-1:-1:k-M1]\n",
    "        y_kmin1 = output_tst[k-1:-1:k-M2]\n",
    "        e_kmin1 = errors[k-1:-1:k-M3]\n",
    "            \n",
    "        # Posterior predictive\n",
    "        ϕx = ϕ([input_tst[k]; u_kmin1; y_kmin1; e_kmin1])\n",
    "        predictions[k] = w_k'*ϕx\n",
    "\n",
    "        # Update error\n",
    "        errors[k] = output_tst[k] - predictions[k]\n",
    "        \n",
    "    end\n",
    "\n",
    "    \"Simulation\"\n",
    "\n",
    "    # Prepare array\n",
    "    simulations = zeros(T_tst,)\n",
    "\n",
    "    for k in maxM+1:T_tst\n",
    "        \n",
    "        # Update history vectors\n",
    "        u_kmin1 = input_tst[k-1:-1:k-M1]\n",
    "        y_kmin1 = simulations[k-1:-1:k-M2]\n",
    "        e_kmin1 = zeros(M3,)\n",
    "            \n",
    "        # Posterior predictive\n",
    "        ϕx = ϕ([input_tst[k]; u_kmin1; y_kmin1; e_kmin1])\n",
    "        simulations[k] = w_k'*ϕx\n",
    "        \n",
    "    end\n",
    "\n",
    "    \"Evaluation\"\n",
    "\n",
    "    # Compute root mean square error\n",
    "    RMS_prd = sqrt(mean((predictions[maxM+1:end] - output_tst[maxM+1:end]).^2))\n",
    "    RMS_sim = sqrt(mean((simulations[maxM+1:end] - output_tst[maxM+1:end]).^2))\n",
    "\n",
    "    return RMS_sim, RMS_prd, simulations, predictions\n",
    "end"
   ]
  },
  {
   "cell_type": "code",
   "execution_count": 51,
   "metadata": {},
   "outputs": [],
   "source": [
    "\n",
    "df = DataFrame(CSV.File(\"../datasets/cascadedtanks/dataBenchmark.csv\"))[1:1000, :];\n",
    "u_train, u_val, y_train, y_val = df[:,1], df[:,2], df[:,3], df[:,4]\n",
    "\n",
    "# normalization\n",
    "m_y, s_y = mean(y_train), std(y_train)\n",
    "m_u, s_u = mean(u_train), std(u_train)\n",
    "output_trn = (y_train .- m_y) ./ s_y\n",
    "output_val = (y_val .- m_y) ./ s_y\n",
    "input_trn = (u_train .- m_u) ./ s_u\n",
    "input_val = (u_val .- m_u) ./ s_u;"
   ]
  },
  {
   "cell_type": "code",
   "execution_count": 72,
   "metadata": {},
   "outputs": [
    {
     "data": {
      "text/plain": [
       "41"
      ]
     },
     "execution_count": 72,
     "metadata": {},
     "output_type": "execute_result"
    }
   ],
   "source": [
    "# find order\n",
    "M1, M2, M3 = 3, 3, 3\n",
    "poly_order = 2\n",
    "options = Dict(\"na\"=>M1, \"nb\"=>M2, \"ne\"=>M3, \"nd\"=>poly_order, \"dc\"=>false, \"crossTerms\"=>true, \"noiseCrossTerms\"=>false)\n",
    "\n",
    "PΦ = gen_combs(options)\n",
    "ϕ_fl(x::Array{Float64,1}) = [prod(x.^PΦ[:,k]) for k = 1:size(PΦ,2)]\n",
    "N = size(PΦ,2)"
   ]
  },
  {
   "cell_type": "code",
   "execution_count": 61,
   "metadata": {},
   "outputs": [
    {
     "data": {
      "text/plain": [
       "freeEnergy (generic function with 1 method)"
      ]
     },
     "execution_count": 61,
     "metadata": {},
     "output_type": "execute_result"
    }
   ],
   "source": [
    "# Specify model and compile update functions\n",
    "source_code = model_specification(ϕ_fl, M1=M1, M2=M2, M3=M3, N=N)\n",
    "eval(Meta.parse(source_code))"
   ]
  },
  {
   "cell_type": "code",
   "execution_count": 67,
   "metadata": {},
   "outputs": [
    {
     "data": {
      "text/plain": [
       "1.0"
      ]
     },
     "execution_count": 67,
     "metadata": {},
     "output_type": "execute_result"
    }
   ],
   "source": [
    "# Initialize priors\n",
    "priors = Dict(\"θ\" => (zeros(N,), Matrix{Float64}(I,N,N)), \n",
    "              \"τ\" => (1.0, 1.0))\n",
    "prior_mτ = priors[\"τ\"][1] ./ priors[\"τ\"][2]  "
   ]
  },
  {
   "cell_type": "code",
   "execution_count": 68,
   "metadata": {},
   "outputs": [
    {
     "data": {
      "text/plain": [
       "(0.31769147906192136, 0.037273131985559774, ([0.0, 0.0, 0.0, 0.0, 0.0, 0.2435264245000051, 0.05877629787871336, -0.21542473807445295, -0.1444230955907651, 0.18661827106059084  …  -1.9202284885088243, -1.925290743539318, -1.9267790432080265, -1.9249248570029793, -1.9199409372301757, -1.9119341239108065, -1.9009503890072088, -1.8869160381827335, -1.8696909912866604, -1.8490635617431925], [0.0, 0.0, 0.0, 0.0, 0.0, 0.0, 0.0, 0.0, 0.0, 0.0  …  0.0, 0.0, 0.0, 0.0, 0.0, 0.0, 0.0, 0.0, 0.0, 0.0]), ([0.0, 0.0, 0.0, 0.0, 0.0, 0.2435264245000051, -0.4008630634580763, -0.7958135765044712, -0.4291420586855318, 0.2526571504403046  …  -1.4535029863186524, -1.4298474963339411, -1.3893780508561682, -1.3683609651039885, -1.3402976760117535, -1.3389934263876324, -1.3151796591559377, -1.2777458282408665, -1.2360497730900488, -1.1991413654066634], [0.0, 0.0, 0.0, 0.0, 0.0, 0.0, 0.0, 0.0, 0.0, 0.0  …  0.0, 0.0, 0.0, 0.0, 0.0, 0.0, 0.0, 0.0, 0.0, 0.0]))"
      ]
     },
     "execution_count": 68,
     "metadata": {},
     "output_type": "execute_result"
    }
   ],
   "source": [
    "rms_sim, rms_pred, sim, pred = experiment_FEM(input_trn, output_trn, input_val, output_val, ϕ_fl, priors, M1=M1, M2=M2, M3=M3, N=N, num_iters=10, computeFE=false)"
   ]
  },
  {
   "cell_type": "code",
   "execution_count": 69,
   "metadata": {},
   "outputs": [
    {
     "data": {
      "image/svg+xml": "<?xml version=\"1.0\" encoding=\"utf-8\"?>\n<svg xmlns=\"http://www.w3.org/2000/svg\" xmlns:xlink=\"http://www.w3.org/1999/xlink\" width=\"600\" height=\"400\" viewBox=\"0 0 2400 1600\">\n<defs>\n  <clipPath id=\"clip870\">\n    <rect x=\"0\" y=\"0\" width=\"2400\" height=\"1600\"/>\n  </clipPath>\n</defs>\n<path clip-path=\"url(#clip870)\" d=\"\nM0 1600 L2400 1600 L2400 0 L0 0  Z\n  \" fill=\"#ffffff\" fill-rule=\"evenodd\" fill-opacity=\"1\"/>\n<defs>\n  <clipPath id=\"clip871\">\n    <rect x=\"480\" y=\"0\" width=\"1681\" height=\"1600\"/>\n  </clipPath>\n</defs>\n<path clip-path=\"url(#clip870)\" d=\"\nM148.057 1486.45 L2352.76 1486.45 L2352.76 123.472 L148.057 123.472  Z\n  \" fill=\"#ffffff\" fill-rule=\"evenodd\" fill-opacity=\"1\"/>\n<defs>\n  <clipPath id=\"clip872\">\n    <rect x=\"148\" y=\"123\" width=\"2206\" height=\"1364\"/>\n  </clipPath>\n</defs>\n<polyline clip-path=\"url(#clip872)\" style=\"stroke:#000000; stroke-linecap:butt; stroke-linejoin:round; stroke-width:2; stroke-opacity:0.1; fill:none\" points=\"\n  587.231,1486.45 587.231,123.472 \n  \"/>\n<polyline clip-path=\"url(#clip872)\" style=\"stroke:#000000; stroke-linecap:butt; stroke-linejoin:round; stroke-width:2; stroke-opacity:0.1; fill:none\" points=\"\n  1028.61,1486.45 1028.61,123.472 \n  \"/>\n<polyline clip-path=\"url(#clip872)\" style=\"stroke:#000000; stroke-linecap:butt; stroke-linejoin:round; stroke-width:2; stroke-opacity:0.1; fill:none\" points=\"\n  1469.99,1486.45 1469.99,123.472 \n  \"/>\n<polyline clip-path=\"url(#clip872)\" style=\"stroke:#000000; stroke-linecap:butt; stroke-linejoin:round; stroke-width:2; stroke-opacity:0.1; fill:none\" points=\"\n  1911.37,1486.45 1911.37,123.472 \n  \"/>\n<polyline clip-path=\"url(#clip872)\" style=\"stroke:#000000; stroke-linecap:butt; stroke-linejoin:round; stroke-width:2; stroke-opacity:0.1; fill:none\" points=\"\n  2352.76,1486.45 2352.76,123.472 \n  \"/>\n<polyline clip-path=\"url(#clip870)\" style=\"stroke:#000000; stroke-linecap:butt; stroke-linejoin:round; stroke-width:4; stroke-opacity:1; fill:none\" points=\"\n  148.057,1486.45 2352.76,1486.45 \n  \"/>\n<polyline clip-path=\"url(#clip870)\" style=\"stroke:#000000; stroke-linecap:butt; stroke-linejoin:round; stroke-width:4; stroke-opacity:1; fill:none\" points=\"\n  587.231,1486.45 587.231,1467.55 \n  \"/>\n<polyline clip-path=\"url(#clip870)\" style=\"stroke:#000000; stroke-linecap:butt; stroke-linejoin:round; stroke-width:4; stroke-opacity:1; fill:none\" points=\"\n  1028.61,1486.45 1028.61,1467.55 \n  \"/>\n<polyline clip-path=\"url(#clip870)\" style=\"stroke:#000000; stroke-linecap:butt; stroke-linejoin:round; stroke-width:4; stroke-opacity:1; fill:none\" points=\"\n  1469.99,1486.45 1469.99,1467.55 \n  \"/>\n<polyline clip-path=\"url(#clip870)\" style=\"stroke:#000000; stroke-linecap:butt; stroke-linejoin:round; stroke-width:4; stroke-opacity:1; fill:none\" points=\"\n  1911.37,1486.45 1911.37,1467.55 \n  \"/>\n<polyline clip-path=\"url(#clip870)\" style=\"stroke:#000000; stroke-linecap:butt; stroke-linejoin:round; stroke-width:4; stroke-opacity:1; fill:none\" points=\"\n  2352.76,1486.45 2352.76,1467.55 \n  \"/>\n<path clip-path=\"url(#clip870)\" d=\"M550.923 1544.91 L567.243 1544.91 L567.243 1548.85 L545.298 1548.85 L545.298 1544.91 Q547.96 1542.16 552.544 1537.53 Q557.15 1532.88 558.331 1531.53 Q560.576 1529.01 561.456 1527.27 Q562.358 1525.51 562.358 1523.82 Q562.358 1521.07 560.414 1519.33 Q558.493 1517.6 555.391 1517.6 Q553.192 1517.6 550.738 1518.36 Q548.308 1519.13 545.53 1520.68 L545.53 1515.95 Q548.354 1514.82 550.808 1514.24 Q553.261 1513.66 555.298 1513.66 Q560.669 1513.66 563.863 1516.35 Q567.057 1519.03 567.057 1523.52 Q567.057 1525.65 566.247 1527.57 Q565.46 1529.47 563.354 1532.07 Q562.775 1532.74 559.673 1535.95 Q556.571 1539.15 550.923 1544.91 Z\" fill=\"#000000\" fill-rule=\"evenodd\" fill-opacity=\"1\" /><path clip-path=\"url(#clip870)\" d=\"M587.057 1517.37 Q583.446 1517.37 581.618 1520.93 Q579.812 1524.47 579.812 1531.6 Q579.812 1538.71 581.618 1542.27 Q583.446 1545.82 587.057 1545.82 Q590.692 1545.82 592.497 1542.27 Q594.326 1538.71 594.326 1531.6 Q594.326 1524.47 592.497 1520.93 Q590.692 1517.37 587.057 1517.37 M587.057 1513.66 Q592.867 1513.66 595.923 1518.27 Q599.002 1522.85 599.002 1531.6 Q599.002 1540.33 595.923 1544.94 Q592.867 1549.52 587.057 1549.52 Q581.247 1549.52 578.168 1544.94 Q575.113 1540.33 575.113 1531.6 Q575.113 1522.85 578.168 1518.27 Q581.247 1513.66 587.057 1513.66 Z\" fill=\"#000000\" fill-rule=\"evenodd\" fill-opacity=\"1\" /><path clip-path=\"url(#clip870)\" d=\"M617.219 1517.37 Q613.608 1517.37 611.779 1520.93 Q609.974 1524.47 609.974 1531.6 Q609.974 1538.71 611.779 1542.27 Q613.608 1545.82 617.219 1545.82 Q620.853 1545.82 622.659 1542.27 Q624.488 1538.71 624.488 1531.6 Q624.488 1524.47 622.659 1520.93 Q620.853 1517.37 617.219 1517.37 M617.219 1513.66 Q623.029 1513.66 626.085 1518.27 Q629.164 1522.85 629.164 1531.6 Q629.164 1540.33 626.085 1544.94 Q623.029 1549.52 617.219 1549.52 Q611.409 1549.52 608.33 1544.94 Q605.275 1540.33 605.275 1531.6 Q605.275 1522.85 608.33 1518.27 Q611.409 1513.66 617.219 1513.66 Z\" fill=\"#000000\" fill-rule=\"evenodd\" fill-opacity=\"1\" /><path clip-path=\"url(#clip870)\" d=\"M1001.7 1518.36 L989.897 1536.81 L1001.7 1536.81 L1001.7 1518.36 M1000.48 1514.29 L1006.36 1514.29 L1006.36 1536.81 L1011.29 1536.81 L1011.29 1540.7 L1006.36 1540.7 L1006.36 1548.85 L1001.7 1548.85 L1001.7 1540.7 L986.101 1540.7 L986.101 1536.19 L1000.48 1514.29 Z\" fill=\"#000000\" fill-rule=\"evenodd\" fill-opacity=\"1\" /><path clip-path=\"url(#clip870)\" d=\"M1029.02 1517.37 Q1025.41 1517.37 1023.58 1520.93 Q1021.77 1524.47 1021.77 1531.6 Q1021.77 1538.71 1023.58 1542.27 Q1025.41 1545.82 1029.02 1545.82 Q1032.65 1545.82 1034.46 1542.27 Q1036.29 1538.71 1036.29 1531.6 Q1036.29 1524.47 1034.46 1520.93 Q1032.65 1517.37 1029.02 1517.37 M1029.02 1513.66 Q1034.83 1513.66 1037.88 1518.27 Q1040.96 1522.85 1040.96 1531.6 Q1040.96 1540.33 1037.88 1544.94 Q1034.83 1549.52 1029.02 1549.52 Q1023.21 1549.52 1020.13 1544.94 Q1017.07 1540.33 1017.07 1531.6 Q1017.07 1522.85 1020.13 1518.27 Q1023.21 1513.66 1029.02 1513.66 Z\" fill=\"#000000\" fill-rule=\"evenodd\" fill-opacity=\"1\" /><path clip-path=\"url(#clip870)\" d=\"M1059.18 1517.37 Q1055.57 1517.37 1053.74 1520.93 Q1051.93 1524.47 1051.93 1531.6 Q1051.93 1538.71 1053.74 1542.27 Q1055.57 1545.82 1059.18 1545.82 Q1062.81 1545.82 1064.62 1542.27 Q1066.45 1538.71 1066.45 1531.6 Q1066.45 1524.47 1064.62 1520.93 Q1062.81 1517.37 1059.18 1517.37 M1059.18 1513.66 Q1064.99 1513.66 1068.04 1518.27 Q1071.12 1522.85 1071.12 1531.6 Q1071.12 1540.33 1068.04 1544.94 Q1064.99 1549.52 1059.18 1549.52 Q1053.37 1549.52 1050.29 1544.94 Q1047.23 1540.33 1047.23 1531.6 Q1047.23 1522.85 1050.29 1518.27 Q1053.37 1513.66 1059.18 1513.66 Z\" fill=\"#000000\" fill-rule=\"evenodd\" fill-opacity=\"1\" /><path clip-path=\"url(#clip870)\" d=\"M1440.32 1529.7 Q1437.17 1529.7 1435.32 1531.86 Q1433.49 1534.01 1433.49 1537.76 Q1433.49 1541.49 1435.32 1543.66 Q1437.17 1545.82 1440.32 1545.82 Q1443.47 1545.82 1445.29 1543.66 Q1447.15 1541.49 1447.15 1537.76 Q1447.15 1534.01 1445.29 1531.86 Q1443.47 1529.7 1440.32 1529.7 M1449.6 1515.05 L1449.6 1519.31 Q1447.84 1518.48 1446.04 1518.04 Q1444.25 1517.6 1442.49 1517.6 Q1437.86 1517.6 1435.41 1520.72 Q1432.98 1523.85 1432.63 1530.17 Q1434 1528.15 1436.06 1527.09 Q1438.12 1526 1440.6 1526 Q1445.8 1526 1448.81 1529.17 Q1451.85 1532.32 1451.85 1537.76 Q1451.85 1543.08 1448.7 1546.3 Q1445.55 1549.52 1440.32 1549.52 Q1434.32 1549.52 1431.15 1544.94 Q1427.98 1540.33 1427.98 1531.6 Q1427.98 1523.41 1431.87 1518.55 Q1435.76 1513.66 1442.31 1513.66 Q1444.07 1513.66 1445.85 1514.01 Q1447.66 1514.36 1449.6 1515.05 Z\" fill=\"#000000\" fill-rule=\"evenodd\" fill-opacity=\"1\" /><path clip-path=\"url(#clip870)\" d=\"M1469.9 1517.37 Q1466.29 1517.37 1464.46 1520.93 Q1462.66 1524.47 1462.66 1531.6 Q1462.66 1538.71 1464.46 1542.27 Q1466.29 1545.82 1469.9 1545.82 Q1473.54 1545.82 1475.34 1542.27 Q1477.17 1538.71 1477.17 1531.6 Q1477.17 1524.47 1475.34 1520.93 Q1473.54 1517.37 1469.9 1517.37 M1469.9 1513.66 Q1475.71 1513.66 1478.77 1518.27 Q1481.85 1522.85 1481.85 1531.6 Q1481.85 1540.33 1478.77 1544.94 Q1475.71 1549.52 1469.9 1549.52 Q1464.09 1549.52 1461.01 1544.94 Q1457.96 1540.33 1457.96 1531.6 Q1457.96 1522.85 1461.01 1518.27 Q1464.09 1513.66 1469.9 1513.66 Z\" fill=\"#000000\" fill-rule=\"evenodd\" fill-opacity=\"1\" /><path clip-path=\"url(#clip870)\" d=\"M1500.06 1517.37 Q1496.45 1517.37 1494.62 1520.93 Q1492.82 1524.47 1492.82 1531.6 Q1492.82 1538.71 1494.62 1542.27 Q1496.45 1545.82 1500.06 1545.82 Q1503.7 1545.82 1505.5 1542.27 Q1507.33 1538.71 1507.33 1531.6 Q1507.33 1524.47 1505.5 1520.93 Q1503.7 1517.37 1500.06 1517.37 M1500.06 1513.66 Q1505.87 1513.66 1508.93 1518.27 Q1512.01 1522.85 1512.01 1531.6 Q1512.01 1540.33 1508.93 1544.94 Q1505.87 1549.52 1500.06 1549.52 Q1494.25 1549.52 1491.17 1544.94 Q1488.12 1540.33 1488.12 1531.6 Q1488.12 1522.85 1491.17 1518.27 Q1494.25 1513.66 1500.06 1513.66 Z\" fill=\"#000000\" fill-rule=\"evenodd\" fill-opacity=\"1\" /><path clip-path=\"url(#clip870)\" d=\"M1881.17 1532.44 Q1877.83 1532.44 1875.91 1534.22 Q1874.01 1536 1874.01 1539.13 Q1874.01 1542.25 1875.91 1544.03 Q1877.83 1545.82 1881.17 1545.82 Q1884.5 1545.82 1886.42 1544.03 Q1888.34 1542.23 1888.34 1539.13 Q1888.34 1536 1886.42 1534.22 Q1884.52 1532.44 1881.17 1532.44 M1876.49 1530.45 Q1873.48 1529.7 1871.79 1527.64 Q1870.12 1525.58 1870.12 1522.62 Q1870.12 1518.48 1873.06 1516.07 Q1876.03 1513.66 1881.17 1513.66 Q1886.33 1513.66 1889.27 1516.07 Q1892.21 1518.48 1892.21 1522.62 Q1892.21 1525.58 1890.52 1527.64 Q1888.85 1529.7 1885.87 1530.45 Q1889.25 1531.23 1891.12 1533.52 Q1893.02 1535.82 1893.02 1539.13 Q1893.02 1544.15 1889.94 1546.83 Q1886.88 1549.52 1881.17 1549.52 Q1875.45 1549.52 1872.37 1546.83 Q1869.31 1544.15 1869.31 1539.13 Q1869.31 1535.82 1871.21 1533.52 Q1873.11 1531.23 1876.49 1530.45 M1874.78 1523.06 Q1874.78 1525.75 1876.44 1527.25 Q1878.13 1528.76 1881.17 1528.76 Q1884.18 1528.76 1885.87 1527.25 Q1887.58 1525.75 1887.58 1523.06 Q1887.58 1520.38 1885.87 1518.87 Q1884.18 1517.37 1881.17 1517.37 Q1878.13 1517.37 1876.44 1518.87 Q1874.78 1520.38 1874.78 1523.06 Z\" fill=\"#000000\" fill-rule=\"evenodd\" fill-opacity=\"1\" /><path clip-path=\"url(#clip870)\" d=\"M1911.33 1517.37 Q1907.72 1517.37 1905.89 1520.93 Q1904.08 1524.47 1904.08 1531.6 Q1904.08 1538.71 1905.89 1542.27 Q1907.72 1545.82 1911.33 1545.82 Q1914.96 1545.82 1916.77 1542.27 Q1918.6 1538.71 1918.6 1531.6 Q1918.6 1524.47 1916.77 1520.93 Q1914.96 1517.37 1911.33 1517.37 M1911.33 1513.66 Q1917.14 1513.66 1920.19 1518.27 Q1923.27 1522.85 1923.27 1531.6 Q1923.27 1540.33 1920.19 1544.94 Q1917.14 1549.52 1911.33 1549.52 Q1905.52 1549.52 1902.44 1544.94 Q1899.38 1540.33 1899.38 1531.6 Q1899.38 1522.85 1902.44 1518.27 Q1905.52 1513.66 1911.33 1513.66 Z\" fill=\"#000000\" fill-rule=\"evenodd\" fill-opacity=\"1\" /><path clip-path=\"url(#clip870)\" d=\"M1941.49 1517.37 Q1937.88 1517.37 1936.05 1520.93 Q1934.24 1524.47 1934.24 1531.6 Q1934.24 1538.71 1936.05 1542.27 Q1937.88 1545.82 1941.49 1545.82 Q1945.12 1545.82 1946.93 1542.27 Q1948.76 1538.71 1948.76 1531.6 Q1948.76 1524.47 1946.93 1520.93 Q1945.12 1517.37 1941.49 1517.37 M1941.49 1513.66 Q1947.3 1513.66 1950.36 1518.27 Q1953.43 1522.85 1953.43 1531.6 Q1953.43 1540.33 1950.36 1544.94 Q1947.3 1549.52 1941.49 1549.52 Q1935.68 1549.52 1932.6 1544.94 Q1929.55 1540.33 1929.55 1531.6 Q1929.55 1522.85 1932.6 1518.27 Q1935.68 1513.66 1941.49 1513.66 Z\" fill=\"#000000\" fill-rule=\"evenodd\" fill-opacity=\"1\" /><path clip-path=\"url(#clip870)\" d=\"M2297.28 1544.91 L2304.92 1544.91 L2304.92 1518.55 L2296.61 1520.21 L2296.61 1515.95 L2304.87 1514.29 L2309.55 1514.29 L2309.55 1544.91 L2317.19 1544.91 L2317.19 1548.85 L2297.28 1548.85 L2297.28 1544.91 Z\" fill=\"#000000\" fill-rule=\"evenodd\" fill-opacity=\"1\" /><path clip-path=\"url(#clip870)\" d=\"M2336.63 1517.37 Q2333.02 1517.37 2331.19 1520.93 Q2329.39 1524.47 2329.39 1531.6 Q2329.39 1538.71 2331.19 1542.27 Q2333.02 1545.82 2336.63 1545.82 Q2340.27 1545.82 2342.07 1542.27 Q2343.9 1538.71 2343.9 1531.6 Q2343.9 1524.47 2342.07 1520.93 Q2340.27 1517.37 2336.63 1517.37 M2336.63 1513.66 Q2342.44 1513.66 2345.5 1518.27 Q2348.58 1522.85 2348.58 1531.6 Q2348.58 1540.33 2345.5 1544.94 Q2342.44 1549.52 2336.63 1549.52 Q2330.82 1549.52 2327.74 1544.94 Q2324.69 1540.33 2324.69 1531.6 Q2324.69 1522.85 2327.74 1518.27 Q2330.82 1513.66 2336.63 1513.66 Z\" fill=\"#000000\" fill-rule=\"evenodd\" fill-opacity=\"1\" /><path clip-path=\"url(#clip870)\" d=\"M2366.8 1517.37 Q2363.18 1517.37 2361.36 1520.93 Q2359.55 1524.47 2359.55 1531.6 Q2359.55 1538.71 2361.36 1542.27 Q2363.18 1545.82 2366.8 1545.82 Q2370.43 1545.82 2372.23 1542.27 Q2374.06 1538.71 2374.06 1531.6 Q2374.06 1524.47 2372.23 1520.93 Q2370.43 1517.37 2366.8 1517.37 M2366.8 1513.66 Q2372.61 1513.66 2375.66 1518.27 Q2378.74 1522.85 2378.74 1531.6 Q2378.74 1540.33 2375.66 1544.94 Q2372.61 1549.52 2366.8 1549.52 Q2360.99 1549.52 2357.91 1544.94 Q2354.85 1540.33 2354.85 1531.6 Q2354.85 1522.85 2357.91 1518.27 Q2360.99 1513.66 2366.8 1513.66 Z\" fill=\"#000000\" fill-rule=\"evenodd\" fill-opacity=\"1\" /><path clip-path=\"url(#clip870)\" d=\"M2396.96 1517.37 Q2393.35 1517.37 2391.52 1520.93 Q2389.71 1524.47 2389.71 1531.6 Q2389.71 1538.71 2391.52 1542.27 Q2393.35 1545.82 2396.96 1545.82 Q2400.59 1545.82 2402.4 1542.27 Q2404.23 1538.71 2404.23 1531.6 Q2404.23 1524.47 2402.4 1520.93 Q2400.59 1517.37 2396.96 1517.37 M2396.96 1513.66 Q2402.77 1513.66 2405.82 1518.27 Q2408.9 1522.85 2408.9 1531.6 Q2408.9 1540.33 2405.82 1544.94 Q2402.77 1549.52 2396.96 1549.52 Q2391.15 1549.52 2388.07 1544.94 Q2385.01 1540.33 2385.01 1531.6 Q2385.01 1522.85 2388.07 1518.27 Q2391.15 1513.66 2396.96 1513.66 Z\" fill=\"#000000\" fill-rule=\"evenodd\" fill-opacity=\"1\" /><polyline clip-path=\"url(#clip872)\" style=\"stroke:#000000; stroke-linecap:butt; stroke-linejoin:round; stroke-width:2; stroke-opacity:0.1; fill:none\" points=\"\n  148.057,1486.45 2352.76,1486.45 \n  \"/>\n<polyline clip-path=\"url(#clip872)\" style=\"stroke:#000000; stroke-linecap:butt; stroke-linejoin:round; stroke-width:2; stroke-opacity:0.1; fill:none\" points=\"\n  148.057,1259.29 2352.76,1259.29 \n  \"/>\n<polyline clip-path=\"url(#clip872)\" style=\"stroke:#000000; stroke-linecap:butt; stroke-linejoin:round; stroke-width:2; stroke-opacity:0.1; fill:none\" points=\"\n  148.057,1032.12 2352.76,1032.12 \n  \"/>\n<polyline clip-path=\"url(#clip872)\" style=\"stroke:#000000; stroke-linecap:butt; stroke-linejoin:round; stroke-width:2; stroke-opacity:0.1; fill:none\" points=\"\n  148.057,804.96 2352.76,804.96 \n  \"/>\n<polyline clip-path=\"url(#clip872)\" style=\"stroke:#000000; stroke-linecap:butt; stroke-linejoin:round; stroke-width:2; stroke-opacity:0.1; fill:none\" points=\"\n  148.057,577.797 2352.76,577.797 \n  \"/>\n<polyline clip-path=\"url(#clip872)\" style=\"stroke:#000000; stroke-linecap:butt; stroke-linejoin:round; stroke-width:2; stroke-opacity:0.1; fill:none\" points=\"\n  148.057,350.635 2352.76,350.635 \n  \"/>\n<polyline clip-path=\"url(#clip872)\" style=\"stroke:#000000; stroke-linecap:butt; stroke-linejoin:round; stroke-width:2; stroke-opacity:0.1; fill:none\" points=\"\n  148.057,123.472 2352.76,123.472 \n  \"/>\n<polyline clip-path=\"url(#clip870)\" style=\"stroke:#000000; stroke-linecap:butt; stroke-linejoin:round; stroke-width:4; stroke-opacity:1; fill:none\" points=\"\n  148.057,1486.45 148.057,123.472 \n  \"/>\n<polyline clip-path=\"url(#clip870)\" style=\"stroke:#000000; stroke-linecap:butt; stroke-linejoin:round; stroke-width:4; stroke-opacity:1; fill:none\" points=\"\n  148.057,1486.45 166.954,1486.45 \n  \"/>\n<polyline clip-path=\"url(#clip870)\" style=\"stroke:#000000; stroke-linecap:butt; stroke-linejoin:round; stroke-width:4; stroke-opacity:1; fill:none\" points=\"\n  148.057,1259.29 166.954,1259.29 \n  \"/>\n<polyline clip-path=\"url(#clip870)\" style=\"stroke:#000000; stroke-linecap:butt; stroke-linejoin:round; stroke-width:4; stroke-opacity:1; fill:none\" points=\"\n  148.057,1032.12 166.954,1032.12 \n  \"/>\n<polyline clip-path=\"url(#clip870)\" style=\"stroke:#000000; stroke-linecap:butt; stroke-linejoin:round; stroke-width:4; stroke-opacity:1; fill:none\" points=\"\n  148.057,804.96 166.954,804.96 \n  \"/>\n<polyline clip-path=\"url(#clip870)\" style=\"stroke:#000000; stroke-linecap:butt; stroke-linejoin:round; stroke-width:4; stroke-opacity:1; fill:none\" points=\"\n  148.057,577.797 166.954,577.797 \n  \"/>\n<polyline clip-path=\"url(#clip870)\" style=\"stroke:#000000; stroke-linecap:butt; stroke-linejoin:round; stroke-width:4; stroke-opacity:1; fill:none\" points=\"\n  148.057,350.635 166.954,350.635 \n  \"/>\n<polyline clip-path=\"url(#clip870)\" style=\"stroke:#000000; stroke-linecap:butt; stroke-linejoin:round; stroke-width:4; stroke-opacity:1; fill:none\" points=\"\n  148.057,123.472 166.954,123.472 \n  \"/>\n<path clip-path=\"url(#clip870)\" d=\"M50.9921 1486.9 L80.6679 1486.9 L80.6679 1490.83 L50.9921 1490.83 L50.9921 1486.9 Z\" fill=\"#000000\" fill-rule=\"evenodd\" fill-opacity=\"1\" /><path clip-path=\"url(#clip870)\" d=\"M104.927 1485.09 Q108.283 1485.81 110.158 1488.08 Q112.057 1490.35 112.057 1493.68 Q112.057 1498.8 108.538 1501.6 Q105.02 1504.4 98.5382 1504.4 Q96.3623 1504.4 94.0475 1503.96 Q91.7558 1503.54 89.3021 1502.69 L89.3021 1498.17 Q91.2465 1499.31 93.5613 1499.89 Q95.8761 1500.46 98.3993 1500.46 Q102.797 1500.46 105.089 1498.73 Q107.404 1496.99 107.404 1493.68 Q107.404 1490.63 105.251 1488.91 Q103.121 1487.18 99.3021 1487.18 L95.2743 1487.18 L95.2743 1483.33 L99.4872 1483.33 Q102.936 1483.33 104.765 1481.97 Q106.594 1480.58 106.594 1477.99 Q106.594 1475.33 104.696 1473.91 Q102.821 1472.48 99.3021 1472.48 Q97.3808 1472.48 95.1817 1472.89 Q92.9826 1473.31 90.3438 1474.19 L90.3438 1470.02 Q93.0058 1469.28 95.3206 1468.91 Q97.6585 1468.54 99.7187 1468.54 Q105.043 1468.54 108.145 1470.97 Q111.246 1473.38 111.246 1477.5 Q111.246 1480.37 109.603 1482.36 Q107.959 1484.33 104.927 1485.09 Z\" fill=\"#000000\" fill-rule=\"evenodd\" fill-opacity=\"1\" /><path clip-path=\"url(#clip870)\" d=\"M51.9412 1259.74 L81.617 1259.74 L81.617 1263.67 L51.9412 1263.67 L51.9412 1259.74 Z\" fill=\"#000000\" fill-rule=\"evenodd\" fill-opacity=\"1\" /><path clip-path=\"url(#clip870)\" d=\"M95.7373 1272.63 L112.057 1272.63 L112.057 1276.57 L90.1123 1276.57 L90.1123 1272.63 Q92.7743 1269.88 97.3576 1265.25 Q101.964 1260.59 103.145 1259.25 Q105.39 1256.73 106.27 1254.99 Q107.172 1253.23 107.172 1251.54 Q107.172 1248.79 105.228 1247.05 Q103.307 1245.32 100.205 1245.32 Q98.0058 1245.32 95.5521 1246.08 Q93.1215 1246.84 90.3438 1248.39 L90.3438 1243.67 Q93.1678 1242.54 95.6215 1241.96 Q98.0752 1241.38 100.112 1241.38 Q105.483 1241.38 108.677 1244.07 Q111.871 1246.75 111.871 1251.24 Q111.871 1253.37 111.061 1255.29 Q110.274 1257.19 108.168 1259.78 Q107.589 1260.45 104.487 1263.67 Q101.385 1266.87 95.7373 1272.63 Z\" fill=\"#000000\" fill-rule=\"evenodd\" fill-opacity=\"1\" /><path clip-path=\"url(#clip870)\" d=\"M51.5708 1032.57 L81.2466 1032.57 L81.2466 1036.51 L51.5708 1036.51 L51.5708 1032.57 Z\" fill=\"#000000\" fill-rule=\"evenodd\" fill-opacity=\"1\" /><path clip-path=\"url(#clip870)\" d=\"M92.1493 1045.47 L99.7882 1045.47 L99.7882 1019.1 L91.478 1020.77 L91.478 1016.51 L99.7419 1014.84 L104.418 1014.84 L104.418 1045.47 L112.057 1045.47 L112.057 1049.4 L92.1493 1049.4 L92.1493 1045.47 Z\" fill=\"#000000\" fill-rule=\"evenodd\" fill-opacity=\"1\" /><path clip-path=\"url(#clip870)\" d=\"M100.112 790.759 Q96.5011 790.759 94.6724 794.323 Q92.8669 797.865 92.8669 804.995 Q92.8669 812.101 94.6724 815.666 Q96.5011 819.208 100.112 819.208 Q103.746 819.208 105.552 815.666 Q107.381 812.101 107.381 804.995 Q107.381 797.865 105.552 794.323 Q103.746 790.759 100.112 790.759 M100.112 787.055 Q105.922 787.055 108.978 791.661 Q112.057 796.245 112.057 804.995 Q112.057 813.722 108.978 818.328 Q105.922 822.911 100.112 822.911 Q94.3021 822.911 91.2234 818.328 Q88.1679 813.722 88.1679 804.995 Q88.1679 796.245 91.2234 791.661 Q94.3021 787.055 100.112 787.055 Z\" fill=\"#000000\" fill-rule=\"evenodd\" fill-opacity=\"1\" /><path clip-path=\"url(#clip870)\" d=\"M92.1493 591.142 L99.7882 591.142 L99.7882 564.777 L91.478 566.443 L91.478 562.184 L99.7419 560.517 L104.418 560.517 L104.418 591.142 L112.057 591.142 L112.057 595.077 L92.1493 595.077 L92.1493 591.142 Z\" fill=\"#000000\" fill-rule=\"evenodd\" fill-opacity=\"1\" /><path clip-path=\"url(#clip870)\" d=\"M95.7373 363.98 L112.057 363.98 L112.057 367.915 L90.1123 367.915 L90.1123 363.98 Q92.7743 361.225 97.3576 356.595 Q101.964 351.943 103.145 350.6 Q105.39 348.077 106.27 346.341 Q107.172 344.582 107.172 342.892 Q107.172 340.137 105.228 338.401 Q103.307 336.665 100.205 336.665 Q98.0058 336.665 95.5521 337.429 Q93.1215 338.193 90.3438 339.744 L90.3438 335.021 Q93.1678 333.887 95.6215 333.308 Q98.0752 332.73 100.112 332.73 Q105.483 332.73 108.677 335.415 Q111.871 338.1 111.871 342.591 Q111.871 344.72 111.061 346.642 Q110.274 348.54 108.168 351.132 Q107.589 351.804 104.487 355.021 Q101.385 358.216 95.7373 363.98 Z\" fill=\"#000000\" fill-rule=\"evenodd\" fill-opacity=\"1\" /><path clip-path=\"url(#clip870)\" d=\"M104.927 122.118 Q108.283 122.836 110.158 125.104 Q112.057 127.373 112.057 130.706 Q112.057 135.822 108.538 138.623 Q105.02 141.423 98.5382 141.423 Q96.3623 141.423 94.0475 140.984 Q91.7558 140.567 89.3021 139.71 L89.3021 135.197 Q91.2465 136.331 93.5613 136.91 Q95.8761 137.488 98.3993 137.488 Q102.797 137.488 105.089 135.752 Q107.404 134.016 107.404 130.706 Q107.404 127.65 105.251 125.937 Q103.121 124.201 99.3021 124.201 L95.2743 124.201 L95.2743 120.359 L99.4872 120.359 Q102.936 120.359 104.765 118.993 Q106.594 117.604 106.594 115.012 Q106.594 112.35 104.696 110.937 Q102.821 109.502 99.3021 109.502 Q97.3808 109.502 95.1817 109.919 Q92.9826 110.336 90.3438 111.215 L90.3438 107.049 Q93.0058 106.308 95.3206 105.937 Q97.6585 105.567 99.7187 105.567 Q105.043 105.567 108.145 107.998 Q111.246 110.405 111.246 114.525 Q111.246 117.396 109.603 119.386 Q107.959 121.354 104.927 122.118 Z\" fill=\"#000000\" fill-rule=\"evenodd\" fill-opacity=\"1\" /><path clip-path=\"url(#clip870)\" d=\"M765.108 65.6895 L778.476 65.6895 L778.476 19.5497 L763.933 22.4663 L763.933 15.0127 L778.395 12.096 L786.578 12.096 L786.578 65.6895 L799.946 65.6895 L799.946 72.576 L765.108 72.576 L765.108 65.6895 Z\" fill=\"#000000\" fill-rule=\"evenodd\" fill-opacity=\"1\" /><path clip-path=\"url(#clip870)\" d=\"M811.653 46.5287 L833.487 46.5287 L833.487 53.1722 L811.653 53.1722 L811.653 46.5287 Z\" fill=\"#000000\" fill-rule=\"evenodd\" fill-opacity=\"1\" /><path clip-path=\"url(#clip870)\" d=\"M874.28 28.5427 L874.28 35.5912 Q871.12 33.9709 867.717 33.1607 Q864.315 32.3505 860.669 32.3505 Q855.119 32.3505 852.324 34.0519 Q849.569 35.7533 849.569 39.156 Q849.569 41.7486 851.554 43.2475 Q853.539 44.7058 859.535 46.0426 L862.087 46.6097 Q870.026 48.3111 873.348 51.4303 Q876.71 54.509 876.71 60.0587 Q876.71 66.3781 871.687 70.0644 Q866.705 73.7508 857.955 73.7508 Q854.309 73.7508 850.339 73.0216 Q846.41 72.3329 842.035 70.9151 L842.035 63.2184 Q846.167 65.3654 850.177 66.4591 Q854.187 67.5124 858.117 67.5124 Q863.383 67.5124 866.219 65.73 Q869.054 63.9071 869.054 60.6258 Q869.054 57.5877 866.988 55.9673 Q864.963 54.3469 858.036 52.8481 L855.443 52.2405 Q848.516 50.7821 845.437 47.7845 Q842.359 44.7463 842.359 39.4801 Q842.359 33.0797 846.896 29.5959 Q851.433 26.1121 859.778 26.1121 Q863.909 26.1121 867.555 26.7198 Q871.201 27.3274 874.28 28.5427 Z\" fill=\"#000000\" fill-rule=\"evenodd\" fill-opacity=\"1\" /><path clip-path=\"url(#clip870)\" d=\"M895.952 14.324 L895.952 27.2059 L911.305 27.2059 L911.305 32.9987 L895.952 32.9987 L895.952 57.6282 Q895.952 63.1779 897.451 64.7578 Q898.99 66.3376 903.649 66.3376 L911.305 66.3376 L911.305 72.576 L903.649 72.576 Q895.02 72.576 891.739 69.3758 Q888.458 66.1351 888.458 57.6282 L888.458 32.9987 L882.989 32.9987 L882.989 27.2059 L888.458 27.2059 L888.458 14.324 L895.952 14.324 Z\" fill=\"#000000\" fill-rule=\"evenodd\" fill-opacity=\"1\" /><path clip-path=\"url(#clip870)\" d=\"M959.916 48.0275 L959.916 51.6733 L925.645 51.6733 Q926.131 59.3701 930.263 63.421 Q934.436 67.4314 941.849 67.4314 Q946.143 67.4314 950.153 66.3781 Q954.204 65.3249 958.174 63.2184 L958.174 70.267 Q954.164 71.9684 949.951 72.8596 Q945.738 73.7508 941.403 73.7508 Q930.547 73.7508 924.187 67.4314 Q917.868 61.1119 917.868 50.3365 Q917.868 39.1965 923.863 32.6746 Q929.899 26.1121 940.107 26.1121 Q949.262 26.1121 954.569 32.0264 Q959.916 37.9003 959.916 48.0275 M952.462 45.84 Q952.381 39.7232 949.019 36.0774 Q945.697 32.4315 940.188 32.4315 Q933.95 32.4315 930.182 35.9558 Q926.455 39.4801 925.888 45.8805 L952.462 45.84 Z\" fill=\"#000000\" fill-rule=\"evenodd\" fill-opacity=\"1\" /><path clip-path=\"url(#clip870)\" d=\"M979.36 65.7705 L979.36 89.8329 L971.866 89.8329 L971.866 27.2059 L979.36 27.2059 L979.36 34.0924 Q981.71 30.0415 985.275 28.0971 Q988.88 26.1121 993.862 26.1121 Q1002.13 26.1121 1007.27 32.6746 Q1012.46 39.2371 1012.46 49.9314 Q1012.46 60.6258 1007.27 67.1883 Q1002.13 73.7508 993.862 73.7508 Q988.88 73.7508 985.275 71.8063 Q981.71 69.8214 979.36 65.7705 M1004.72 49.9314 Q1004.72 41.7081 1001.32 37.0496 Q997.954 32.3505 992.04 32.3505 Q986.125 32.3505 982.723 37.0496 Q979.36 41.7081 979.36 49.9314 Q979.36 58.1548 982.723 62.8538 Q986.125 67.5124 992.04 67.5124 Q997.954 67.5124 1001.32 62.8538 Q1004.72 58.1548 1004.72 49.9314 Z\" fill=\"#000000\" fill-rule=\"evenodd\" fill-opacity=\"1\" /><path clip-path=\"url(#clip870)\" d=\"M1071.8 49.7694 Q1062.77 49.7694 1059.28 51.8354 Q1055.8 53.9013 1055.8 58.8839 Q1055.8 62.8538 1058.39 65.2034 Q1061.03 67.5124 1065.52 67.5124 Q1071.72 67.5124 1075.45 63.1374 Q1079.22 58.7219 1079.22 51.4303 L1079.22 49.7694 L1071.8 49.7694 M1086.67 46.6907 L1086.67 72.576 L1079.22 72.576 L1079.22 65.6895 Q1076.66 69.8214 1072.86 71.8063 Q1069.05 73.7508 1063.54 73.7508 Q1056.57 73.7508 1052.44 69.8619 Q1048.35 65.9325 1048.35 59.3701 Q1048.35 51.7138 1053.45 47.825 Q1058.6 43.9361 1068.76 43.9361 L1079.22 43.9361 L1079.22 43.2069 Q1079.22 38.0623 1075.81 35.2672 Q1072.45 32.4315 1066.33 32.4315 Q1062.44 32.4315 1058.76 33.3632 Q1055.07 34.295 1051.67 36.1584 L1051.67 29.2718 Q1055.76 27.692 1059.61 26.9223 Q1063.46 26.1121 1067.1 26.1121 Q1076.95 26.1121 1081.81 31.2163 Q1086.67 36.3204 1086.67 46.6907 Z\" fill=\"#000000\" fill-rule=\"evenodd\" fill-opacity=\"1\" /><path clip-path=\"url(#clip870)\" d=\"M1139.74 45.1919 L1139.74 72.576 L1132.28 72.576 L1132.28 45.4349 Q1132.28 38.994 1129.77 35.7938 Q1127.26 32.5936 1122.24 32.5936 Q1116.2 32.5936 1112.72 36.4419 Q1109.23 40.2903 1109.23 46.9338 L1109.23 72.576 L1101.74 72.576 L1101.74 9.54393 L1109.23 9.54393 L1109.23 34.2544 Q1111.91 30.163 1115.51 28.1376 Q1119.16 26.1121 1123.9 26.1121 Q1131.71 26.1121 1135.73 30.9732 Q1139.74 35.7938 1139.74 45.1919 Z\" fill=\"#000000\" fill-rule=\"evenodd\" fill-opacity=\"1\" /><path clip-path=\"url(#clip870)\" d=\"M1193.41 48.0275 L1193.41 51.6733 L1159.14 51.6733 Q1159.63 59.3701 1163.76 63.421 Q1167.93 67.4314 1175.34 67.4314 Q1179.64 67.4314 1183.65 66.3781 Q1187.7 65.3249 1191.67 63.2184 L1191.67 70.267 Q1187.66 71.9684 1183.44 72.8596 Q1179.23 73.7508 1174.9 73.7508 Q1164.04 73.7508 1157.68 67.4314 Q1151.36 61.1119 1151.36 50.3365 Q1151.36 39.1965 1157.36 32.6746 Q1163.39 26.1121 1173.6 26.1121 Q1182.76 26.1121 1188.06 32.0264 Q1193.41 37.9003 1193.41 48.0275 M1185.96 45.84 Q1185.88 39.7232 1182.51 36.0774 Q1179.19 32.4315 1173.68 32.4315 Q1167.44 32.4315 1163.68 35.9558 Q1159.95 39.4801 1159.38 45.8805 L1185.96 45.84 Z\" fill=\"#000000\" fill-rule=\"evenodd\" fill-opacity=\"1\" /><path clip-path=\"url(#clip870)\" d=\"M1226.26 49.7694 Q1217.23 49.7694 1213.75 51.8354 Q1210.26 53.9013 1210.26 58.8839 Q1210.26 62.8538 1212.85 65.2034 Q1215.49 67.5124 1219.98 67.5124 Q1226.18 67.5124 1229.91 63.1374 Q1233.68 58.7219 1233.68 51.4303 L1233.68 49.7694 L1226.26 49.7694 M1241.13 46.6907 L1241.13 72.576 L1233.68 72.576 L1233.68 65.6895 Q1231.12 69.8214 1227.32 71.8063 Q1223.51 73.7508 1218 73.7508 Q1211.03 73.7508 1206.9 69.8619 Q1202.81 65.9325 1202.81 59.3701 Q1202.81 51.7138 1207.91 47.825 Q1213.06 43.9361 1223.22 43.9361 L1233.68 43.9361 L1233.68 43.2069 Q1233.68 38.0623 1230.27 35.2672 Q1226.91 32.4315 1220.79 32.4315 Q1216.91 32.4315 1213.22 33.3632 Q1209.53 34.295 1206.13 36.1584 L1206.13 29.2718 Q1210.22 27.692 1214.07 26.9223 Q1217.92 26.1121 1221.56 26.1121 Q1231.41 26.1121 1236.27 31.2163 Q1241.13 36.3204 1241.13 46.6907 Z\" fill=\"#000000\" fill-rule=\"evenodd\" fill-opacity=\"1\" /><path clip-path=\"url(#clip870)\" d=\"M1286.34 34.0924 L1286.34 9.54393 L1293.79 9.54393 L1293.79 72.576 L1286.34 72.576 L1286.34 65.7705 Q1283.99 69.8214 1280.38 71.8063 Q1276.82 73.7508 1271.8 73.7508 Q1263.57 73.7508 1258.39 67.1883 Q1253.24 60.6258 1253.24 49.9314 Q1253.24 39.2371 1258.39 32.6746 Q1263.57 26.1121 1271.8 26.1121 Q1276.82 26.1121 1280.38 28.0971 Q1283.99 30.0415 1286.34 34.0924 M1260.94 49.9314 Q1260.94 58.1548 1264.3 62.8538 Q1267.7 67.5124 1273.62 67.5124 Q1279.53 67.5124 1282.94 62.8538 Q1286.34 58.1548 1286.34 49.9314 Q1286.34 41.7081 1282.94 37.0496 Q1279.53 32.3505 1273.62 32.3505 Q1267.7 32.3505 1264.3 37.0496 Q1260.94 41.7081 1260.94 49.9314 Z\" fill=\"#000000\" fill-rule=\"evenodd\" fill-opacity=\"1\" /><path clip-path=\"url(#clip870)\" d=\"M1342.73 65.7705 L1342.73 89.8329 L1335.23 89.8329 L1335.23 27.2059 L1342.73 27.2059 L1342.73 34.0924 Q1345.08 30.0415 1348.64 28.0971 Q1352.25 26.1121 1357.23 26.1121 Q1365.49 26.1121 1370.64 32.6746 Q1375.82 39.2371 1375.82 49.9314 Q1375.82 60.6258 1370.64 67.1883 Q1365.49 73.7508 1357.23 73.7508 Q1352.25 73.7508 1348.64 71.8063 Q1345.08 69.8214 1342.73 65.7705 M1368.09 49.9314 Q1368.09 41.7081 1364.68 37.0496 Q1361.32 32.3505 1355.41 32.3505 Q1349.49 32.3505 1346.09 37.0496 Q1342.73 41.7081 1342.73 49.9314 Q1342.73 58.1548 1346.09 62.8538 Q1349.49 67.5124 1355.41 67.5124 Q1361.32 67.5124 1364.68 62.8538 Q1368.09 58.1548 1368.09 49.9314 Z\" fill=\"#000000\" fill-rule=\"evenodd\" fill-opacity=\"1\" /><path clip-path=\"url(#clip870)\" d=\"M1414.47 34.1734 Q1413.21 33.4443 1411.71 33.1202 Q1410.25 32.7556 1408.47 32.7556 Q1402.15 32.7556 1398.75 36.8875 Q1395.39 40.9789 1395.39 48.6757 L1395.39 72.576 L1387.89 72.576 L1387.89 27.2059 L1395.39 27.2059 L1395.39 34.2544 Q1397.74 30.1225 1401.5 28.1376 Q1405.27 26.1121 1410.66 26.1121 Q1411.43 26.1121 1412.36 26.2337 Q1413.29 26.3147 1414.43 26.5172 L1414.47 34.1734 Z\" fill=\"#000000\" fill-rule=\"evenodd\" fill-opacity=\"1\" /><path clip-path=\"url(#clip870)\" d=\"M1459.27 48.0275 L1459.27 51.6733 L1425 51.6733 Q1425.49 59.3701 1429.62 63.421 Q1433.79 67.4314 1441.2 67.4314 Q1445.5 67.4314 1449.51 66.3781 Q1453.56 65.3249 1457.53 63.2184 L1457.53 70.267 Q1453.52 71.9684 1449.31 72.8596 Q1445.09 73.7508 1440.76 73.7508 Q1429.9 73.7508 1423.54 67.4314 Q1417.22 61.1119 1417.22 50.3365 Q1417.22 39.1965 1423.22 32.6746 Q1429.25 26.1121 1439.46 26.1121 Q1448.62 26.1121 1453.92 32.0264 Q1459.27 37.9003 1459.27 48.0275 M1451.82 45.84 Q1451.74 39.7232 1448.37 36.0774 Q1445.05 32.4315 1439.54 32.4315 Q1433.3 32.4315 1429.54 35.9558 Q1425.81 39.4801 1425.24 45.8805 L1451.82 45.84 Z\" fill=\"#000000\" fill-rule=\"evenodd\" fill-opacity=\"1\" /><path clip-path=\"url(#clip870)\" d=\"M1501.36 34.0924 L1501.36 9.54393 L1508.81 9.54393 L1508.81 72.576 L1501.36 72.576 L1501.36 65.7705 Q1499.01 69.8214 1495.4 71.8063 Q1491.84 73.7508 1486.82 73.7508 Q1478.59 73.7508 1473.41 67.1883 Q1468.26 60.6258 1468.26 49.9314 Q1468.26 39.2371 1473.41 32.6746 Q1478.59 26.1121 1486.82 26.1121 Q1491.84 26.1121 1495.4 28.0971 Q1499.01 30.0415 1501.36 34.0924 M1475.96 49.9314 Q1475.96 58.1548 1479.32 62.8538 Q1482.73 67.5124 1488.64 67.5124 Q1494.55 67.5124 1497.96 62.8538 Q1501.36 58.1548 1501.36 49.9314 Q1501.36 41.7081 1497.96 37.0496 Q1494.55 32.3505 1488.64 32.3505 Q1482.73 32.3505 1479.32 37.0496 Q1475.96 41.7081 1475.96 49.9314 Z\" fill=\"#000000\" fill-rule=\"evenodd\" fill-opacity=\"1\" /><path clip-path=\"url(#clip870)\" d=\"M1524.17 27.2059 L1531.62 27.2059 L1531.62 72.576 L1524.17 72.576 L1524.17 27.2059 M1524.17 9.54393 L1531.62 9.54393 L1531.62 18.9825 L1524.17 18.9825 L1524.17 9.54393 Z\" fill=\"#000000\" fill-rule=\"evenodd\" fill-opacity=\"1\" /><path clip-path=\"url(#clip870)\" d=\"M1579.87 28.9478 L1579.87 35.9153 Q1576.71 34.1734 1573.51 33.3227 Q1570.35 32.4315 1567.11 32.4315 Q1559.85 32.4315 1555.84 37.0496 Q1551.83 41.6271 1551.83 49.9314 Q1551.83 58.2358 1555.84 62.8538 Q1559.85 67.4314 1567.11 67.4314 Q1570.35 67.4314 1573.51 66.5807 Q1576.71 65.6895 1579.87 63.9476 L1579.87 70.8341 Q1576.75 72.2924 1573.38 73.0216 Q1570.06 73.7508 1566.3 73.7508 Q1556.05 73.7508 1550.01 67.3098 Q1543.98 60.8689 1543.98 49.9314 Q1543.98 38.832 1550.05 32.472 Q1556.17 26.1121 1566.78 26.1121 Q1570.23 26.1121 1573.51 26.8413 Q1576.79 27.5299 1579.87 28.9478 Z\" fill=\"#000000\" fill-rule=\"evenodd\" fill-opacity=\"1\" /><path clip-path=\"url(#clip870)\" d=\"M1600.2 14.324 L1600.2 27.2059 L1615.55 27.2059 L1615.55 32.9987 L1600.2 32.9987 L1600.2 57.6282 Q1600.2 63.1779 1601.7 64.7578 Q1603.24 66.3376 1607.9 66.3376 L1615.55 66.3376 L1615.55 72.576 L1607.9 72.576 Q1599.27 72.576 1595.99 69.3758 Q1592.71 66.1351 1592.71 57.6282 L1592.71 32.9987 L1587.24 32.9987 L1587.24 27.2059 L1592.71 27.2059 L1592.71 14.324 L1600.2 14.324 Z\" fill=\"#000000\" fill-rule=\"evenodd\" fill-opacity=\"1\" /><path clip-path=\"url(#clip870)\" d=\"M1625.36 27.2059 L1632.81 27.2059 L1632.81 72.576 L1625.36 72.576 L1625.36 27.2059 M1625.36 9.54393 L1632.81 9.54393 L1632.81 18.9825 L1625.36 18.9825 L1625.36 9.54393 Z\" fill=\"#000000\" fill-rule=\"evenodd\" fill-opacity=\"1\" /><path clip-path=\"url(#clip870)\" d=\"M1665.99 32.4315 Q1659.99 32.4315 1656.51 37.1306 Q1653.03 41.7891 1653.03 49.9314 Q1653.03 58.0738 1656.47 62.7728 Q1659.95 67.4314 1665.99 67.4314 Q1671.94 67.4314 1675.43 62.7323 Q1678.91 58.0333 1678.91 49.9314 Q1678.91 41.8701 1675.43 37.1711 Q1671.94 32.4315 1665.99 32.4315 M1665.99 26.1121 Q1675.71 26.1121 1681.26 32.4315 Q1686.81 38.7509 1686.81 49.9314 Q1686.81 61.0714 1681.26 67.4314 Q1675.71 73.7508 1665.99 73.7508 Q1656.23 73.7508 1650.68 67.4314 Q1645.17 61.0714 1645.17 49.9314 Q1645.17 38.7509 1650.68 32.4315 Q1656.23 26.1121 1665.99 26.1121 Z\" fill=\"#000000\" fill-rule=\"evenodd\" fill-opacity=\"1\" /><path clip-path=\"url(#clip870)\" d=\"M1736.88 45.1919 L1736.88 72.576 L1729.43 72.576 L1729.43 45.4349 Q1729.43 38.994 1726.91 35.7938 Q1724.4 32.5936 1719.38 32.5936 Q1713.34 32.5936 1709.86 36.4419 Q1706.38 40.2903 1706.38 46.9338 L1706.38 72.576 L1698.88 72.576 L1698.88 27.2059 L1706.38 27.2059 L1706.38 34.2544 Q1709.05 30.163 1712.65 28.1376 Q1716.3 26.1121 1721.04 26.1121 Q1728.86 26.1121 1732.87 30.9732 Q1736.88 35.7938 1736.88 45.1919 Z\" fill=\"#000000\" fill-rule=\"evenodd\" fill-opacity=\"1\" /><polyline clip-path=\"url(#clip872)\" style=\"stroke:#009af9; stroke-linecap:butt; stroke-linejoin:round; stroke-width:4; stroke-opacity:1; fill:none\" points=\"\n  145.85,804.96 145.85,804.96 146.387,804.96 144.965,804.96 144.093,804.96 144.903,804.96 146.407,804.96 \n  145.034,804.96 145.098,804.96 145.125,804.96 145.083,804.96 145.043,804.96 144.964,804.96 144.86,804.96 144.773,804.96 144.682,804.96 144.579,804.96 \n  144.509,804.96 144.453,804.96 144.387,804.96 144.318,804.96 144.24,804.96 144.192,804.96 144.163,804.96 144.131,804.96 144.123,804.96 144.086,804.96 \n  144.1,804.96 144.057,804.96 144.037,804.96 144.025,804.96 144.044,804.96 144.023,804.96 144.049,804.96 144.053,804.96 144.019,804.96 144.053,804.96 \n  144.036,804.96 144.035,804.96 144.038,804.96 144.034,804.96 144.073,804.96 144.044,804.96 144.066,804.96 144.071,804.96 144.059,804.96 144.089,804.96 \n  144.078,804.96 144.08,804.96 144.075,804.96 144.074,804.96 144.103,804.96 144.087,804.96 144.108,804.96 144.101,804.96 144.107,804.96 144.11,804.96 \n  144.096,804.96 144.099,804.96 144.071,804.96 144.051,804.96 144.068,804.96 144.073,804.96 144.067,804.96 144.052,804.96 144.041,804.96 144.074,804.96 \n  144.082,804.96 144.064,804.96 144.069,804.96 144.033,804.96 144.047,804.96 144.056,804.96 144.069,804.96 144.084,804.96 144.077,804.96 144.087,804.96 \n  144.056,804.96 144.063,804.96 144.072,804.96 144.07,804.96 144.116,804.96 144.125,804.96 144.121,804.96 144.121,804.96 144.13,804.96 144.116,804.96 \n  144.118,804.96 144.164,804.96 144.161,804.96 144.157,804.96 144.179,804.96 144.194,804.96 144.183,804.96 144.186,804.96 144.188,804.96 144.16,804.96 \n  144.176,804.96 144.164,804.96 144.186,804.96 144.189,804.96 144.163,804.96 144.159,804.96 144.153,804.96 144.16,804.96 144.168,804.96 144.186,804.96 \n  144.176,804.96 144.161,804.96 144.154,804.96 144.144,804.96 144.154,804.96 144.158,804.96 144.129,804.96 144.152,804.96 144.122,804.96 144.138,804.96 \n  144.14,804.96 144.106,804.96 144.158,804.96 144.15,804.96 144.131,804.96 144.195,804.96 144.153,804.96 144.213,804.96 144.231,804.96 144.193,804.96 \n  144.27,804.96 144.265,804.96 144.29,804.96 144.352,804.96 144.362,804.96 144.379,804.96 144.386,804.96 144.442,804.96 144.454,804.96 144.565,804.96 \n  144.751,804.96 144.922,804.96 145.436,804.96 146.018,804.96 146.575,804.96 147.081,804.96 147.404,804.96 147.57,804.96 147.94,804.96 148.199,804.96 \n  148.579,804.96 148.967,804.96 149.294,804.96 149.581,804.96 149.782,804.96 150.065,804.96 150.193,804.96 150.422,804.96 150.377,804.96 150.307,804.96 \n  150.345,804.96 150.3,804.96 150.299,804.96 150.301,804.96 150.296,804.96 150.291,804.96 150.286,804.96 150.281,804.96 150.276,804.96 150.27,804.96 \n  150.265,804.96 150.254,804.96 150.215,804.96 150.131,804.96 150.081,804.96 149.979,804.96 149.889,804.96 149.804,804.96 149.726,804.96 149.629,804.96 \n  149.492,804.96 149.34,804.96 149.182,804.96 149.031,804.96 148.842,804.96 148.675,804.96 148.467,804.96 148.242,804.96 148.074,804.96 147.895,804.96 \n  147.702,804.96 147.524,804.96 147.336,804.96 147.173,804.96 147.026,804.96 146.857,804.96 146.667,804.96 146.428,804.96 146.192,804.96 145.948,804.96 \n  145.662,804.96 145.066,804.96 144.66,804.96 144.501,804.96 144.475,804.96 144.475,804.96 144.364,804.96 144.288,804.96 144.215,804.96 144.12,804.96 \n  144.05,804.96 144.007,804.96 143.947,804.96 143.921,804.96 143.873,804.96 143.846,804.96 143.805,804.96 143.78,804.96 143.796,804.96 143.785,804.96 \n  143.813,804.96 143.805,804.96 143.828,804.96 143.8,804.96 143.797,804.96 143.844,804.96 143.854,804.96 143.866,804.96 143.879,804.96 143.896,804.96 \n  143.895,804.96 143.905,804.96 143.918,804.96 143.932,804.96 143.954,804.96 143.96,804.96 143.993,804.96 144.014,804.96 144.017,804.96 144.006,804.96 \n  144.015,804.96 144.031,804.96 144.027,804.96 144.041,804.96 144.062,804.96 144.06,804.96 144.062,804.96 144.057,804.96 144.047,804.96 144.026,804.96 \n  144.015,804.96 144.002,804.96 143.979,804.96 143.959,804.96 143.975,804.96 143.979,804.96 143.968,804.96 143.921,804.96 143.882,804.96 143.874,804.96 \n  143.854,804.96 143.835,804.96 143.825,804.96 143.792,804.96 143.747,804.96 143.728,804.96 143.712,804.96 143.66,804.96 143.619,804.96 143.575,804.96 \n  143.544,804.96 143.503,804.96 143.472,804.96 143.469,804.96 143.44,804.96 143.419,804.96 143.403,804.96 143.411,804.96 143.411,804.96 143.378,804.96 \n  143.4,804.96 143.42,804.96 143.431,804.96 143.432,804.96 143.423,804.96 143.41,804.96 143.431,804.96 143.448,804.96 143.463,804.96 143.489,804.96 \n  143.528,804.96 143.54,804.96 143.535,804.96 143.576,804.96 143.56,804.96 143.606,804.96 143.604,804.96 143.611,804.96 143.633,804.96 143.649,804.96 \n  143.69,804.96 143.692,804.96 143.689,804.96 143.71,804.96 143.745,804.96 143.74,804.96 143.782,804.96 143.763,804.96 143.773,804.96 143.827,804.96 \n  143.844,804.96 143.883,804.96 143.862,804.96 143.895,804.96 143.887,804.96 143.89,804.96 143.942,804.96 143.972,804.96 143.972,804.96 143.952,804.96 \n  143.959,804.96 144.004,804.96 144.014,804.96 143.988,804.96 143.985,804.96 143.991,804.96 144.019,804.96 144.011,804.96 144.041,804.96 144.059,804.96 \n  144.062,804.96 144.084,804.96 144.096,804.96 144.081,804.96 144.095,804.96 144.103,804.96 144.16,804.96 144.144,804.96 144.161,804.96 144.2,804.96 \n  144.21,804.96 144.222,804.96 144.248,804.96 144.305,804.96 144.338,804.96 144.351,804.96 144.357,804.96 144.391,804.96 144.413,804.96 144.419,804.96 \n  144.488,804.96 144.486,804.96 144.532,804.96 144.644,804.96 144.643,804.96 144.778,804.96 144.844,804.96 144.896,804.96 144.977,804.96 145.057,804.96 \n  145.177,804.96 145.272,804.96 145.316,804.96 145.446,804.96 145.463,804.96 145.585,804.96 145.654,804.96 145.712,804.96 145.85,804.96 146.002,804.96 \n  146.067,804.96 146.149,804.96 146.234,804.96 146.386,804.96 146.482,804.96 146.541,804.96 146.676,804.96 146.731,804.96 146.884,804.96 146.961,804.96 \n  147.029,804.96 147.104,804.96 147.199,804.96 147.343,804.96 147.492,804.96 147.613,804.96 147.828,804.96 147.917,804.96 148.126,804.96 148.352,804.96 \n  148.409,804.96 148.574,804.96 148.795,804.96 148.871,804.96 148.961,804.96 149.131,804.96 149.234,804.96 149.253,804.96 149.368,804.96 149.472,804.96 \n  149.583,804.96 149.665,804.96 149.73,804.96 149.773,804.96 149.872,804.96 149.892,804.96 149.952,804.96 149.958,804.96 149.984,804.96 149.986,804.96 \n  149.945,804.96 149.967,804.96 149.976,804.96 149.955,804.96 149.97,804.96 149.956,804.96 149.878,804.96 149.833,804.96 149.798,804.96 149.711,804.96 \n  149.672,804.96 149.636,804.96 149.522,804.96 149.447,804.96 149.387,804.96 149.282,804.96 149.245,804.96 149.137,804.96 149.026,804.96 148.99,804.96 \n  148.889,804.96 148.771,804.96 148.66,804.96 148.6,804.96 148.526,804.96 148.412,804.96 148.292,804.96 148.218,804.96 148.138,804.96 148.083,804.96 \n  147.997,804.96 147.932,804.96 147.855,804.96 147.745,804.96 147.734,804.96 147.625,804.96 147.599,804.96 147.545,804.96 147.479,804.96 147.402,804.96 \n  147.317,804.96 147.31,804.96 147.233,804.96 147.153,804.96 147.119,804.96 147.074,804.96 146.988,804.96 146.933,804.96 146.921,804.96 146.867,804.96 \n  146.807,804.96 146.754,804.96 146.67,804.96 146.581,804.96 146.524,804.96 146.513,804.96 146.455,804.96 146.394,804.96 146.289,804.96 146.199,804.96 \n  146.163,804.96 146.069,804.96 145.968,804.96 145.861,804.96 145.758,804.96 145.69,804.96 145.262,804.96 144.982,804.96 144.892,804.96 144.907,804.96 \n  144.9,804.96 144.813,804.96 144.748,804.96 144.659,804.96 144.571,804.96 144.498,804.96 144.424,804.96 144.349,804.96 144.284,804.96 144.234,804.96 \n  144.148,804.96 144.051,804.96 143.961,804.96 143.905,804.96 143.844,804.96 143.785,804.96 143.708,804.96 143.641,804.96 143.582,804.96 143.568,804.96 \n  143.519,804.96 143.528,804.96 143.496,804.96 143.509,804.96 143.522,804.96 143.522,804.96 143.518,804.96 143.509,804.96 143.532,804.96 143.535,804.96 \n  143.564,804.96 143.608,804.96 143.607,804.96 143.662,804.96 143.707,804.96 143.695,804.96 143.725,804.96 143.815,804.96 143.855,804.96 143.886,804.96 \n  143.944,804.96 144.006,804.96 144.071,804.96 144.166,804.96 144.208,804.96 144.214,804.96 144.244,804.96 144.306,804.96 144.39,804.96 144.434,804.96 \n  144.455,804.96 144.491,804.96 144.509,804.96 144.6,804.96 144.727,804.96 144.855,804.96 145.006,804.96 145.099,804.96 145.232,804.96 145.374,804.96 \n  145.503,804.96 145.651,804.96 145.678,804.96 145.822,804.96 146.016,804.96 146.084,804.96 146.233,804.96 146.282,804.96 146.421,804.96 146.545,804.96 \n  146.638,804.96 146.714,804.96 146.774,804.96 146.809,804.96 146.864,804.96 146.964,804.96 146.955,804.96 147.005,804.96 147.011,804.96 147.002,804.96 \n  147.034,804.96 147.089,804.96 147.09,804.96 147.095,804.96 147.122,804.96 147.11,804.96 147.083,804.96 147.082,804.96 147.094,804.96 147.124,804.96 \n  147.111,804.96 147.11,804.96 147.129,804.96 147.096,804.96 147.123,804.96 147.093,804.96 147.074,804.96 147.095,804.96 147.041,804.96 147.011,804.96 \n  146.991,804.96 147.003,804.96 146.966,804.96 146.947,804.96 146.962,804.96 146.884,804.96 146.896,804.96 146.851,804.96 146.823,804.96 146.804,804.96 \n  146.773,804.96 146.764,804.96 146.75,804.96 146.719,804.96 146.681,804.96 146.675,804.96 146.652,804.96 146.61,804.96 146.539,804.96 146.507,804.96 \n  146.502,804.96 146.475,804.96 146.426,804.96 146.344,804.96 146.312,804.96 146.277,804.96 146.257,804.96 146.249,804.96 146.216,804.96 146.138,804.96 \n  146.137,804.96 146.075,804.96 146.019,804.96 146.03,804.96 145.984,804.96 145.959,804.96 145.892,804.96 145.893,804.96 145.878,804.96 145.824,804.96 \n  145.797,804.96 145.414,804.96 145.295,804.96 145.321,804.96 145.328,804.96 145.361,804.96 145.341,804.96 145.35,804.96 145.349,804.96 145.362,804.96 \n  145.364,804.96 145.317,804.96 145.332,804.96 145.327,804.96 145.309,804.96 145.372,804.96 145.329,804.96 145.361,804.96 145.37,804.96 145.321,804.96 \n  145.374,804.96 145.384,804.96 145.402,804.96 145.427,804.96 145.453,804.96 145.463,804.96 145.588,804.96 145.666,804.96 145.683,804.96 145.747,804.96 \n  145.888,804.96 145.914,804.96 146.003,804.96 146.117,804.96 146.229,804.96 146.28,804.96 146.404,804.96 146.47,804.96 146.573,804.96 146.616,804.96 \n  146.727,804.96 146.832,804.96 146.871,804.96 146.96,804.96 146.988,804.96 147.018,804.96 147.029,804.96 147.069,804.96 147.099,804.96 147.162,804.96 \n  147.197,804.96 147.204,804.96 147.206,804.96 147.18,804.96 147.186,804.96 147.188,804.96 147.165,804.96 147.139,804.96 147.138,804.96 147.132,804.96 \n  147.097,804.96 147.073,804.96 147.013,804.96 146.935,804.96 146.878,804.96 146.822,804.96 146.729,804.96 146.605,804.96 146.489,804.96 146.342,804.96 \n  146.187,804.96 146.04,804.96 145.891,804.96 145.734,804.96 145.198,804.96 144.907,804.96 144.83,804.96 144.773,804.96 144.812,804.96 144.741,804.96 \n  144.698,804.96 144.684,804.96 144.634,804.96 144.643,804.96 144.636,804.96 144.594,804.96 144.627,804.96 144.615,804.96 144.648,804.96 144.65,804.96 \n  144.67,804.96 144.662,804.96 144.704,804.96 144.743,804.96 144.749,804.96 144.827,804.96 144.881,804.96 145.126,804.96 146.094,804.96 146.758,804.96 \n  147.399,804.96 147.724,804.96 148.003,804.96 148.7,804.96 149.192,804.96 149.718,804.96 150.242,804.96 150.567,804.96 150.339,804.96 150.32,804.96 \n  150.419,804.96 150.34,804.96 150.334,804.96 150.342,804.96 150.337,804.96 150.33,804.96 150.323,804.96 150.315,804.96 150.308,804.96 150.302,804.96 \n  150.298,804.96 150.297,804.96 150.296,804.96 150.294,804.96 150.292,804.96 150.287,804.96 150.281,804.96 150.274,804.96 150.266,804.96 150.26,804.96 \n  150.254,804.96 150.251,804.96 150.209,804.96 150.168,804.96 150.094,804.96 149.987,804.96 149.986,804.96 149.932,804.96 149.838,804.96 149.821,804.96 \n  149.736,804.96 149.663,804.96 149.638,804.96 149.525,804.96 149.47,804.96 149.444,804.96 149.359,804.96 149.399,804.96 149.333,804.96 149.296,804.96 \n  149.267,804.96 149.291,804.96 149.233,804.96 149.188,804.96 149.262,804.96 149.193,804.96 149.198,804.96 149.199,804.96 149.143,804.96 149.15,804.96 \n  149.18,804.96 149.136,804.96 149.163,804.96 149.115,804.96 149.102,804.96 149.136,804.96 149.054,804.96 149.032,804.96 149.054,804.96 149.056,804.96 \n  149.028,804.96 148.998,804.96 148.925,804.96 148.918,804.96 148.921,804.96 148.84,804.96 148.783,804.96 148.742,804.96 148.662,804.96 148.592,804.96 \n  148.511,804.96 148.393,804.96 148.294,804.96 148.23,804.96 148.154,804.96 148.047,804.96 147.958,804.96 147.831,804.96 147.71,804.96 147.626,804.96 \n  147.516,804.96 147.451,804.96 147.383,804.96 147.285,804.96 147.189,804.96 147.079,804.96 146.927,804.96 146.848,804.96 146.763,804.96 146.648,804.96 \n  146.524,804.96 146.419,804.96 146.31,804.96 146.177,804.96 146.078,804.96 146.011,804.96 145.901,804.96 145.8,804.96 145.772,804.96 145.658,804.96 \n  145.61,804.96 145.129,804.96 145.108,804.96 145.122,804.96 145.148,804.96 145.243,804.96 145.176,804.96 145.219,804.96 145.173,804.96 145.179,804.96 \n  145.228,804.96 145.185,804.96 145.241,804.96 145.198,804.96 145.209,804.96 145.271,804.96 145.379,804.96 145.496,804.96 145.526,804.96 145.575,804.96 \n  145.73,804.96 145.794,804.96 145.923,804.96 146.006,804.96 146.133,804.96 146.29,804.96 146.4,804.96 146.455,804.96 146.667,804.96 146.712,804.96 \n  146.815,804.96 146.935,804.96 146.995,804.96 147.065,804.96 147.083,804.96 147.141,804.96 147.183,804.96 147.196,804.96 147.274,804.96 147.312,804.96 \n  147.285,804.96 147.358,804.96 147.377,804.96 147.454,804.96 147.491,804.96 147.492,804.96 147.611,804.96 147.605,804.96 147.685,804.96 147.692,804.96 \n  147.768,804.96 147.77,804.96 147.814,804.96 147.866,804.96 147.907,804.96 148.013,804.96 148.002,804.96 148.095,804.96 148.169,804.96 148.145,804.96 \n  148.226,804.96 148.26,804.96 148.274,804.96 148.282,804.96 148.322,804.96 148.373,804.96 148.372,804.96 148.396,804.96 148.409,804.96 148.381,804.96 \n  148.347,804.96 148.372,804.96 148.396,804.96 148.394,804.96 148.387,804.96 148.328,804.96 148.304,804.96 148.304,804.96 148.288,804.96 148.237,804.96 \n  148.189,804.96 148.166,804.96 148.11,804.96 148.016,804.96 147.956,804.96 147.918,804.96 147.843,804.96 147.766,804.96 147.679,804.96 147.631,804.96 \n  147.534,804.96 147.463,804.96 147.419,804.96 147.331,804.96 147.267,804.96 147.141,804.96 147.037,804.96 146.994,804.96 146.928,804.96 146.831,804.96 \n  146.734,804.96 146.663,804.96 146.572,804.96 146.489,804.96 146.453,804.96 146.412,804.96 146.327,804.96 146.308,804.96 146.224,804.96 146.196,804.96 \n  146.162,804.96 146.093,804.96 146.074,804.96 145.999,804.96 145.949,804.96 145.908,804.96 145.876,804.96 145.818,804.96 145.727,804.96 145.643,804.96 \n  145.564,804.96 145.182,804.96 144.916,804.96 144.833,804.96 144.859,804.96 144.84,804.96 144.732,804.96 144.624,804.96 144.532,804.96 144.45,804.96 \n  144.376,804.96 144.274,804.96 144.192,804.96 144.125,804.96 144.029,804.96 143.919,804.96 143.809,804.96 143.684,804.96 143.569,804.96 143.476,804.96 \n  143.328,804.96 143.116,804.96 142.943,804.96 142.845,804.96 142.744,804.96 142.612,804.96 142.488,804.96 142.405,804.96 142.338,804.96 142.259,804.96 \n  142.226,804.96 142.264,804.96 142.303,804.96 142.315,804.96 142.342,804.96 142.352,804.96 142.401,804.96 142.441,804.96 142.452,804.96 142.464,804.96 \n  142.49,804.96 142.522,804.96 142.567,804.96 142.579,804.96 142.621,804.96 142.642,804.96 142.694,804.96 142.783,804.96 142.83,804.96 142.892,804.96 \n  142.895,804.96 142.947,804.96 143.03,804.96 143.122,804.96 143.203,804.96 \n  \"/>\n<polyline clip-path=\"url(#clip872)\" style=\"stroke:#e26f46; stroke-linecap:butt; stroke-linejoin:round; stroke-width:4; stroke-opacity:1; fill:none\" points=\"\n  148.057,873.299 150.264,873.362 152.47,873.561 154.677,871.71 156.884,872.285 159.091,873.749 161.298,873.529 163.505,877.198 165.712,880.481 167.919,889.795 \n  170.126,897.614 172.333,905.266 174.539,914.966 176.746,925.879 178.953,931.075 181.16,938.601 183.367,946.713 185.574,954.271 187.781,962.09 189.988,967.797 \n  192.195,972.324 194.402,977.237 196.609,979.348 198.815,984.293 201.022,983.394 203.229,989.101 205.436,990.481 207.643,992.195 209.85,990.481 212.057,993.983 \n  214.264,990.763 216.471,991.087 218.678,994.181 220.885,990.376 223.091,992.394 225.298,992.425 227.505,992.195 229.712,992.133 231.919,988.85 234.126,992.519 \n  236.333,989.206 238.54,989.237 240.747,990.345 242.954,987.449 245.16,988.631 247.367,988.338 249.574,988.599 251.781,988.244 253.988,985.662 256.195,987.962 \n  258.402,984.669 260.609,985.881 262.816,984.669 265.023,984.418 267.23,985.505 269.436,984.512 271.643,987.669 273.85,988.526 276.057,986.237 278.264,987.188 \n  280.471,988.056 282.678,988.693 284.885,989.331 287.092,986.206 289.299,986.906 291.506,988.631 293.712,987.449 295.919,991.15 298.126,989.456 300.333,989.613 \n  302.54,988.568 304.747,988.024 306.954,988.432 309.161,987.449 311.368,990.512 313.575,989.331 315.781,988.976 317.988,989.394 320.195,985.568 322.402,985.244 \n  324.609,985.401 326.816,985.024 329.023,983.624 331.23,985.244 333.437,984.481 335.644,979.724 337.851,981.167 340.057,980.874 342.264,977.331 344.471,976.411 \n  346.678,978 348.885,976.055 351.092,975.71 353.299,979.212 355.506,975.899 357.713,978.062 359.92,975.449 362.127,976.212 364.333,978.23 366.54,978.167 \n  368.747,978.669 370.954,978.481 373.161,978.136 375.368,976.442 377.575,977.906 379.782,978.669 381.989,978.637 384.196,979.505 386.402,978.512 388.609,978.418 \n  390.816,981.418 393.023,978.062 395.23,981.993 397.437,979.505 399.644,980.488 401.851,982.819 404.058,978.899 406.265,980.237 408.472,981.993 410.678,977.968 \n  412.885,981.449 415.092,977.205 417.299,977.08 419.506,978.742 421.713,974.174 423.92,973.567 426.127,970.766 428.334,966.261 430.541,963.679 432.748,961.41 \n  434.954,960.072 437.161,955.253 439.368,953.403 441.575,945.051 443.782,931.493 445.989,916.116 448.196,878.38 450.403,830.2 452.61,775.331 454.817,722.249 \n  457.023,681.188 459.23,655.128 461.437,620.8 463.644,592.377 465.851,553.585 468.058,515.462 470.265,477.663 472.472,445.09 474.679,419.605 476.886,390.764 \n  479.093,373.38 481.299,348.616 483.506,347.791 485.713,347.791 487.92,347.791 490.127,347.791 492.334,347.791 494.541,347.791 496.748,347.791 498.955,347.791 \n  501.162,347.791 503.369,347.791 505.575,347.791 507.782,347.791 509.989,347.791 512.196,348.397 514.403,351.711 516.61,359.31 518.817,361.924 521.024,373.088 \n  523.231,378.764 525.438,388.621 527.644,393.064 529.851,406.078 532.058,416.95 534.265,433.288 536.472,445.477 538.679,462.829 540.886,480.851 543.093,496.834 \n  545.3,519.58 547.507,540.821 549.714,555.216 551.92,576.812 554.127,596.203 556.334,613.754 558.541,632.675 560.748,649.797 562.955,665.08 565.162,684 \n  567.369,703.715 569.576,728.563 571.783,749.783 573.99,775.624 576.196,804.464 578.403,869.986 580.61,889.638 582.817,908.558 585.024,923.13 587.231,935.894 \n  589.438,945.469 591.645,954.94 593.852,964.222 596.059,974.623 598.265,981.292 600.472,986.969 602.679,994.683 604.886,998.425 607.093,1004.54 609.3,1008.02 \n  611.507,1013.6 613.714,1016.29 615.921,1016.22 618.128,1018.2 620.335,1016.19 622.541,1017.21 624.748,1014.63 626.955,1017.46 629.162,1016.64 631.369,1012.55 \n  633.576,1012.3 635.783,1011.44 637.99,1009.81 640.197,1007.99 642.404,1008.57 644.611,1007.42 646.817,1006.17 649.024,1005.12 651.231,1003.37 653.438,1002.69 \n  655.645,999.094 657.852,997.213 660.059,996.575 662.266,996.533 664.473,994.244 666.68,992.802 668.886,993.732 671.093,990.857 673.3,989.07 675.507,990.418 \n  677.714,988.631 679.921,988.756 682.128,989.906 684.335,991.338 686.542,991.15 688.749,993.188 690.956,995.363 693.162,996.732 695.369,994.85 697.576,996.502 \n  699.783,997.621 701.99,1002.02 704.197,1004.26 706.404,1004.71 708.611,1008.21 710.818,1009.81 713.025,1010.16 715.232,1014.88 717.438,1018.64 719.645,1018.78 \n  721.852,1021.87 724.059,1028.25 726.266,1029.91 728.473,1034.69 730.68,1038.2 732.887,1042.74 735.094,1045.41 737.301,1046.5 739.507,1050.87 741.714,1052.78 \n  743.921,1054.54 746.128,1054.21 748.335,1055.65 750.542,1059.07 752.749,1056.1 754.956,1055.4 757.163,1055.27 759.37,1055.3 761.577,1055.43 763.783,1056.77 \n  765.99,1054.7 768.197,1053.77 770.404,1052.69 772.611,1050.39 774.818,1046.59 777.025,1046.02 779.232,1045.89 781.439,1040.98 783.646,1042.99 785.853,1037.89 \n  788.059,1038.43 790.266,1036.92 792.473,1034.82 794.68,1033.04 796.887,1029.46 799.094,1029.56 801.301,1029.14 803.508,1026.49 805.715,1023.4 807.922,1024.8 \n  810.128,1019.92 812.335,1022.15 814.542,1020.34 816.749,1015.27 818.956,1014.44 821.163,1010.74 823.37,1012.33 825.577,1007.48 827.784,1009.05 829.991,1007.71 \n  832.198,1002.22 834.404,1000.31 836.611,1000.81 838.818,1001.07 841.025,998.99 843.232,995.101 845.439,995.519 847.646,997.401 849.853,996.251 852.06,995.613 \n  854.267,993.638 856.474,995.227 858.68,991.725 860.887,990.795 863.094,990.512 865.301,988.725 867.508,987.387 869.715,988.819 871.922,987.324 874.129,986.645 \n  876.336,981.575 878.543,983.718 880.749,981.261 882.956,977.968 885.163,976.568 887.37,975.742 889.577,972.993 891.784,967.86 893.991,965.111 896.198,963.553 \n  898.405,962.341 900.612,958.703 902.819,956.696 905.025,955.797 907.232,949.671 909.439,949.42 911.646,944.727 913.853,935.382 916.06,934.462 918.267,922.242 \n  920.474,916.242 922.681,909.604 924.888,902.339 927.095,893.526 929.301,882.425 931.508,873.237 933.715,867.749 935.922,855.184 938.129,852.34 940.336,840.026 \n  942.543,834.068 944.75,826.249 946.957,814.635 949.164,799.959 951.37,792.558 953.577,783.401 955.784,774.693 957.991,759.515 960.198,750.065 962.405,742.183 \n  964.612,729.65 966.819,722.5 969.026,707.604 971.233,700.078 973.44,690.983 975.646,684.126 977.853,673.788 980.06,660.94 982.267,646.483 984.474,634.232 \n  986.681,614.329 988.888,604.022 991.095,583.063 993.302,563.129 995.509,552.059 997.715,536.232 999.922,515.911 1002.13,504.235 1004.34,493.29 1006.54,478.175 \n  1008.75,465.767 1010.96,460.561 1013.16,449.94 1015.37,439.895 1017.58,427.225 1019.78,418.999 1021.99,410.929 1024.2,406.235 1026.41,396.116 1028.61,393.315 \n  1030.82,385.851 1033.03,385.621 1035.23,380.813 1037.44,381.252 1039.65,382.496 1041.85,381.064 1044.06,379.496 1046.27,380.813 1048.47,379.025 1050.68,380.426 \n  1052.89,386.677 1055.1,390.252 1057.3,393.158 1059.51,401.322 1061.72,404.228 1063.92,408.368 1066.13,419.093 1068.34,425.626 1070.54,431.501 1072.75,441.546 \n  1074.96,445.121 1077.16,457.885 1079.37,466.53 1081.58,471.892 1083.78,481.813 1085.99,494.346 1088.2,505.573 1090.41,510.967 1092.61,520.124 1094.82,532.051 \n  1097.03,544.626 1099.23,551.128 1101.44,560.61 1103.65,566.693 1105.85,577.199 1108.06,582.676 1110.27,592.095 1112.47,602.203 1114.68,604.283 1116.89,616.273 \n  1119.1,617.873 1121.3,626.162 1123.51,630.626 1125.72,640.619 1127.92,647.121 1130.13,648.971 1132.34,657.554 1134.54,665.31 1136.75,668.948 1138.96,673.474 \n  1141.16,682.945 1143.37,688.088 1145.58,689.614 1147.79,695.959 1149.99,702.377 1152.2,707.447 1154.41,715.392 1156.61,724.193 1158.82,729.368 1161.03,730.863 \n  1163.23,738.87 1165.44,744.358 1167.65,754.79 1169.85,761.804 1172.06,765.641 1174.27,777.118 1176.47,786.307 1178.68,796.039 1180.89,805.802 1183.1,813.005 \n  1185.3,864.529 1187.51,872.348 1189.72,880.763 1191.92,889.094 1194.13,898.638 1196.34,902.934 1198.54,911.109 1200.75,921.73 1202.96,927.949 1205.16,935.35 \n  1207.37,944.664 1209.58,951.239 1211.79,957.49 1213.99,963.616 1216.2,973.829 1218.41,981.512 1220.61,990.22 1222.82,995.331 1225.03,1003.59 1227.23,1009.14 \n  1229.44,1018.04 1231.65,1024.04 1233.85,1031.25 1236.06,1033.13 1238.27,1040.69 1240.48,1040.18 1242.68,1045.51 1244.89,1044.51 1247.1,1045.32 1249.3,1045.48 \n  1251.51,1046.63 1253.72,1047 1255.92,1045.12 1258.13,1045.09 1260.34,1042.6 1262.54,1038.9 1264.75,1038.71 1266.96,1033.8 1269.16,1029.91 1271.37,1030.16 \n  1273.58,1027.49 1275.79,1019.85 1277.99,1016.15 1280.2,1013.23 1282.41,1008.05 1284.61,1001.9 1286.82,995.864 1289.03,987.449 1291.23,982.474 1293.44,980.049 \n  1295.65,976.254 1297.85,970.024 1300.06,962.341 1302.27,957.647 1304.48,954.365 1306.68,950.152 1308.89,947.382 1311.1,939.469 1313.3,928.88 1315.51,917.266 \n  1317.72,903.614 1319.92,893.788 1322.13,880.261 1324.34,866.473 1326.54,852.947 1328.75,838.208 1330.96,833.2 1333.17,817.73 1335.37,799.551 1337.58,791.377 \n  1339.79,775.624 1341.99,769.498 1344.2,753.254 1346.41,742.089 1348.61,730.925 1350.82,723.012 1353.03,714.848 1355.23,710.385 1357.44,703.36 1359.65,693.408 \n  1361.86,694.171 1364.06,687.314 1366.27,687.22 1368.48,685.694 1370.68,683.488 1372.89,677.3 1375.1,678.23 1377.3,676.662 1379.51,674.049 1381.72,674.53 \n  1383.92,677.08 1386.13,676.443 1388.34,675.136 1390.54,672.512 1392.75,674.655 1394.96,673.537 1397.17,671.718 1399.37,674.906 1401.58,671.498 1403.79,675.544 \n  1405.99,675.575 1408.2,674.53 1410.41,679.568 1412.61,682.056 1414.82,684.094 1417.03,682.464 1419.23,687.795 1421.44,688.788 1423.65,688.088 1425.86,695.645 \n  1428.06,694.109 1430.27,699.795 1432.48,701.008 1434.68,704.834 1436.89,706.715 1439.1,708.628 1441.3,710.029 1443.51,713.447 1445.72,716.761 1447.92,717.148 \n  1450.13,719.918 1452.34,724.068 1454.55,730.894 1456.75,732.65 1458.96,733.988 1461.17,737.5 1463.37,742.696 1465.58,750.034 1467.79,752.24 1469.99,756.829 \n  1472.2,759.191 1474.41,761.292 1476.61,764.648 1478.82,772.561 1481.03,771.892 1483.23,779.199 1485.44,783.788 1487.65,784.039 1489.86,788.607 1492.06,791.471 \n  1494.27,798.339 1496.48,797.22 1498.68,800.471 1500.89,805.384 1503.1,808.51 1505.3,844.208 1507.51,849.988 1509.72,850.626 1511.92,852.278 1514.13,855.915 \n  1516.34,856.971 1518.55,855.759 1520.75,856.71 1522.96,855.884 1525.17,855.884 1527.37,859.71 1529.58,858.058 1531.79,859.01 1533.99,860.316 1536.2,855.602 \n  1538.41,859.585 1540.61,856.208 1542.82,856.741 1545.03,859.553 1547.24,856.616 1549.44,855.915 1551.65,854.285 1553.86,853.114 1556.06,850.49 1558.27,849.508 \n  1560.48,839.263 1562.68,832.437 1564.89,828.925 1567.1,822.799 1569.3,809.566 1571.51,805.74 1573.72,796.384 1575.92,786.056 1578.13,774.056 1580.34,768.63 \n  1582.55,755.971 1584.75,749.271 1586.96,737.845 1589.17,733.769 1591.37,721.768 1593.58,712.486 1595.79,706.715 1597.99,698.039 1600.2,694.015 1602.41,689.363 \n  1604.61,687.544 1606.82,682.182 1609.03,679.119 1611.24,672.136 1613.44,669.199 1615.65,667.317 1617.86,666.042 1620.06,667.599 1622.27,665.279 1624.48,665.341 \n  1626.68,667.411 1628.89,668.561 1631.1,666.773 1633.3,668.686 1635.51,671.749 1637.72,671.592 1639.93,679.631 1642.13,684.993 1644.34,688.757 1646.55,695.133 \n  1648.75,706.423 1650.96,716.123 1653.17,726.368 1655.37,742.183 1657.58,756.065 1659.79,769.947 1661.99,784.781 1664.2,801.872 1666.41,859.491 1668.61,874.606 \n  1670.82,885.718 1673.03,896.077 1675.24,905.684 1677.44,912.478 1679.65,917.485 1681.86,921.217 1684.06,927.312 1686.27,927.312 1688.48,929.256 1690.68,932.831 \n  1692.89,931.681 1695.1,932.8 1697.3,930.437 1699.51,931.305 1701.72,929.674 1703.93,931.2 1706.13,928.817 1708.34,927.312 1710.55,926.319 1712.75,922.461 \n  1714.96,918.311 1717.17,902.464 1719.37,843.257 1721.58,781.457 1723.79,709.747 1725.99,659.916 1728.2,619.012 1730.41,563.641 1732.62,511.218 1734.82,452.491 \n  1737.03,397.141 1739.24,352.223 1741.44,347.791 1743.65,347.791 1745.86,347.791 1748.06,347.791 1750.27,347.791 1752.48,347.791 1754.68,347.791 1756.89,347.791 \n  1759.1,347.791 1761.31,347.791 1763.51,347.791 1765.72,347.791 1767.93,347.791 1770.13,347.791 1772.34,347.791 1774.55,347.791 1776.75,347.791 1778.96,347.791 \n  1781.17,347.791 1783.37,347.791 1785.58,347.791 1787.79,347.791 1789.99,347.791 1792.2,347.791 1794.41,351.679 1796.62,355.035 1798.82,362.561 1801.03,371.875 \n  1803.24,372.607 1805.44,378.994 1807.65,387.315 1809.86,390.764 1812.06,398.834 1814.27,405.023 1816.48,409.392 1818.68,419.344 1820.89,424.706 1823.1,429.295 \n  1825.31,436.351 1827.51,435.264 1829.72,442.728 1831.93,445.634 1834.13,452.01 1836.34,449.815 1838.55,456.61 1840.75,459.641 1842.96,456.61 1845.17,460.854 \n  1847.37,460.31 1849.58,461.711 1851.79,464.774 1854,464.93 1856.2,462.411 1858.41,465.892 1860.62,463.143 1862.82,468.255 1865.03,467.293 1867.24,466.018 \n  1869.44,472.049 1871.65,474.213 1873.86,472.938 1876.06,472.175 1878.27,475.488 1880.48,478.049 1882.68,484.645 1884.89,483.914 1887.1,485.064 1889.31,493.102 \n  1891.51,497.66 1893.72,500.984 1895.93,509.305 1898.13,515.692 1900.34,523.636 1902.55,534.664 1904.75,543.602 1906.96,548.996 1909.17,557.672 1911.37,569.056 \n  1913.58,576.551 1915.79,589.983 1918,601.022 1920.2,609.96 1922.41,621.605 1924.62,628.368 1926.82,636.981 1929.03,647.215 1931.24,657.428 1933.44,668.174 \n  1935.65,683.875 1937.86,690.283 1940.06,701.071 1942.27,712.716 1944.48,726.587 1946.69,735.525 1948.89,747.776 1951.1,761.334 1953.31,772.017 1955.51,779.355 \n  1957.72,791.669 1959.93,802.321 1962.13,806.921 1964.34,818.399 1966.55,824.273 1968.75,867.592 1970.96,868.679 1973.17,874.292 1975.37,871.324 1977.58,872.191 \n  1979.79,875.787 1982,872.986 1984.2,876.592 1986.41,875.819 1988.62,873.08 1990.82,875.38 1993.03,871.292 1995.24,874.543 1997.44,872.693 1999.65,868.898 \n  2001.86,859.522 2004.06,850.145 2006.27,845.964 2008.48,840.695 2010.69,827.524 2012.89,820.343 2015.1,808.259 2017.31,800.346 2019.51,787.07 2021.72,772.78 \n  2023.93,760.56 2026.13,753.159 2028.34,732.713 2030.55,726.713 2032.75,713.855 2034.96,702.471 2037.17,693.858 2039.38,686.3 2041.58,682.819 2043.79,675.575 \n  2046,671.143 2048.2,668.435 2050.41,661.034 2052.62,656.947 2054.82,658.066 2057.03,651.94 2059.24,650.278 2061.44,642.501 2063.65,640.776 2065.86,638.926 \n  2068.07,630.02 2070.27,629.131 2072.48,621.186 2074.69,620.967 2076.89,612.029 2079.1,612.291 2081.31,605.904 2083.51,602.329 2085.72,596.37 2087.93,587.495 \n  2090.13,587.015 2092.34,577.513 2094.55,571.356 2096.75,570.655 2098.96,563.798 2101.17,560.223 2103.38,557.16 2105.58,556.773 2107.79,551.923 2110,547.208 \n  2112.2,546.539 2114.41,543.633 2116.62,541.846 2118.82,543.602 2121.03,546.184 2123.24,542.578 2125.44,540.79 2127.65,541.051 2129.86,541.428 2132.07,546.445 \n  2134.27,546.633 2136.48,546.916 2138.69,548.222 2140.89,554.066 2143.1,557.16 2145.31,559.198 2147.51,565.23 2149.72,575.025 2151.93,579.3 2154.13,583.419 \n  2156.34,592.252 2158.55,600.008 2160.76,608.172 2162.96,612.186 2165.17,624.5 2167.38,629.507 2169.58,635.131 2171.79,644.184 2174,650.978 2176.2,664.035 \n  2178.41,672.261 2180.62,677.624 2182.82,684.993 2185.03,696.126 2187.24,705.44 2189.44,712.486 2191.65,722.437 2193.86,731.72 2196.07,736.476 2198.27,741.901 \n  2200.48,751.309 2202.69,754.027 2204.89,763.017 2207.1,765.473 2209.31,770.742 2211.51,776.868 2213.72,779.199 2215.93,786.85 2218.13,790.938 2220.34,795.244 \n  2222.55,798.464 2224.76,805.478 2226.96,813.747 2229.17,820.541 2231.38,828.319 2233.58,875.819 2235.79,880.199 2238,888.174 2240.2,897.865 2242.41,904.252 \n  2244.62,912.353 2246.82,924.824 2249.03,930.793 2251.24,939.876 2253.45,948.657 2255.65,959.121 2257.86,964.379 2260.07,974.142 2262.27,985.056 2264.48,993 \n  2266.69,1005.92 2268.89,1018.49 2271.1,1026.07 2273.31,1039.44 2275.51,1056.83 2277.72,1074.19 2279.93,1086.57 2282.13,1098.46 2284.34,1112.6 2286.55,1125.27 \n  2288.76,1136.56 2290.96,1145.42 2293.17,1154.73 2295.38,1164.06 2297.58,1166.58 2299.79,1165.13 2302,1166.38 2304.2,1166.92 2306.41,1163.67 2308.62,1164.43 \n  2310.82,1160.13 2313.03,1157.42 2315.24,1157 2317.45,1155.79 2319.65,1152.82 2321.86,1150.4 2324.07,1146.79 2326.27,1145.78 2328.48,1141.44 2330.69,1139.52 \n  2332.89,1134.55 2335.1,1126.92 2337.31,1122.61 2339.51,1116.58 2341.72,1115.15 2343.93,1109.18 2346.14,1101.81 2348.34,1093.61 2350.55,1086.34 2352.76,1083.41 \n  \n  \"/>\n<path clip-path=\"url(#clip870)\" d=\"\nM1739.13 324.425 L2279.27 324.425 L2279.27 168.905 L1739.13 168.905  Z\n  \" fill=\"#ffffff\" fill-rule=\"evenodd\" fill-opacity=\"1\"/>\n<polyline clip-path=\"url(#clip870)\" style=\"stroke:#000000; stroke-linecap:butt; stroke-linejoin:round; stroke-width:4; stroke-opacity:1; fill:none\" points=\"\n  1739.13,324.425 2279.27,324.425 2279.27,168.905 1739.13,168.905 1739.13,324.425 \n  \"/>\n<polyline clip-path=\"url(#clip870)\" style=\"stroke:#009af9; stroke-linecap:butt; stroke-linejoin:round; stroke-width:4; stroke-opacity:1; fill:none\" points=\"\n  1763.13,220.745 1907.13,220.745 \n  \"/>\n<path clip-path=\"url(#clip870)\" d=\"M1935.41 234.136 L1935.41 247.886 L1931.13 247.886 L1931.13 212.099 L1935.41 212.099 L1935.41 216.034 Q1936.75 213.719 1938.79 212.608 Q1940.85 211.474 1943.7 211.474 Q1948.42 211.474 1951.36 215.224 Q1954.32 218.974 1954.32 225.085 Q1954.32 231.196 1951.36 234.946 Q1948.42 238.696 1943.7 238.696 Q1940.85 238.696 1938.79 237.585 Q1936.75 236.451 1935.41 234.136 M1949.9 225.085 Q1949.9 220.386 1947.96 217.724 Q1946.04 215.039 1942.66 215.039 Q1939.28 215.039 1937.33 217.724 Q1935.41 220.386 1935.41 225.085 Q1935.41 229.784 1937.33 232.469 Q1939.28 235.131 1942.66 235.131 Q1946.04 235.131 1947.96 232.469 Q1949.9 229.784 1949.9 225.085 Z\" fill=\"#000000\" fill-rule=\"evenodd\" fill-opacity=\"1\" /><path clip-path=\"url(#clip870)\" d=\"M1976.41 216.08 Q1975.69 215.664 1974.83 215.478 Q1974 215.27 1972.98 215.27 Q1969.37 215.27 1967.42 217.631 Q1965.5 219.969 1965.5 224.367 L1965.5 238.025 L1961.22 238.025 L1961.22 212.099 L1965.5 212.099 L1965.5 216.127 Q1966.85 213.766 1969 212.631 Q1971.15 211.474 1974.23 211.474 Q1974.67 211.474 1975.2 211.543 Q1975.73 211.59 1976.38 211.705 L1976.41 216.08 Z\" fill=\"#000000\" fill-rule=\"evenodd\" fill-opacity=\"1\" /><path clip-path=\"url(#clip870)\" d=\"M2002.01 223.997 L2002.01 226.08 L1982.42 226.08 Q1982.7 230.478 1985.06 232.793 Q1987.45 235.085 1991.68 235.085 Q1994.14 235.085 1996.43 234.483 Q1998.74 233.881 2001.01 232.677 L2001.01 236.705 Q1998.72 237.677 1996.31 238.187 Q1993.91 238.696 1991.43 238.696 Q1985.23 238.696 1981.59 235.085 Q1977.98 231.474 1977.98 225.316 Q1977.98 218.951 1981.41 215.224 Q1984.86 211.474 1990.69 211.474 Q1995.92 211.474 1998.95 214.853 Q2002.01 218.21 2002.01 223.997 M1997.75 222.747 Q1997.7 219.252 1995.78 217.168 Q1993.88 215.085 1990.73 215.085 Q1987.17 215.085 1985.02 217.099 Q1982.89 219.113 1982.56 222.77 L1997.75 222.747 Z\" fill=\"#000000\" fill-rule=\"evenodd\" fill-opacity=\"1\" /><path clip-path=\"url(#clip870)\" d=\"M2026.06 216.034 L2026.06 202.006 L2030.32 202.006 L2030.32 238.025 L2026.06 238.025 L2026.06 234.136 Q2024.72 236.451 2022.66 237.585 Q2020.62 238.696 2017.75 238.696 Q2013.05 238.696 2010.09 234.946 Q2007.15 231.196 2007.15 225.085 Q2007.15 218.974 2010.09 215.224 Q2013.05 211.474 2017.75 211.474 Q2020.62 211.474 2022.66 212.608 Q2024.72 213.719 2026.06 216.034 M2011.54 225.085 Q2011.54 229.784 2013.47 232.469 Q2015.41 235.131 2018.79 235.131 Q2022.17 235.131 2024.11 232.469 Q2026.06 229.784 2026.06 225.085 Q2026.06 220.386 2024.11 217.724 Q2022.17 215.039 2018.79 215.039 Q2015.41 215.039 2013.47 217.724 Q2011.54 220.386 2011.54 225.085 Z\" fill=\"#000000\" fill-rule=\"evenodd\" fill-opacity=\"1\" /><path clip-path=\"url(#clip870)\" d=\"M2039.09 212.099 L2043.35 212.099 L2043.35 238.025 L2039.09 238.025 L2039.09 212.099 M2039.09 202.006 L2043.35 202.006 L2043.35 207.4 L2039.09 207.4 L2039.09 202.006 Z\" fill=\"#000000\" fill-rule=\"evenodd\" fill-opacity=\"1\" /><path clip-path=\"url(#clip870)\" d=\"M2070.92 213.094 L2070.92 217.076 Q2069.11 216.08 2067.29 215.594 Q2065.48 215.085 2063.63 215.085 Q2059.48 215.085 2057.19 217.724 Q2054.9 220.34 2054.9 225.085 Q2054.9 229.83 2057.19 232.469 Q2059.48 235.085 2063.63 235.085 Q2065.48 235.085 2067.29 234.599 Q2069.11 234.089 2070.92 233.094 L2070.92 237.029 Q2069.14 237.863 2067.22 238.279 Q2065.32 238.696 2063.16 238.696 Q2057.31 238.696 2053.86 235.015 Q2050.41 231.335 2050.41 225.085 Q2050.41 218.742 2053.88 215.108 Q2057.38 211.474 2063.44 211.474 Q2065.41 211.474 2067.29 211.891 Q2069.16 212.284 2070.92 213.094 Z\" fill=\"#000000\" fill-rule=\"evenodd\" fill-opacity=\"1\" /><path clip-path=\"url(#clip870)\" d=\"M2082.54 204.738 L2082.54 212.099 L2091.31 212.099 L2091.31 215.409 L2082.54 215.409 L2082.54 229.483 Q2082.54 232.654 2083.4 233.557 Q2084.28 234.46 2086.94 234.46 L2091.31 234.46 L2091.31 238.025 L2086.94 238.025 Q2082.01 238.025 2080.13 236.196 Q2078.26 234.344 2078.26 229.483 L2078.26 215.409 L2075.13 215.409 L2075.13 212.099 L2078.26 212.099 L2078.26 204.738 L2082.54 204.738 Z\" fill=\"#000000\" fill-rule=\"evenodd\" fill-opacity=\"1\" /><path clip-path=\"url(#clip870)\" d=\"M2096.91 212.099 L2101.17 212.099 L2101.17 238.025 L2096.91 238.025 L2096.91 212.099 M2096.91 202.006 L2101.17 202.006 L2101.17 207.4 L2096.91 207.4 L2096.91 202.006 Z\" fill=\"#000000\" fill-rule=\"evenodd\" fill-opacity=\"1\" /><path clip-path=\"url(#clip870)\" d=\"M2120.13 215.085 Q2116.71 215.085 2114.72 217.77 Q2112.72 220.432 2112.72 225.085 Q2112.72 229.738 2114.69 232.423 Q2116.68 235.085 2120.13 235.085 Q2123.54 235.085 2125.53 232.4 Q2127.52 229.715 2127.52 225.085 Q2127.52 220.478 2125.53 217.793 Q2123.54 215.085 2120.13 215.085 M2120.13 211.474 Q2125.69 211.474 2128.86 215.085 Q2132.03 218.696 2132.03 225.085 Q2132.03 231.451 2128.86 235.085 Q2125.69 238.696 2120.13 238.696 Q2114.55 238.696 2111.38 235.085 Q2108.23 231.451 2108.23 225.085 Q2108.23 218.696 2111.38 215.085 Q2114.55 211.474 2120.13 211.474 Z\" fill=\"#000000\" fill-rule=\"evenodd\" fill-opacity=\"1\" /><path clip-path=\"url(#clip870)\" d=\"M2160.64 222.377 L2160.64 238.025 L2156.38 238.025 L2156.38 222.515 Q2156.38 218.835 2154.95 217.006 Q2153.51 215.178 2150.64 215.178 Q2147.19 215.178 2145.2 217.377 Q2143.21 219.576 2143.21 223.372 L2143.21 238.025 L2138.93 238.025 L2138.93 212.099 L2143.21 212.099 L2143.21 216.127 Q2144.74 213.789 2146.8 212.631 Q2148.88 211.474 2151.59 211.474 Q2156.06 211.474 2158.35 214.252 Q2160.64 217.006 2160.64 222.377 Z\" fill=\"#000000\" fill-rule=\"evenodd\" fill-opacity=\"1\" /><path clip-path=\"url(#clip870)\" d=\"M2185.66 212.863 L2185.66 216.891 Q2183.86 215.965 2181.91 215.502 Q2179.97 215.039 2177.89 215.039 Q2174.72 215.039 2173.12 216.011 Q2171.54 216.983 2171.54 218.928 Q2171.54 220.409 2172.68 221.265 Q2173.81 222.099 2177.24 222.863 L2178.7 223.187 Q2183.23 224.159 2185.13 225.941 Q2187.05 227.701 2187.05 230.872 Q2187.05 234.483 2184.18 236.589 Q2181.34 238.696 2176.34 238.696 Q2174.25 238.696 2171.98 238.279 Q2169.74 237.886 2167.24 237.076 L2167.24 232.677 Q2169.6 233.904 2171.89 234.529 Q2174.18 235.131 2176.43 235.131 Q2179.44 235.131 2181.06 234.113 Q2182.68 233.071 2182.68 231.196 Q2182.68 229.46 2181.5 228.534 Q2180.34 227.608 2176.38 226.752 L2174.9 226.404 Q2170.94 225.571 2169.18 223.858 Q2167.42 222.122 2167.42 219.113 Q2167.42 215.455 2170.02 213.465 Q2172.61 211.474 2177.38 211.474 Q2179.74 211.474 2181.82 211.821 Q2183.91 212.168 2185.66 212.863 Z\" fill=\"#000000\" fill-rule=\"evenodd\" fill-opacity=\"1\" /><polyline clip-path=\"url(#clip870)\" style=\"stroke:#e26f46; stroke-linecap:butt; stroke-linejoin:round; stroke-width:4; stroke-opacity:1; fill:none\" points=\"\n  1763.13,272.585 1907.13,272.585 \n  \"/>\n<path clip-path=\"url(#clip870)\" d=\"M1943.03 266.925 Q1939.6 266.925 1937.61 269.61 Q1935.62 272.272 1935.62 276.925 Q1935.62 281.578 1937.59 284.263 Q1939.58 286.925 1943.03 286.925 Q1946.43 286.925 1948.42 284.24 Q1950.41 281.555 1950.41 276.925 Q1950.41 272.318 1948.42 269.633 Q1946.43 266.925 1943.03 266.925 M1943.03 263.314 Q1948.58 263.314 1951.75 266.925 Q1954.92 270.536 1954.92 276.925 Q1954.92 283.291 1951.75 286.925 Q1948.58 290.536 1943.03 290.536 Q1937.45 290.536 1934.28 286.925 Q1931.13 283.291 1931.13 276.925 Q1931.13 270.536 1934.28 266.925 Q1937.45 263.314 1943.03 263.314 Z\" fill=\"#000000\" fill-rule=\"evenodd\" fill-opacity=\"1\" /><path clip-path=\"url(#clip870)\" d=\"M1980.6 276.925 Q1980.6 272.226 1978.65 269.564 Q1976.73 266.879 1973.35 266.879 Q1969.97 266.879 1968.03 269.564 Q1966.11 272.226 1966.11 276.925 Q1966.11 281.624 1968.03 284.309 Q1969.97 286.971 1973.35 286.971 Q1976.73 286.971 1978.65 284.309 Q1980.6 281.624 1980.6 276.925 M1966.11 267.874 Q1967.45 265.559 1969.48 264.448 Q1971.55 263.314 1974.39 263.314 Q1979.11 263.314 1982.05 267.064 Q1985.02 270.814 1985.02 276.925 Q1985.02 283.036 1982.05 286.786 Q1979.11 290.536 1974.39 290.536 Q1971.55 290.536 1969.48 289.425 Q1967.45 288.291 1966.11 285.976 L1966.11 289.865 L1961.82 289.865 L1961.82 253.846 L1966.11 253.846 L1966.11 267.874 Z\" fill=\"#000000\" fill-rule=\"evenodd\" fill-opacity=\"1\" /><path clip-path=\"url(#clip870)\" d=\"M2008.61 264.703 L2008.61 268.731 Q2006.8 267.805 2004.86 267.342 Q2002.91 266.879 2000.83 266.879 Q1997.66 266.879 1996.06 267.851 Q1994.48 268.823 1994.48 270.768 Q1994.48 272.249 1995.62 273.105 Q1996.75 273.939 2000.18 274.703 L2001.64 275.027 Q2006.17 275.999 2008.07 277.781 Q2009.99 279.541 2009.99 282.712 Q2009.99 286.323 2007.12 288.429 Q2004.28 290.536 1999.28 290.536 Q1997.19 290.536 1994.92 290.119 Q1992.68 289.726 1990.18 288.916 L1990.18 284.517 Q1992.54 285.744 1994.83 286.369 Q1997.12 286.971 1999.37 286.971 Q2002.38 286.971 2004 285.953 Q2005.62 284.911 2005.62 283.036 Q2005.62 281.3 2004.44 280.374 Q2003.28 279.448 1999.32 278.592 L1997.84 278.244 Q1993.88 277.411 1992.12 275.698 Q1990.36 273.962 1990.36 270.953 Q1990.36 267.295 1992.96 265.305 Q1995.55 263.314 2000.32 263.314 Q2002.68 263.314 2004.76 263.661 Q2006.85 264.008 2008.61 264.703 Z\" fill=\"#000000\" fill-rule=\"evenodd\" fill-opacity=\"1\" /><path clip-path=\"url(#clip870)\" d=\"M2038.95 275.837 L2038.95 277.92 L2019.37 277.92 Q2019.65 282.318 2022.01 284.633 Q2024.39 286.925 2028.63 286.925 Q2031.08 286.925 2033.37 286.323 Q2035.69 285.721 2037.96 284.517 L2037.96 288.545 Q2035.67 289.517 2033.26 290.027 Q2030.85 290.536 2028.37 290.536 Q2022.17 290.536 2018.54 286.925 Q2014.92 283.314 2014.92 277.156 Q2014.92 270.791 2018.35 267.064 Q2021.8 263.314 2027.63 263.314 Q2032.86 263.314 2035.9 266.693 Q2038.95 270.05 2038.95 275.837 M2034.69 274.587 Q2034.65 271.092 2032.73 269.008 Q2030.83 266.925 2027.68 266.925 Q2024.11 266.925 2021.96 268.939 Q2019.83 270.953 2019.51 274.61 L2034.69 274.587 Z\" fill=\"#000000\" fill-rule=\"evenodd\" fill-opacity=\"1\" /><path clip-path=\"url(#clip870)\" d=\"M2060.97 267.92 Q2060.25 267.504 2059.39 267.318 Q2058.56 267.11 2057.54 267.11 Q2053.93 267.11 2051.98 269.471 Q2050.06 271.809 2050.06 276.207 L2050.06 289.865 L2045.78 289.865 L2045.78 263.939 L2050.06 263.939 L2050.06 267.967 Q2051.41 265.606 2053.56 264.471 Q2055.71 263.314 2058.79 263.314 Q2059.23 263.314 2059.76 263.383 Q2060.29 263.43 2060.94 263.545 L2060.97 267.92 Z\" fill=\"#000000\" fill-rule=\"evenodd\" fill-opacity=\"1\" /><path clip-path=\"url(#clip870)\" d=\"M2062.38 263.939 L2066.89 263.939 L2074.99 285.698 L2083.1 263.939 L2087.61 263.939 L2077.89 289.865 L2072.1 289.865 L2062.38 263.939 Z\" fill=\"#000000\" fill-rule=\"evenodd\" fill-opacity=\"1\" /><path clip-path=\"url(#clip870)\" d=\"M2105.27 276.832 Q2100.11 276.832 2098.12 278.013 Q2096.13 279.193 2096.13 282.041 Q2096.13 284.309 2097.61 285.652 Q2099.11 286.971 2101.68 286.971 Q2105.22 286.971 2107.35 284.471 Q2109.51 281.948 2109.51 277.781 L2109.51 276.832 L2105.27 276.832 M2113.77 275.073 L2113.77 289.865 L2109.51 289.865 L2109.51 285.929 Q2108.05 288.291 2105.87 289.425 Q2103.7 290.536 2100.55 290.536 Q2096.57 290.536 2094.21 288.314 Q2091.87 286.068 2091.87 282.318 Q2091.87 277.943 2094.79 275.721 Q2097.72 273.499 2103.54 273.499 L2109.51 273.499 L2109.51 273.082 Q2109.51 270.143 2107.56 268.545 Q2105.64 266.925 2102.15 266.925 Q2099.92 266.925 2097.82 267.457 Q2095.71 267.99 2093.77 269.055 L2093.77 265.119 Q2096.1 264.217 2098.3 263.777 Q2100.5 263.314 2102.59 263.314 Q2108.21 263.314 2110.99 266.231 Q2113.77 269.147 2113.77 275.073 Z\" fill=\"#000000\" fill-rule=\"evenodd\" fill-opacity=\"1\" /><path clip-path=\"url(#clip870)\" d=\"M2126.75 256.578 L2126.75 263.939 L2135.53 263.939 L2135.53 267.249 L2126.75 267.249 L2126.75 281.323 Q2126.75 284.494 2127.61 285.397 Q2128.49 286.3 2131.15 286.3 L2135.53 286.3 L2135.53 289.865 L2131.15 289.865 Q2126.22 289.865 2124.35 288.036 Q2122.47 286.184 2122.47 281.323 L2122.47 267.249 L2119.35 267.249 L2119.35 263.939 L2122.47 263.939 L2122.47 256.578 L2126.75 256.578 Z\" fill=\"#000000\" fill-rule=\"evenodd\" fill-opacity=\"1\" /><path clip-path=\"url(#clip870)\" d=\"M2141.13 263.939 L2145.39 263.939 L2145.39 289.865 L2141.13 289.865 L2141.13 263.939 M2141.13 253.846 L2145.39 253.846 L2145.39 259.24 L2141.13 259.24 L2141.13 253.846 Z\" fill=\"#000000\" fill-rule=\"evenodd\" fill-opacity=\"1\" /><path clip-path=\"url(#clip870)\" d=\"M2164.34 266.925 Q2160.92 266.925 2158.93 269.61 Q2156.94 272.272 2156.94 276.925 Q2156.94 281.578 2158.91 284.263 Q2160.9 286.925 2164.34 286.925 Q2167.75 286.925 2169.74 284.24 Q2171.73 281.555 2171.73 276.925 Q2171.73 272.318 2169.74 269.633 Q2167.75 266.925 2164.34 266.925 M2164.34 263.314 Q2169.9 263.314 2173.07 266.925 Q2176.24 270.536 2176.24 276.925 Q2176.24 283.291 2173.07 286.925 Q2169.9 290.536 2164.34 290.536 Q2158.77 290.536 2155.6 286.925 Q2152.45 283.291 2152.45 276.925 Q2152.45 270.536 2155.6 266.925 Q2158.77 263.314 2164.34 263.314 Z\" fill=\"#000000\" fill-rule=\"evenodd\" fill-opacity=\"1\" /><path clip-path=\"url(#clip870)\" d=\"M2204.85 274.217 L2204.85 289.865 L2200.59 289.865 L2200.59 274.355 Q2200.59 270.675 2199.16 268.846 Q2197.72 267.018 2194.85 267.018 Q2191.41 267.018 2189.41 269.217 Q2187.42 271.416 2187.42 275.212 L2187.42 289.865 L2183.14 289.865 L2183.14 263.939 L2187.42 263.939 L2187.42 267.967 Q2188.95 265.629 2191.01 264.471 Q2193.09 263.314 2195.8 263.314 Q2200.27 263.314 2202.56 266.092 Q2204.85 268.846 2204.85 274.217 Z\" fill=\"#000000\" fill-rule=\"evenodd\" fill-opacity=\"1\" /><path clip-path=\"url(#clip870)\" d=\"M2229.88 264.703 L2229.88 268.731 Q2228.07 267.805 2226.13 267.342 Q2224.18 266.879 2222.1 266.879 Q2218.93 266.879 2217.33 267.851 Q2215.76 268.823 2215.76 270.768 Q2215.76 272.249 2216.89 273.105 Q2218.03 273.939 2221.45 274.703 L2222.91 275.027 Q2227.45 275.999 2229.34 277.781 Q2231.27 279.541 2231.27 282.712 Q2231.27 286.323 2228.4 288.429 Q2225.55 290.536 2220.55 290.536 Q2218.47 290.536 2216.2 290.119 Q2213.95 289.726 2211.45 288.916 L2211.45 284.517 Q2213.81 285.744 2216.1 286.369 Q2218.4 286.971 2220.64 286.971 Q2223.65 286.971 2225.27 285.953 Q2226.89 284.911 2226.89 283.036 Q2226.89 281.3 2225.71 280.374 Q2224.55 279.448 2220.59 278.592 L2219.11 278.244 Q2215.15 277.411 2213.4 275.698 Q2211.64 273.962 2211.64 270.953 Q2211.64 267.295 2214.23 265.305 Q2216.82 263.314 2221.59 263.314 Q2223.95 263.314 2226.03 263.661 Q2228.12 264.008 2229.88 264.703 Z\" fill=\"#000000\" fill-rule=\"evenodd\" fill-opacity=\"1\" /></svg>\n"
     },
     "execution_count": 69,
     "metadata": {},
     "output_type": "execute_result"
    }
   ],
   "source": [
    "plot(pred, label=\"predictions\")\n",
    "plot!(output_val, xlims=(1, 1000), ylims=(-3, 3), title=\"1-step ahead prediction\", label=\"observations\")"
   ]
  },
  {
   "cell_type": "code",
   "execution_count": 70,
   "metadata": {},
   "outputs": [
    {
     "data": {
      "text/plain": [
       "(0.3506996478204307, 0.02991662232103076, [0.0, 0.0, 0.0, 0.0, 0.0, -0.0287948724273024, -0.06261805024897099, -0.01295996123957259, 0.09975084852016099, 0.18755186102576993  …  -1.5351331859425073, -1.5075852446822, -1.477281284829885, -1.4446813424824412, -1.4101669311921294, -1.3740352476017956, -1.3365010058513143, -1.2977097820091912, -1.2577851358985634, -1.2168693645810151], [0.0, 0.0, 0.0, 0.0, 0.0, -0.0287948724273024, -0.21756431284777608, -0.27886574094325844, -0.20817075246813038, -0.15965710208190217  …  -1.448294377679137, -1.4260365282798135, -1.3892605070052078, -1.3655466657859012, -1.3388571484169647, -1.3302017585798824, -1.3071308366627317, -1.2717080444879079, -1.2334070656176113, -1.198269730400025])"
      ]
     },
     "execution_count": 70,
     "metadata": {},
     "output_type": "execute_result"
    }
   ],
   "source": [
    "rms_sim, rms_pred, sim, pred = experiment_RLS(input_trn, output_trn, input_val, output_val, ϕ_fl, M1=M1, M2=M2, M3=M3, N=N, λ=1.0)"
   ]
  },
  {
   "cell_type": "code",
   "execution_count": null,
   "metadata": {},
   "outputs": [],
   "source": []
  }
 ],
 "metadata": {
  "kernelspec": {
   "display_name": "Julia 1.6.0",
   "language": "julia",
   "name": "julia-1.6"
  },
  "language_info": {
   "file_extension": ".jl",
   "mimetype": "application/julia",
   "name": "julia",
   "version": "1.6.0"
  },
  "orig_nbformat": 4
 },
 "nbformat": 4,
 "nbformat_minor": 2
}
