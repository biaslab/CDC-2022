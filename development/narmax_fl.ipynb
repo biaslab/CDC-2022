{
 "cells": [
  {
   "cell_type": "code",
   "execution_count": 3,
   "metadata": {},
   "outputs": [],
   "source": [
    "using Plots\n",
    "using LinearAlgebra\n",
    "using Random\n",
    "using JLD\n",
    "using Parameters\n",
    "using ForneyLab\n",
    "using NARMAX\n",
    "import ProgressMeter\n",
    "using CSV\n",
    "using DataFrames\n",
    "using Statistics"
   ]
  },
  {
   "cell_type": "code",
   "execution_count": 9,
   "metadata": {},
   "outputs": [],
   "source": [
    "using ForneyLab: unsafeMean, unsafeCov, unsafePrecision"
   ]
  },
  {
   "cell_type": "code",
   "execution_count": 10,
   "metadata": {},
   "outputs": [
    {
     "data": {
      "text/plain": [
       "ϕ (generic function with 2 methods)"
      ]
     },
     "execution_count": 10,
     "metadata": {},
     "output_type": "execute_result"
    }
   ],
   "source": [
    "include(\"../helpers/polynomial.jl\")"
   ]
  },
  {
   "cell_type": "code",
   "execution_count": 11,
   "metadata": {},
   "outputs": [
    {
     "data": {
      "text/plain": [
       "model_specification (generic function with 1 method)"
      ]
     },
     "execution_count": 11,
     "metadata": {},
     "output_type": "execute_result"
    }
   ],
   "source": [
    "function model_specification(ϕ; M1=M1, M2=M2, M3=M3, N=N)\n",
    "\n",
    "    graph = FactorGraph()\n",
    "\n",
    "    # Observed variables\n",
    "    @RV u_kmin1; placeholder(u_kmin1, :u_kmin1, dims=(M1,))\n",
    "    @RV y_kmin1; placeholder(y_kmin1, :y_kmin1, dims=(M2,))\n",
    "    @RV e_kmin1; placeholder(e_kmin1, :e_kmin1, dims=(M3,))\n",
    "    @RV u_k; placeholder(u_k, :u_k)\n",
    "\n",
    "    # Time-invariant parameters\n",
    "    @RV τ ~ Gamma(placeholder(:a_τ), placeholder(:b_τ))\n",
    "    @RV θ ~ GaussianMeanPrecision(placeholder(:m_θ, dims=(N,)), placeholder(:w_θ, dims=(N,N)))\n",
    "\n",
    "    # Likelihood\n",
    "    @RV y_k ~ NAutoRegressiveMovingAverageX(θ, u_k, u_kmin1, y_kmin1, e_kmin1, τ, ϕ=ϕ)\n",
    "    placeholder(y_k, :y_k)\n",
    "\n",
    "    q = PosteriorFactorization(θ, τ, ids=[:θ :τ])\n",
    "    algorithm = messagePassingAlgorithm([θ; τ], q, free_energy=true)\n",
    "    return algorithmSourceCode(algorithm, free_energy=true)\n",
    "    \n",
    "end"
   ]
  },
  {
   "cell_type": "code",
   "execution_count": 49,
   "metadata": {},
   "outputs": [
    {
     "data": {
      "text/plain": [
       "experiment_FEM (generic function with 1 method)"
      ]
     },
     "execution_count": 49,
     "metadata": {},
     "output_type": "execute_result"
    }
   ],
   "source": [
    "function experiment_FEM(input_trn, output_trn, input_tst, output_tst, ϕ, priors; M1=1, M2=1, M3=1, N=3, num_iters=5, computeFE=false)\n",
    "\n",
    "    # Maximum delay\n",
    "    maxM = maximum([M1,M2,M3])\n",
    "\n",
    "    # Zero-padding of signals\n",
    "    input_trn = [zeros(maxM,); input_trn]\n",
    "    input_tst = [zeros(maxM,); input_tst]\n",
    "    output_trn = [zeros(maxM,); output_trn]\n",
    "    output_tst = [zeros(maxM,); output_tst]\n",
    "\n",
    "    # Signal splits\n",
    "    T_trn = length(input_trn)\n",
    "    T_tst = length(input_tst)\n",
    "\n",
    "    \"Inference execution\"\n",
    "\n",
    "    # Extract prior parameters\n",
    "    θ_k = priors[\"θ\"]\n",
    "    τ_k = priors[\"τ\"]\n",
    "\n",
    "    # Initialize marginals\n",
    "    marginals = Dict(:θ => ProbabilityDistribution(Multivariate, GaussianMeanPrecision, m=θ_k[1], w=θ_k[2]),\n",
    "                     :τ => ProbabilityDistribution(Univariate, Gamma, a=τ_k[1], b=τ_k[2]))\n",
    "\n",
    "    # Preallocate free energy array\n",
    "    Fq = zeros(T_trn-maxM, num_iters)\n",
    "\n",
    "    # Preallocate parameter arrays\n",
    "    params_θ = (zeros(T_trn-maxM,N), zeros(T_trn-maxM,N,N))\n",
    "    params_τ = (zeros(T_trn-maxM,1), zeros(T_trn-maxM,1))\n",
    "\n",
    "    # Preallocate prediction arrays\n",
    "    predictions = (zeros(T_trn,), zeros(T_trn,))\n",
    "    errors = zeros(T_trn,)\n",
    "\n",
    "    for (ii,k) in enumerate(maxM+1:T_trn)\n",
    "        \n",
    "        # Update history vectors\n",
    "        u_kmin1 = input_trn[k-1:-1:k-M1]\n",
    "        y_kmin1 = output_trn[k-1:-1:k-M2]\n",
    "        e_kmin1 = errors[k-1:-1:k-M3]\n",
    "        \n",
    "        ϕx = ϕ([input_trn[k]; u_kmin1; y_kmin1; e_kmin1])\n",
    "        predictions[1][k] = θ_k[1]'*ϕx\n",
    "        # predictions[2][k] = ϕx'*inv(θ_k[2])*ϕx + inv(τ_k[1]/τ_k[2])\n",
    "\n",
    "        # Compute prediction error\n",
    "        errors[k] = output_trn[k] - predictions[1][k]\n",
    "        \n",
    "        # Set data \n",
    "        data = Dict(:y_k => output_trn[k],\n",
    "                    :u_k => input_trn[k],\n",
    "                    :u_kmin1 => u_kmin1,\n",
    "                    :y_kmin1 => y_kmin1,\n",
    "                    :e_kmin1 => e_kmin1,\n",
    "                    :m_θ => θ_k[1],\n",
    "                    :w_θ => θ_k[2],\n",
    "                    :a_τ => τ_k[1],\n",
    "                    :b_τ => τ_k[2])\n",
    "        \n",
    "        # Iterate updates\n",
    "        for n = 1:num_iters\n",
    "            \n",
    "            # Compute free energy\n",
    "            if computeFE\n",
    "                Fq[ii,n] = freeEnergy(data,marginals)\n",
    "            end\n",
    "            \n",
    "            # Update parameters\n",
    "            stepθ!(data, marginals)\n",
    "            stepτ!(data, marginals)\n",
    "            \n",
    "        end \n",
    "        \n",
    "        # Update params\n",
    "        θ_k = (unsafeMean(marginals[:θ]), unsafePrecision(marginals[:θ]))\n",
    "        τ_k = (marginals[:τ].params[:a], marginals[:τ].params[:b])\n",
    "        \n",
    "        # Store params\n",
    "        params_θ[1][ii,:] = θ_k[1]\n",
    "        params_θ[2][ii,:,:] = θ_k[2]\n",
    "        params_τ[1][ii] = τ_k[1]\n",
    "        params_τ[2][ii] = τ_k[2]\n",
    "        \n",
    "    end\n",
    "\n",
    "    \"1-step ahead prediction\"\n",
    "    \n",
    "    # Prepare array\n",
    "    predictions = (zeros(T_tst,), zeros(T_tst,))\n",
    "    errors = zeros(T_tst,)\n",
    "\n",
    "    for k in maxM+1:T_tst\n",
    "        \n",
    "        # Update history vectors\n",
    "        u_kmin1 = input_tst[k-1:-1:k-M1]\n",
    "        y_kmin1 = output_tst[k-1:-1:k-M2]\n",
    "        e_kmin1 = errors[k-1:-1:k-M3]\n",
    "            \n",
    "        # Posterior predictive\n",
    "        ϕx = ϕ([input_tst[k]; u_kmin1; y_kmin1; e_kmin1])\n",
    "        predictions[1][k] = θ_k[1]'*ϕx\n",
    "        # predictions[2][k] = ϕx'*inv(θ_k[2])*ϕx + inv(τ_k[1] / τ_k[2])\n",
    "\n",
    "        # Update error\n",
    "        errors[k] = output_tst[k] - predictions[1][k]\n",
    "        \n",
    "    end\n",
    "\n",
    "    \"Simulation\"\n",
    "\n",
    "    # Prepare array\n",
    "    simulations = (zeros(T_tst,), zeros(T_tst,))\n",
    "\n",
    "    for k in maxM+1:T_tst\n",
    "        \n",
    "        # Update history vectors\n",
    "        u_kmin1 = input_tst[k-1:-1:k-M1]\n",
    "        y_kmin1 = simulations[1][k-1:-1:k-M2]\n",
    "        e_kmin1 = zeros(M3,)\n",
    "            \n",
    "        # Posterior predictive\n",
    "        ϕx = ϕ([input_tst[k]; u_kmin1; y_kmin1; e_kmin1])\n",
    "        simulations[1][k] = θ_k[1]'*ϕx\n",
    "        # simulations[2][k] = ϕx'*inv(θ_k[2])*ϕx + inv(τ_k[1] / τ_k[2])\n",
    "        \n",
    "    end\n",
    "\n",
    "    \"Evaluation\"\n",
    "\n",
    "    # Compute root mean square error\n",
    "    RMS_prd = sqrt(mean((predictions[1][maxM+1:end] - output_tst[maxM+1:end]).^2))\n",
    "    RMS_sim = sqrt(mean((simulations[1][maxM+1:end] - output_tst[maxM+1:end]).^2))\n",
    "\n",
    "    if computeFE\n",
    "        return RMS_sim, RMS_prd, Fq\n",
    "    else\n",
    "        return RMS_sim, RMS_prd, simulations, predictions\n",
    "    end\n",
    "end"
   ]
  },
  {
   "cell_type": "code",
   "execution_count": 50,
   "metadata": {},
   "outputs": [
    {
     "data": {
      "text/plain": [
       "experiment_RLS (generic function with 1 method)"
      ]
     },
     "execution_count": 50,
     "metadata": {},
     "output_type": "execute_result"
    }
   ],
   "source": [
    "function experiment_RLS(input_trn, output_trn, input_tst, output_tst, ϕ; M1=1, M2=1, M3=1, N=1, λ=1.00)\n",
    "    \n",
    "    # Maximum delay\n",
    "    maxM = maximum([M1,M2,M3])\n",
    "\n",
    "    # Zero-padding of signals\n",
    "    input_trn = [zeros(maxM,); input_trn]\n",
    "    input_tst = [zeros(maxM,); input_tst]\n",
    "    output_trn = [zeros(maxM,); output_trn]\n",
    "    output_tst = [zeros(maxM,); output_tst]\n",
    "\n",
    "    # Signal splits\n",
    "    T_trn = length(input_trn)\n",
    "    T_tst = length(input_tst)\n",
    "\n",
    "    # Parameters\n",
    "    P = λ.*Matrix{Float64}(I,N,N)\n",
    "    w_k = zeros(N,)\n",
    "\n",
    "    # Preallocate prediction array\n",
    "    predictions = zeros(T_trn,)\n",
    "    errors = zeros(T_trn,)\n",
    "\n",
    "    for (ii,k) in enumerate(maxM+1:T_trn)\n",
    "\n",
    "        # Update history vectors\n",
    "        u_kmin1 = input_trn[k-1:-1:k-M1]\n",
    "        y_kmin1 = output_trn[k-1:-1:k-M2]\n",
    "        e_kmin1 = errors[k-1:-1:k-M3]\n",
    "        \n",
    "        # Update data vector\n",
    "        ϕx = ϕ([input_trn[k]; u_kmin1; y_kmin1; e_kmin1])\n",
    "        \n",
    "        # Update weights\n",
    "        α = output_trn[k] - w_k'*ϕx \n",
    "        g = P*ϕx*inv(λ + ϕx'*P*ϕx)\n",
    "        P = inv(λ)*P - g*ϕx'*inv(λ)*P\n",
    "        w_k = w_k + α*g\n",
    "        \n",
    "        # Prediction\n",
    "        predictions[k] = w_k'*ϕx\n",
    "        errors[k] = output_trn[k] - predictions[k]\n",
    "        \n",
    "    end\n",
    "\n",
    "    \"1-step ahead prediction\"\n",
    "    \n",
    "    # Prepare array\n",
    "    predictions = zeros(T_tst,)\n",
    "    errors = zeros(T_tst,)\n",
    "\n",
    "    for k in maxM+1:T_tst\n",
    "        \n",
    "        # Update history vectors\n",
    "        u_kmin1 = input_tst[k-1:-1:k-M1]\n",
    "        y_kmin1 = output_tst[k-1:-1:k-M2]\n",
    "        e_kmin1 = errors[k-1:-1:k-M3]\n",
    "            \n",
    "        # Posterior predictive\n",
    "        ϕx = ϕ([input_tst[k]; u_kmin1; y_kmin1; e_kmin1])\n",
    "        predictions[k] = w_k'*ϕx\n",
    "\n",
    "        # Update error\n",
    "        errors[k] = output_tst[k] - predictions[k]\n",
    "        \n",
    "    end\n",
    "\n",
    "    \"Simulation\"\n",
    "\n",
    "    # Prepare array\n",
    "    simulations = zeros(T_tst,)\n",
    "\n",
    "    for k in maxM+1:T_tst\n",
    "        \n",
    "        # Update history vectors\n",
    "        u_kmin1 = input_tst[k-1:-1:k-M1]\n",
    "        y_kmin1 = simulations[k-1:-1:k-M2]\n",
    "        e_kmin1 = zeros(M3,)\n",
    "            \n",
    "        # Posterior predictive\n",
    "        ϕx = ϕ([input_tst[k]; u_kmin1; y_kmin1; e_kmin1])\n",
    "        simulations[k] = w_k'*ϕx\n",
    "        \n",
    "    end\n",
    "\n",
    "    \"Evaluation\"\n",
    "\n",
    "    # Compute root mean square error\n",
    "    RMS_prd = sqrt(mean((predictions[maxM+1:end] - output_tst[maxM+1:end]).^2))\n",
    "    RMS_sim = sqrt(mean((simulations[maxM+1:end] - output_tst[maxM+1:end]).^2))\n",
    "\n",
    "    return RMS_sim, RMS_prd, simulations, predictions\n",
    "end"
   ]
  },
  {
   "cell_type": "code",
   "execution_count": 51,
   "metadata": {},
   "outputs": [],
   "source": [
    "\n",
    "df = DataFrame(CSV.File(\"../datasets/cascadedtanks/dataBenchmark.csv\"))[1:1000, :];\n",
    "u_train, u_val, y_train, y_val = df[:,1], df[:,2], df[:,3], df[:,4]\n",
    "\n",
    "# normalization\n",
    "m_y, s_y = mean(y_train), std(y_train)\n",
    "m_u, s_u = mean(u_train), std(u_train)\n",
    "output_trn = (y_train .- m_y) ./ s_y\n",
    "output_val = (y_val .- m_y) ./ s_y\n",
    "input_trn = (u_train .- m_u) ./ s_u\n",
    "input_val = (u_val .- m_u) ./ s_u;"
   ]
  },
  {
   "cell_type": "code",
   "execution_count": 52,
   "metadata": {},
   "outputs": [
    {
     "data": {
      "text/plain": [
       "61"
      ]
     },
     "execution_count": 52,
     "metadata": {},
     "output_type": "execute_result"
    }
   ],
   "source": [
    "# find order\n",
    "M1, M2, M3 = 2, 2, 2\n",
    "poly_order = 3\n",
    "options = Dict(\"na\"=>M1, \"nb\"=>M2, \"ne\"=>M3, \"nd\"=>poly_order, \"dc\"=>false, \"crossTerms\"=>true, \"noiseCrossTerms\"=>false)\n",
    "\n",
    "PΦ = gen_combs(options)\n",
    "ϕ_fl(x::Array{Float64,1}) = [prod(x.^PΦ[:,k]) for k = 1:size(PΦ,2)]\n",
    "N = size(PΦ,2)"
   ]
  },
  {
   "cell_type": "code",
   "execution_count": 53,
   "metadata": {},
   "outputs": [
    {
     "data": {
      "text/plain": [
       "freeEnergy (generic function with 1 method)"
      ]
     },
     "execution_count": 53,
     "metadata": {},
     "output_type": "execute_result"
    }
   ],
   "source": [
    "# Specify model and compile update functions\n",
    "source_code = model_specification(ϕ_fl, M1=M1, M2=M2, M3=M3, N=N)\n",
    "eval(Meta.parse(source_code))"
   ]
  },
  {
   "cell_type": "code",
   "execution_count": 44,
   "metadata": {},
   "outputs": [
    {
     "data": {
      "text/plain": [
       "1.0"
      ]
     },
     "execution_count": 44,
     "metadata": {},
     "output_type": "execute_result"
    }
   ],
   "source": [
    "# Initialize priors\n",
    "priors = Dict(\"θ\" => (zeros(N,), Matrix{Float64}(I,N,N)), \n",
    "              \"τ\" => (1.0, 1.0))\n",
    "prior_mτ = priors[\"τ\"][1] ./ priors[\"τ\"][2]  "
   ]
  },
  {
   "cell_type": "code",
   "execution_count": 54,
   "metadata": {},
   "outputs": [
    {
     "data": {
      "text/plain": [
       "(0.5084299612226582, 0.06971783314936715, ([0.0, 0.0, -0.3629356140405754, 1.4972827138374267, 1.646242746919299, 1.5348312057893345, 1.4291513717383777, 1.3299905321135705, 1.2366207532749767, 1.148769949290254  …  -1.0449466495193873, -1.0284942841068294, -1.009880127362118, -0.9894167238823782, -0.9674633941715766, -0.9443307936146219, -0.920335358879547, -0.8957827548950419, -0.8710008804802799, -0.8463797043763606], [0.0, 0.0, 0.0, 0.0, 0.0, 0.0, 0.0, 0.0, 0.0, 0.0  …  0.0, 0.0, 0.0, 0.0, 0.0, 0.0, 0.0, 0.0, 0.0, 0.0]), ([0.0, 0.0, -0.3629356140405754, 1.5668304172904717, 0.14236430237764838, 0.43395936398935664, -0.3961842683480053, -0.4101707212480327, -0.32748961949062694, -0.3253117350512761  …  -1.4508866578646538, -1.4279157393136959, -1.3879429288250782, -1.3701317196453189, -1.3465528130159292, -1.3434438169693212, -1.3160435575450207, -1.2767957689257512, -1.2398116087631041, -1.2113026790415753], [0.0, 0.0, 0.0, 0.0, 0.0, 0.0, 0.0, 0.0, 0.0, 0.0  …  0.0, 0.0, 0.0, 0.0, 0.0, 0.0, 0.0, 0.0, 0.0, 0.0]))"
      ]
     },
     "execution_count": 54,
     "metadata": {},
     "output_type": "execute_result"
    }
   ],
   "source": [
    "rms_sim, rms_pred, sim, pred = experiment_FEM(input_trn, output_trn, input_val, output_val, ϕ_fl, priors, M1=M1, M2=M2, M3=M3, N=N, num_iters=10, computeFE=false)"
   ]
  },
  {
   "cell_type": "code",
   "execution_count": 58,
   "metadata": {},
   "outputs": [
    {
     "data": {
      "image/svg+xml": "<?xml version=\"1.0\" encoding=\"utf-8\"?>\n<svg xmlns=\"http://www.w3.org/2000/svg\" xmlns:xlink=\"http://www.w3.org/1999/xlink\" width=\"600\" height=\"400\" viewBox=\"0 0 2400 1600\">\n<defs>\n  <clipPath id=\"clip710\">\n    <rect x=\"0\" y=\"0\" width=\"2400\" height=\"1600\"/>\n  </clipPath>\n</defs>\n<path clip-path=\"url(#clip710)\" d=\"\nM0 1600 L2400 1600 L2400 0 L0 0  Z\n  \" fill=\"#ffffff\" fill-rule=\"evenodd\" fill-opacity=\"1\"/>\n<defs>\n  <clipPath id=\"clip711\">\n    <rect x=\"480\" y=\"0\" width=\"1681\" height=\"1600\"/>\n  </clipPath>\n</defs>\n<path clip-path=\"url(#clip710)\" d=\"\nM148.057 1486.45 L2352.76 1486.45 L2352.76 123.472 L148.057 123.472  Z\n  \" fill=\"#ffffff\" fill-rule=\"evenodd\" fill-opacity=\"1\"/>\n<defs>\n  <clipPath id=\"clip712\">\n    <rect x=\"148\" y=\"123\" width=\"2206\" height=\"1364\"/>\n  </clipPath>\n</defs>\n<polyline clip-path=\"url(#clip712)\" style=\"stroke:#000000; stroke-linecap:butt; stroke-linejoin:round; stroke-width:2; stroke-opacity:0.1; fill:none\" points=\"\n  148.057,1486.45 148.057,123.472 \n  \"/>\n<polyline clip-path=\"url(#clip712)\" style=\"stroke:#000000; stroke-linecap:butt; stroke-linejoin:round; stroke-width:2; stroke-opacity:0.1; fill:none\" points=\"\n  699.231,1486.45 699.231,123.472 \n  \"/>\n<polyline clip-path=\"url(#clip712)\" style=\"stroke:#000000; stroke-linecap:butt; stroke-linejoin:round; stroke-width:2; stroke-opacity:0.1; fill:none\" points=\"\n  1250.41,1486.45 1250.41,123.472 \n  \"/>\n<polyline clip-path=\"url(#clip712)\" style=\"stroke:#000000; stroke-linecap:butt; stroke-linejoin:round; stroke-width:2; stroke-opacity:0.1; fill:none\" points=\"\n  1801.58,1486.45 1801.58,123.472 \n  \"/>\n<polyline clip-path=\"url(#clip712)\" style=\"stroke:#000000; stroke-linecap:butt; stroke-linejoin:round; stroke-width:2; stroke-opacity:0.1; fill:none\" points=\"\n  2352.76,1486.45 2352.76,123.472 \n  \"/>\n<polyline clip-path=\"url(#clip710)\" style=\"stroke:#000000; stroke-linecap:butt; stroke-linejoin:round; stroke-width:4; stroke-opacity:1; fill:none\" points=\"\n  148.057,1486.45 2352.76,1486.45 \n  \"/>\n<polyline clip-path=\"url(#clip710)\" style=\"stroke:#000000; stroke-linecap:butt; stroke-linejoin:round; stroke-width:4; stroke-opacity:1; fill:none\" points=\"\n  148.057,1486.45 148.057,1467.55 \n  \"/>\n<polyline clip-path=\"url(#clip710)\" style=\"stroke:#000000; stroke-linecap:butt; stroke-linejoin:round; stroke-width:4; stroke-opacity:1; fill:none\" points=\"\n  699.231,1486.45 699.231,1467.55 \n  \"/>\n<polyline clip-path=\"url(#clip710)\" style=\"stroke:#000000; stroke-linecap:butt; stroke-linejoin:round; stroke-width:4; stroke-opacity:1; fill:none\" points=\"\n  1250.41,1486.45 1250.41,1467.55 \n  \"/>\n<polyline clip-path=\"url(#clip710)\" style=\"stroke:#000000; stroke-linecap:butt; stroke-linejoin:round; stroke-width:4; stroke-opacity:1; fill:none\" points=\"\n  1801.58,1486.45 1801.58,1467.55 \n  \"/>\n<polyline clip-path=\"url(#clip710)\" style=\"stroke:#000000; stroke-linecap:butt; stroke-linejoin:round; stroke-width:4; stroke-opacity:1; fill:none\" points=\"\n  2352.76,1486.45 2352.76,1467.55 \n  \"/>\n<path clip-path=\"url(#clip710)\" d=\"M108.103 1548.13 L108.103 1543.87 Q109.862 1544.7 111.668 1545.14 Q113.473 1545.58 115.21 1545.58 Q119.839 1545.58 122.27 1542.48 Q124.723 1539.36 125.071 1533.01 Q123.728 1535.01 121.668 1536.07 Q119.608 1537.13 117.108 1537.13 Q111.923 1537.13 108.89 1534.01 Q105.881 1530.86 105.881 1525.42 Q105.881 1520.1 109.029 1516.88 Q112.177 1513.66 117.409 1513.66 Q123.404 1513.66 126.552 1518.27 Q129.723 1522.85 129.723 1531.6 Q129.723 1539.77 125.835 1544.66 Q121.969 1549.52 115.418 1549.52 Q113.659 1549.52 111.853 1549.17 Q110.048 1548.82 108.103 1548.13 M117.409 1533.48 Q120.557 1533.48 122.385 1531.32 Q124.237 1529.17 124.237 1525.42 Q124.237 1521.7 122.385 1519.54 Q120.557 1517.37 117.409 1517.37 Q114.26 1517.37 112.409 1519.54 Q110.58 1521.7 110.58 1525.42 Q110.58 1529.17 112.409 1531.32 Q114.26 1533.48 117.409 1533.48 Z\" fill=\"#000000\" fill-rule=\"evenodd\" fill-opacity=\"1\" /><path clip-path=\"url(#clip710)\" d=\"M148.126 1517.37 Q144.515 1517.37 142.686 1520.93 Q140.881 1524.47 140.881 1531.6 Q140.881 1538.71 142.686 1542.27 Q144.515 1545.82 148.126 1545.82 Q151.76 1545.82 153.566 1542.27 Q155.395 1538.71 155.395 1531.6 Q155.395 1524.47 153.566 1520.93 Q151.76 1517.37 148.126 1517.37 M148.126 1513.66 Q153.936 1513.66 156.992 1518.27 Q160.07 1522.85 160.07 1531.6 Q160.07 1540.33 156.992 1544.94 Q153.936 1549.52 148.126 1549.52 Q142.316 1549.52 139.237 1544.94 Q136.182 1540.33 136.182 1531.6 Q136.182 1522.85 139.237 1518.27 Q142.316 1513.66 148.126 1513.66 Z\" fill=\"#000000\" fill-rule=\"evenodd\" fill-opacity=\"1\" /><path clip-path=\"url(#clip710)\" d=\"M178.288 1517.37 Q174.677 1517.37 172.848 1520.93 Q171.043 1524.47 171.043 1531.6 Q171.043 1538.71 172.848 1542.27 Q174.677 1545.82 178.288 1545.82 Q181.922 1545.82 183.728 1542.27 Q185.556 1538.71 185.556 1531.6 Q185.556 1524.47 183.728 1520.93 Q181.922 1517.37 178.288 1517.37 M178.288 1513.66 Q184.098 1513.66 187.154 1518.27 Q190.232 1522.85 190.232 1531.6 Q190.232 1540.33 187.154 1544.94 Q184.098 1549.52 178.288 1549.52 Q172.478 1549.52 169.399 1544.94 Q166.344 1540.33 166.344 1531.6 Q166.344 1522.85 169.399 1518.27 Q172.478 1513.66 178.288 1513.66 Z\" fill=\"#000000\" fill-rule=\"evenodd\" fill-opacity=\"1\" /><path clip-path=\"url(#clip710)\" d=\"M659.776 1548.13 L659.776 1543.87 Q661.535 1544.7 663.34 1545.14 Q665.146 1545.58 666.882 1545.58 Q671.512 1545.58 673.942 1542.48 Q676.396 1539.36 676.743 1533.01 Q675.401 1535.01 673.34 1536.07 Q671.28 1537.13 668.78 1537.13 Q663.595 1537.13 660.563 1534.01 Q657.553 1530.86 657.553 1525.42 Q657.553 1520.1 660.702 1516.88 Q663.85 1513.66 669.081 1513.66 Q675.076 1513.66 678.225 1518.27 Q681.396 1522.85 681.396 1531.6 Q681.396 1539.77 677.507 1544.66 Q673.641 1549.52 667.09 1549.52 Q665.331 1549.52 663.526 1549.17 Q661.72 1548.82 659.776 1548.13 M669.081 1533.48 Q672.229 1533.48 674.058 1531.32 Q675.91 1529.17 675.91 1525.42 Q675.91 1521.7 674.058 1519.54 Q672.229 1517.37 669.081 1517.37 Q665.933 1517.37 664.081 1519.54 Q662.252 1521.7 662.252 1525.42 Q662.252 1529.17 664.081 1531.32 Q665.933 1533.48 669.081 1533.48 Z\" fill=\"#000000\" fill-rule=\"evenodd\" fill-opacity=\"1\" /><path clip-path=\"url(#clip710)\" d=\"M693.826 1544.91 L710.146 1544.91 L710.146 1548.85 L688.201 1548.85 L688.201 1544.91 Q690.863 1542.16 695.447 1537.53 Q700.053 1532.88 701.234 1531.53 Q703.479 1529.01 704.359 1527.27 Q705.261 1525.51 705.261 1523.82 Q705.261 1521.07 703.317 1519.33 Q701.396 1517.6 698.294 1517.6 Q696.095 1517.6 693.641 1518.36 Q691.211 1519.13 688.433 1520.68 L688.433 1515.95 Q691.257 1514.82 693.711 1514.24 Q696.164 1513.66 698.201 1513.66 Q703.572 1513.66 706.766 1516.35 Q709.961 1519.03 709.961 1523.52 Q709.961 1525.65 709.15 1527.57 Q708.363 1529.47 706.257 1532.07 Q705.678 1532.74 702.576 1535.95 Q699.474 1539.15 693.826 1544.91 Z\" fill=\"#000000\" fill-rule=\"evenodd\" fill-opacity=\"1\" /><path clip-path=\"url(#clip710)\" d=\"M720.007 1514.29 L738.363 1514.29 L738.363 1518.22 L724.289 1518.22 L724.289 1526.7 Q725.308 1526.35 726.326 1526.19 Q727.345 1526 728.363 1526 Q734.15 1526 737.53 1529.17 Q740.909 1532.34 740.909 1537.76 Q740.909 1543.34 737.437 1546.44 Q733.965 1549.52 727.646 1549.52 Q725.47 1549.52 723.201 1549.15 Q720.956 1548.78 718.548 1548.04 L718.548 1543.34 Q720.632 1544.47 722.854 1545.03 Q725.076 1545.58 727.553 1545.58 Q731.558 1545.58 733.896 1543.48 Q736.234 1541.37 736.234 1537.76 Q736.234 1534.15 733.896 1532.04 Q731.558 1529.94 727.553 1529.94 Q725.678 1529.94 723.803 1530.35 Q721.951 1530.77 720.007 1531.65 L720.007 1514.29 Z\" fill=\"#000000\" fill-rule=\"evenodd\" fill-opacity=\"1\" /><path clip-path=\"url(#clip710)\" d=\"M1210.45 1548.13 L1210.45 1543.87 Q1212.21 1544.7 1214.02 1545.14 Q1215.82 1545.58 1217.56 1545.58 Q1222.19 1545.58 1224.62 1542.48 Q1227.07 1539.36 1227.42 1533.01 Q1226.08 1535.01 1224.02 1536.07 Q1221.96 1537.13 1219.46 1537.13 Q1214.27 1537.13 1211.24 1534.01 Q1208.23 1530.86 1208.23 1525.42 Q1208.23 1520.1 1211.38 1516.88 Q1214.53 1513.66 1219.76 1513.66 Q1225.75 1513.66 1228.9 1518.27 Q1232.07 1522.85 1232.07 1531.6 Q1232.07 1539.77 1228.18 1544.66 Q1224.32 1549.52 1217.77 1549.52 Q1216.01 1549.52 1214.2 1549.17 Q1212.4 1548.82 1210.45 1548.13 M1219.76 1533.48 Q1222.91 1533.48 1224.74 1531.32 Q1226.59 1529.17 1226.59 1525.42 Q1226.59 1521.7 1224.74 1519.54 Q1222.91 1517.37 1219.76 1517.37 Q1216.61 1517.37 1214.76 1519.54 Q1212.93 1521.7 1212.93 1525.42 Q1212.93 1529.17 1214.76 1531.32 Q1216.61 1533.48 1219.76 1533.48 Z\" fill=\"#000000\" fill-rule=\"evenodd\" fill-opacity=\"1\" /><path clip-path=\"url(#clip710)\" d=\"M1240.52 1514.29 L1258.88 1514.29 L1258.88 1518.22 L1244.8 1518.22 L1244.8 1526.7 Q1245.82 1526.35 1246.84 1526.19 Q1247.86 1526 1248.88 1526 Q1254.67 1526 1258.05 1529.17 Q1261.42 1532.34 1261.42 1537.76 Q1261.42 1543.34 1257.95 1546.44 Q1254.48 1549.52 1248.16 1549.52 Q1245.98 1549.52 1243.72 1549.15 Q1241.47 1548.78 1239.06 1548.04 L1239.06 1543.34 Q1241.15 1544.47 1243.37 1545.03 Q1245.59 1545.58 1248.07 1545.58 Q1252.07 1545.58 1254.41 1543.48 Q1256.75 1541.37 1256.75 1537.76 Q1256.75 1534.15 1254.41 1532.04 Q1252.07 1529.94 1248.07 1529.94 Q1246.19 1529.94 1244.32 1530.35 Q1242.47 1530.77 1240.52 1531.65 L1240.52 1514.29 Z\" fill=\"#000000\" fill-rule=\"evenodd\" fill-opacity=\"1\" /><path clip-path=\"url(#clip710)\" d=\"M1280.64 1517.37 Q1277.03 1517.37 1275.2 1520.93 Q1273.39 1524.47 1273.39 1531.6 Q1273.39 1538.71 1275.2 1542.27 Q1277.03 1545.82 1280.64 1545.82 Q1284.27 1545.82 1286.08 1542.27 Q1287.91 1538.71 1287.91 1531.6 Q1287.91 1524.47 1286.08 1520.93 Q1284.27 1517.37 1280.64 1517.37 M1280.64 1513.66 Q1286.45 1513.66 1289.5 1518.27 Q1292.58 1522.85 1292.58 1531.6 Q1292.58 1540.33 1289.5 1544.94 Q1286.45 1549.52 1280.64 1549.52 Q1274.83 1549.52 1271.75 1544.94 Q1268.69 1540.33 1268.69 1531.6 Q1268.69 1522.85 1271.75 1518.27 Q1274.83 1513.66 1280.64 1513.66 Z\" fill=\"#000000\" fill-rule=\"evenodd\" fill-opacity=\"1\" /><path clip-path=\"url(#clip710)\" d=\"M1762.13 1548.13 L1762.13 1543.87 Q1763.88 1544.7 1765.69 1545.14 Q1767.5 1545.58 1769.23 1545.58 Q1773.86 1545.58 1776.29 1542.48 Q1778.75 1539.36 1779.09 1533.01 Q1777.75 1535.01 1775.69 1536.07 Q1773.63 1537.13 1771.13 1537.13 Q1765.94 1537.13 1762.91 1534.01 Q1759.9 1530.86 1759.9 1525.42 Q1759.9 1520.1 1763.05 1516.88 Q1766.2 1513.66 1771.43 1513.66 Q1777.43 1513.66 1780.57 1518.27 Q1783.75 1522.85 1783.75 1531.6 Q1783.75 1539.77 1779.86 1544.66 Q1775.99 1549.52 1769.44 1549.52 Q1767.68 1549.52 1765.88 1549.17 Q1764.07 1548.82 1762.13 1548.13 M1771.43 1533.48 Q1774.58 1533.48 1776.41 1531.32 Q1778.26 1529.17 1778.26 1525.42 Q1778.26 1521.7 1776.41 1519.54 Q1774.58 1517.37 1771.43 1517.37 Q1768.28 1517.37 1766.43 1519.54 Q1764.6 1521.7 1764.6 1525.42 Q1764.6 1529.17 1766.43 1531.32 Q1768.28 1533.48 1771.43 1533.48 Z\" fill=\"#000000\" fill-rule=\"evenodd\" fill-opacity=\"1\" /><path clip-path=\"url(#clip710)\" d=\"M1790.97 1514.29 L1813.19 1514.29 L1813.19 1516.28 L1800.64 1548.85 L1795.76 1548.85 L1807.56 1518.22 L1790.97 1518.22 L1790.97 1514.29 Z\" fill=\"#000000\" fill-rule=\"evenodd\" fill-opacity=\"1\" /><path clip-path=\"url(#clip710)\" d=\"M1822.36 1514.29 L1840.71 1514.29 L1840.71 1518.22 L1826.64 1518.22 L1826.64 1526.7 Q1827.66 1526.35 1828.68 1526.19 Q1829.69 1526 1830.71 1526 Q1836.5 1526 1839.88 1529.17 Q1843.26 1532.34 1843.26 1537.76 Q1843.26 1543.34 1839.79 1546.44 Q1836.31 1549.52 1830 1549.52 Q1827.82 1549.52 1825.55 1549.15 Q1823.31 1548.78 1820.9 1548.04 L1820.9 1543.34 Q1822.98 1544.47 1825.2 1545.03 Q1827.43 1545.58 1829.9 1545.58 Q1833.91 1545.58 1836.25 1543.48 Q1838.58 1541.37 1838.58 1537.76 Q1838.58 1534.15 1836.25 1532.04 Q1833.91 1529.94 1829.9 1529.94 Q1828.03 1529.94 1826.15 1530.35 Q1824.3 1530.77 1822.36 1531.65 L1822.36 1514.29 Z\" fill=\"#000000\" fill-rule=\"evenodd\" fill-opacity=\"1\" /><path clip-path=\"url(#clip710)\" d=\"M2297.28 1544.91 L2304.92 1544.91 L2304.92 1518.55 L2296.61 1520.21 L2296.61 1515.95 L2304.87 1514.29 L2309.55 1514.29 L2309.55 1544.91 L2317.19 1544.91 L2317.19 1548.85 L2297.28 1548.85 L2297.28 1544.91 Z\" fill=\"#000000\" fill-rule=\"evenodd\" fill-opacity=\"1\" /><path clip-path=\"url(#clip710)\" d=\"M2336.63 1517.37 Q2333.02 1517.37 2331.19 1520.93 Q2329.39 1524.47 2329.39 1531.6 Q2329.39 1538.71 2331.19 1542.27 Q2333.02 1545.82 2336.63 1545.82 Q2340.27 1545.82 2342.07 1542.27 Q2343.9 1538.71 2343.9 1531.6 Q2343.9 1524.47 2342.07 1520.93 Q2340.27 1517.37 2336.63 1517.37 M2336.63 1513.66 Q2342.44 1513.66 2345.5 1518.27 Q2348.58 1522.85 2348.58 1531.6 Q2348.58 1540.33 2345.5 1544.94 Q2342.44 1549.52 2336.63 1549.52 Q2330.82 1549.52 2327.74 1544.94 Q2324.69 1540.33 2324.69 1531.6 Q2324.69 1522.85 2327.74 1518.27 Q2330.82 1513.66 2336.63 1513.66 Z\" fill=\"#000000\" fill-rule=\"evenodd\" fill-opacity=\"1\" /><path clip-path=\"url(#clip710)\" d=\"M2366.8 1517.37 Q2363.18 1517.37 2361.36 1520.93 Q2359.55 1524.47 2359.55 1531.6 Q2359.55 1538.71 2361.36 1542.27 Q2363.18 1545.82 2366.8 1545.82 Q2370.43 1545.82 2372.23 1542.27 Q2374.06 1538.71 2374.06 1531.6 Q2374.06 1524.47 2372.23 1520.93 Q2370.43 1517.37 2366.8 1517.37 M2366.8 1513.66 Q2372.61 1513.66 2375.66 1518.27 Q2378.74 1522.85 2378.74 1531.6 Q2378.74 1540.33 2375.66 1544.94 Q2372.61 1549.52 2366.8 1549.52 Q2360.99 1549.52 2357.91 1544.94 Q2354.85 1540.33 2354.85 1531.6 Q2354.85 1522.85 2357.91 1518.27 Q2360.99 1513.66 2366.8 1513.66 Z\" fill=\"#000000\" fill-rule=\"evenodd\" fill-opacity=\"1\" /><path clip-path=\"url(#clip710)\" d=\"M2396.96 1517.37 Q2393.35 1517.37 2391.52 1520.93 Q2389.71 1524.47 2389.71 1531.6 Q2389.71 1538.71 2391.52 1542.27 Q2393.35 1545.82 2396.96 1545.82 Q2400.59 1545.82 2402.4 1542.27 Q2404.23 1538.71 2404.23 1531.6 Q2404.23 1524.47 2402.4 1520.93 Q2400.59 1517.37 2396.96 1517.37 M2396.96 1513.66 Q2402.77 1513.66 2405.82 1518.27 Q2408.9 1522.85 2408.9 1531.6 Q2408.9 1540.33 2405.82 1544.94 Q2402.77 1549.52 2396.96 1549.52 Q2391.15 1549.52 2388.07 1544.94 Q2385.01 1540.33 2385.01 1531.6 Q2385.01 1522.85 2388.07 1518.27 Q2391.15 1513.66 2396.96 1513.66 Z\" fill=\"#000000\" fill-rule=\"evenodd\" fill-opacity=\"1\" /><polyline clip-path=\"url(#clip712)\" style=\"stroke:#000000; stroke-linecap:butt; stroke-linejoin:round; stroke-width:2; stroke-opacity:0.1; fill:none\" points=\"\n  148.057,1486.45 2352.76,1486.45 \n  \"/>\n<polyline clip-path=\"url(#clip712)\" style=\"stroke:#000000; stroke-linecap:butt; stroke-linejoin:round; stroke-width:2; stroke-opacity:0.1; fill:none\" points=\"\n  148.057,1259.29 2352.76,1259.29 \n  \"/>\n<polyline clip-path=\"url(#clip712)\" style=\"stroke:#000000; stroke-linecap:butt; stroke-linejoin:round; stroke-width:2; stroke-opacity:0.1; fill:none\" points=\"\n  148.057,1032.12 2352.76,1032.12 \n  \"/>\n<polyline clip-path=\"url(#clip712)\" style=\"stroke:#000000; stroke-linecap:butt; stroke-linejoin:round; stroke-width:2; stroke-opacity:0.1; fill:none\" points=\"\n  148.057,804.96 2352.76,804.96 \n  \"/>\n<polyline clip-path=\"url(#clip712)\" style=\"stroke:#000000; stroke-linecap:butt; stroke-linejoin:round; stroke-width:2; stroke-opacity:0.1; fill:none\" points=\"\n  148.057,577.797 2352.76,577.797 \n  \"/>\n<polyline clip-path=\"url(#clip712)\" style=\"stroke:#000000; stroke-linecap:butt; stroke-linejoin:round; stroke-width:2; stroke-opacity:0.1; fill:none\" points=\"\n  148.057,350.635 2352.76,350.635 \n  \"/>\n<polyline clip-path=\"url(#clip712)\" style=\"stroke:#000000; stroke-linecap:butt; stroke-linejoin:round; stroke-width:2; stroke-opacity:0.1; fill:none\" points=\"\n  148.057,123.472 2352.76,123.472 \n  \"/>\n<polyline clip-path=\"url(#clip710)\" style=\"stroke:#000000; stroke-linecap:butt; stroke-linejoin:round; stroke-width:4; stroke-opacity:1; fill:none\" points=\"\n  148.057,1486.45 148.057,123.472 \n  \"/>\n<polyline clip-path=\"url(#clip710)\" style=\"stroke:#000000; stroke-linecap:butt; stroke-linejoin:round; stroke-width:4; stroke-opacity:1; fill:none\" points=\"\n  148.057,1486.45 166.954,1486.45 \n  \"/>\n<polyline clip-path=\"url(#clip710)\" style=\"stroke:#000000; stroke-linecap:butt; stroke-linejoin:round; stroke-width:4; stroke-opacity:1; fill:none\" points=\"\n  148.057,1259.29 166.954,1259.29 \n  \"/>\n<polyline clip-path=\"url(#clip710)\" style=\"stroke:#000000; stroke-linecap:butt; stroke-linejoin:round; stroke-width:4; stroke-opacity:1; fill:none\" points=\"\n  148.057,1032.12 166.954,1032.12 \n  \"/>\n<polyline clip-path=\"url(#clip710)\" style=\"stroke:#000000; stroke-linecap:butt; stroke-linejoin:round; stroke-width:4; stroke-opacity:1; fill:none\" points=\"\n  148.057,804.96 166.954,804.96 \n  \"/>\n<polyline clip-path=\"url(#clip710)\" style=\"stroke:#000000; stroke-linecap:butt; stroke-linejoin:round; stroke-width:4; stroke-opacity:1; fill:none\" points=\"\n  148.057,577.797 166.954,577.797 \n  \"/>\n<polyline clip-path=\"url(#clip710)\" style=\"stroke:#000000; stroke-linecap:butt; stroke-linejoin:round; stroke-width:4; stroke-opacity:1; fill:none\" points=\"\n  148.057,350.635 166.954,350.635 \n  \"/>\n<polyline clip-path=\"url(#clip710)\" style=\"stroke:#000000; stroke-linecap:butt; stroke-linejoin:round; stroke-width:4; stroke-opacity:1; fill:none\" points=\"\n  148.057,123.472 166.954,123.472 \n  \"/>\n<path clip-path=\"url(#clip710)\" d=\"M50.9921 1486.9 L80.6679 1486.9 L80.6679 1490.83 L50.9921 1490.83 L50.9921 1486.9 Z\" fill=\"#000000\" fill-rule=\"evenodd\" fill-opacity=\"1\" /><path clip-path=\"url(#clip710)\" d=\"M104.927 1485.09 Q108.283 1485.81 110.158 1488.08 Q112.057 1490.35 112.057 1493.68 Q112.057 1498.8 108.538 1501.6 Q105.02 1504.4 98.5382 1504.4 Q96.3623 1504.4 94.0475 1503.96 Q91.7558 1503.54 89.3021 1502.69 L89.3021 1498.17 Q91.2465 1499.31 93.5613 1499.89 Q95.8761 1500.46 98.3993 1500.46 Q102.797 1500.46 105.089 1498.73 Q107.404 1496.99 107.404 1493.68 Q107.404 1490.63 105.251 1488.91 Q103.121 1487.18 99.3021 1487.18 L95.2743 1487.18 L95.2743 1483.33 L99.4872 1483.33 Q102.936 1483.33 104.765 1481.97 Q106.594 1480.58 106.594 1477.99 Q106.594 1475.33 104.696 1473.91 Q102.821 1472.48 99.3021 1472.48 Q97.3808 1472.48 95.1817 1472.89 Q92.9826 1473.31 90.3438 1474.19 L90.3438 1470.02 Q93.0058 1469.28 95.3206 1468.91 Q97.6585 1468.54 99.7187 1468.54 Q105.043 1468.54 108.145 1470.97 Q111.246 1473.38 111.246 1477.5 Q111.246 1480.37 109.603 1482.36 Q107.959 1484.33 104.927 1485.09 Z\" fill=\"#000000\" fill-rule=\"evenodd\" fill-opacity=\"1\" /><path clip-path=\"url(#clip710)\" d=\"M51.9412 1259.74 L81.617 1259.74 L81.617 1263.67 L51.9412 1263.67 L51.9412 1259.74 Z\" fill=\"#000000\" fill-rule=\"evenodd\" fill-opacity=\"1\" /><path clip-path=\"url(#clip710)\" d=\"M95.7373 1272.63 L112.057 1272.63 L112.057 1276.57 L90.1123 1276.57 L90.1123 1272.63 Q92.7743 1269.88 97.3576 1265.25 Q101.964 1260.59 103.145 1259.25 Q105.39 1256.73 106.27 1254.99 Q107.172 1253.23 107.172 1251.54 Q107.172 1248.79 105.228 1247.05 Q103.307 1245.32 100.205 1245.32 Q98.0058 1245.32 95.5521 1246.08 Q93.1215 1246.84 90.3438 1248.39 L90.3438 1243.67 Q93.1678 1242.54 95.6215 1241.96 Q98.0752 1241.38 100.112 1241.38 Q105.483 1241.38 108.677 1244.07 Q111.871 1246.75 111.871 1251.24 Q111.871 1253.37 111.061 1255.29 Q110.274 1257.19 108.168 1259.78 Q107.589 1260.45 104.487 1263.67 Q101.385 1266.87 95.7373 1272.63 Z\" fill=\"#000000\" fill-rule=\"evenodd\" fill-opacity=\"1\" /><path clip-path=\"url(#clip710)\" d=\"M51.5708 1032.57 L81.2466 1032.57 L81.2466 1036.51 L51.5708 1036.51 L51.5708 1032.57 Z\" fill=\"#000000\" fill-rule=\"evenodd\" fill-opacity=\"1\" /><path clip-path=\"url(#clip710)\" d=\"M92.1493 1045.47 L99.7882 1045.47 L99.7882 1019.1 L91.478 1020.77 L91.478 1016.51 L99.7419 1014.84 L104.418 1014.84 L104.418 1045.47 L112.057 1045.47 L112.057 1049.4 L92.1493 1049.4 L92.1493 1045.47 Z\" fill=\"#000000\" fill-rule=\"evenodd\" fill-opacity=\"1\" /><path clip-path=\"url(#clip710)\" d=\"M100.112 790.759 Q96.5011 790.759 94.6724 794.323 Q92.8669 797.865 92.8669 804.995 Q92.8669 812.101 94.6724 815.666 Q96.5011 819.208 100.112 819.208 Q103.746 819.208 105.552 815.666 Q107.381 812.101 107.381 804.995 Q107.381 797.865 105.552 794.323 Q103.746 790.759 100.112 790.759 M100.112 787.055 Q105.922 787.055 108.978 791.661 Q112.057 796.245 112.057 804.995 Q112.057 813.722 108.978 818.328 Q105.922 822.911 100.112 822.911 Q94.3021 822.911 91.2234 818.328 Q88.1679 813.722 88.1679 804.995 Q88.1679 796.245 91.2234 791.661 Q94.3021 787.055 100.112 787.055 Z\" fill=\"#000000\" fill-rule=\"evenodd\" fill-opacity=\"1\" /><path clip-path=\"url(#clip710)\" d=\"M92.1493 591.142 L99.7882 591.142 L99.7882 564.777 L91.478 566.443 L91.478 562.184 L99.7419 560.517 L104.418 560.517 L104.418 591.142 L112.057 591.142 L112.057 595.077 L92.1493 595.077 L92.1493 591.142 Z\" fill=\"#000000\" fill-rule=\"evenodd\" fill-opacity=\"1\" /><path clip-path=\"url(#clip710)\" d=\"M95.7373 363.98 L112.057 363.98 L112.057 367.915 L90.1123 367.915 L90.1123 363.98 Q92.7743 361.225 97.3576 356.595 Q101.964 351.943 103.145 350.6 Q105.39 348.077 106.27 346.341 Q107.172 344.582 107.172 342.892 Q107.172 340.137 105.228 338.401 Q103.307 336.665 100.205 336.665 Q98.0058 336.665 95.5521 337.429 Q93.1215 338.193 90.3438 339.744 L90.3438 335.021 Q93.1678 333.887 95.6215 333.308 Q98.0752 332.73 100.112 332.73 Q105.483 332.73 108.677 335.415 Q111.871 338.1 111.871 342.591 Q111.871 344.72 111.061 346.642 Q110.274 348.54 108.168 351.132 Q107.589 351.804 104.487 355.021 Q101.385 358.216 95.7373 363.98 Z\" fill=\"#000000\" fill-rule=\"evenodd\" fill-opacity=\"1\" /><path clip-path=\"url(#clip710)\" d=\"M104.927 122.118 Q108.283 122.836 110.158 125.104 Q112.057 127.373 112.057 130.706 Q112.057 135.822 108.538 138.623 Q105.02 141.423 98.5382 141.423 Q96.3623 141.423 94.0475 140.984 Q91.7558 140.567 89.3021 139.71 L89.3021 135.197 Q91.2465 136.331 93.5613 136.91 Q95.8761 137.488 98.3993 137.488 Q102.797 137.488 105.089 135.752 Q107.404 134.016 107.404 130.706 Q107.404 127.65 105.251 125.937 Q103.121 124.201 99.3021 124.201 L95.2743 124.201 L95.2743 120.359 L99.4872 120.359 Q102.936 120.359 104.765 118.993 Q106.594 117.604 106.594 115.012 Q106.594 112.35 104.696 110.937 Q102.821 109.502 99.3021 109.502 Q97.3808 109.502 95.1817 109.919 Q92.9826 110.336 90.3438 111.215 L90.3438 107.049 Q93.0058 106.308 95.3206 105.937 Q97.6585 105.567 99.7187 105.567 Q105.043 105.567 108.145 107.998 Q111.246 110.405 111.246 114.525 Q111.246 117.396 109.603 119.386 Q107.959 121.354 104.927 122.118 Z\" fill=\"#000000\" fill-rule=\"evenodd\" fill-opacity=\"1\" /><path clip-path=\"url(#clip710)\" d=\"M765.108 65.6895 L778.476 65.6895 L778.476 19.5497 L763.933 22.4663 L763.933 15.0127 L778.395 12.096 L786.578 12.096 L786.578 65.6895 L799.946 65.6895 L799.946 72.576 L765.108 72.576 L765.108 65.6895 Z\" fill=\"#000000\" fill-rule=\"evenodd\" fill-opacity=\"1\" /><path clip-path=\"url(#clip710)\" d=\"M811.653 46.5287 L833.487 46.5287 L833.487 53.1722 L811.653 53.1722 L811.653 46.5287 Z\" fill=\"#000000\" fill-rule=\"evenodd\" fill-opacity=\"1\" /><path clip-path=\"url(#clip710)\" d=\"M874.28 28.5427 L874.28 35.5912 Q871.12 33.9709 867.717 33.1607 Q864.315 32.3505 860.669 32.3505 Q855.119 32.3505 852.324 34.0519 Q849.569 35.7533 849.569 39.156 Q849.569 41.7486 851.554 43.2475 Q853.539 44.7058 859.535 46.0426 L862.087 46.6097 Q870.026 48.3111 873.348 51.4303 Q876.71 54.509 876.71 60.0587 Q876.71 66.3781 871.687 70.0644 Q866.705 73.7508 857.955 73.7508 Q854.309 73.7508 850.339 73.0216 Q846.41 72.3329 842.035 70.9151 L842.035 63.2184 Q846.167 65.3654 850.177 66.4591 Q854.187 67.5124 858.117 67.5124 Q863.383 67.5124 866.219 65.73 Q869.054 63.9071 869.054 60.6258 Q869.054 57.5877 866.988 55.9673 Q864.963 54.3469 858.036 52.8481 L855.443 52.2405 Q848.516 50.7821 845.437 47.7845 Q842.359 44.7463 842.359 39.4801 Q842.359 33.0797 846.896 29.5959 Q851.433 26.1121 859.778 26.1121 Q863.909 26.1121 867.555 26.7198 Q871.201 27.3274 874.28 28.5427 Z\" fill=\"#000000\" fill-rule=\"evenodd\" fill-opacity=\"1\" /><path clip-path=\"url(#clip710)\" d=\"M895.952 14.324 L895.952 27.2059 L911.305 27.2059 L911.305 32.9987 L895.952 32.9987 L895.952 57.6282 Q895.952 63.1779 897.451 64.7578 Q898.99 66.3376 903.649 66.3376 L911.305 66.3376 L911.305 72.576 L903.649 72.576 Q895.02 72.576 891.739 69.3758 Q888.458 66.1351 888.458 57.6282 L888.458 32.9987 L882.989 32.9987 L882.989 27.2059 L888.458 27.2059 L888.458 14.324 L895.952 14.324 Z\" fill=\"#000000\" fill-rule=\"evenodd\" fill-opacity=\"1\" /><path clip-path=\"url(#clip710)\" d=\"M959.916 48.0275 L959.916 51.6733 L925.645 51.6733 Q926.131 59.3701 930.263 63.421 Q934.436 67.4314 941.849 67.4314 Q946.143 67.4314 950.153 66.3781 Q954.204 65.3249 958.174 63.2184 L958.174 70.267 Q954.164 71.9684 949.951 72.8596 Q945.738 73.7508 941.403 73.7508 Q930.547 73.7508 924.187 67.4314 Q917.868 61.1119 917.868 50.3365 Q917.868 39.1965 923.863 32.6746 Q929.899 26.1121 940.107 26.1121 Q949.262 26.1121 954.569 32.0264 Q959.916 37.9003 959.916 48.0275 M952.462 45.84 Q952.381 39.7232 949.019 36.0774 Q945.697 32.4315 940.188 32.4315 Q933.95 32.4315 930.182 35.9558 Q926.455 39.4801 925.888 45.8805 L952.462 45.84 Z\" fill=\"#000000\" fill-rule=\"evenodd\" fill-opacity=\"1\" /><path clip-path=\"url(#clip710)\" d=\"M979.36 65.7705 L979.36 89.8329 L971.866 89.8329 L971.866 27.2059 L979.36 27.2059 L979.36 34.0924 Q981.71 30.0415 985.275 28.0971 Q988.88 26.1121 993.862 26.1121 Q1002.13 26.1121 1007.27 32.6746 Q1012.46 39.2371 1012.46 49.9314 Q1012.46 60.6258 1007.27 67.1883 Q1002.13 73.7508 993.862 73.7508 Q988.88 73.7508 985.275 71.8063 Q981.71 69.8214 979.36 65.7705 M1004.72 49.9314 Q1004.72 41.7081 1001.32 37.0496 Q997.954 32.3505 992.04 32.3505 Q986.125 32.3505 982.723 37.0496 Q979.36 41.7081 979.36 49.9314 Q979.36 58.1548 982.723 62.8538 Q986.125 67.5124 992.04 67.5124 Q997.954 67.5124 1001.32 62.8538 Q1004.72 58.1548 1004.72 49.9314 Z\" fill=\"#000000\" fill-rule=\"evenodd\" fill-opacity=\"1\" /><path clip-path=\"url(#clip710)\" d=\"M1071.8 49.7694 Q1062.77 49.7694 1059.28 51.8354 Q1055.8 53.9013 1055.8 58.8839 Q1055.8 62.8538 1058.39 65.2034 Q1061.03 67.5124 1065.52 67.5124 Q1071.72 67.5124 1075.45 63.1374 Q1079.22 58.7219 1079.22 51.4303 L1079.22 49.7694 L1071.8 49.7694 M1086.67 46.6907 L1086.67 72.576 L1079.22 72.576 L1079.22 65.6895 Q1076.66 69.8214 1072.86 71.8063 Q1069.05 73.7508 1063.54 73.7508 Q1056.57 73.7508 1052.44 69.8619 Q1048.35 65.9325 1048.35 59.3701 Q1048.35 51.7138 1053.45 47.825 Q1058.6 43.9361 1068.76 43.9361 L1079.22 43.9361 L1079.22 43.2069 Q1079.22 38.0623 1075.81 35.2672 Q1072.45 32.4315 1066.33 32.4315 Q1062.44 32.4315 1058.76 33.3632 Q1055.07 34.295 1051.67 36.1584 L1051.67 29.2718 Q1055.76 27.692 1059.61 26.9223 Q1063.46 26.1121 1067.1 26.1121 Q1076.95 26.1121 1081.81 31.2163 Q1086.67 36.3204 1086.67 46.6907 Z\" fill=\"#000000\" fill-rule=\"evenodd\" fill-opacity=\"1\" /><path clip-path=\"url(#clip710)\" d=\"M1139.74 45.1919 L1139.74 72.576 L1132.28 72.576 L1132.28 45.4349 Q1132.28 38.994 1129.77 35.7938 Q1127.26 32.5936 1122.24 32.5936 Q1116.2 32.5936 1112.72 36.4419 Q1109.23 40.2903 1109.23 46.9338 L1109.23 72.576 L1101.74 72.576 L1101.74 9.54393 L1109.23 9.54393 L1109.23 34.2544 Q1111.91 30.163 1115.51 28.1376 Q1119.16 26.1121 1123.9 26.1121 Q1131.71 26.1121 1135.73 30.9732 Q1139.74 35.7938 1139.74 45.1919 Z\" fill=\"#000000\" fill-rule=\"evenodd\" fill-opacity=\"1\" /><path clip-path=\"url(#clip710)\" d=\"M1193.41 48.0275 L1193.41 51.6733 L1159.14 51.6733 Q1159.63 59.3701 1163.76 63.421 Q1167.93 67.4314 1175.34 67.4314 Q1179.64 67.4314 1183.65 66.3781 Q1187.7 65.3249 1191.67 63.2184 L1191.67 70.267 Q1187.66 71.9684 1183.44 72.8596 Q1179.23 73.7508 1174.9 73.7508 Q1164.04 73.7508 1157.68 67.4314 Q1151.36 61.1119 1151.36 50.3365 Q1151.36 39.1965 1157.36 32.6746 Q1163.39 26.1121 1173.6 26.1121 Q1182.76 26.1121 1188.06 32.0264 Q1193.41 37.9003 1193.41 48.0275 M1185.96 45.84 Q1185.88 39.7232 1182.51 36.0774 Q1179.19 32.4315 1173.68 32.4315 Q1167.44 32.4315 1163.68 35.9558 Q1159.95 39.4801 1159.38 45.8805 L1185.96 45.84 Z\" fill=\"#000000\" fill-rule=\"evenodd\" fill-opacity=\"1\" /><path clip-path=\"url(#clip710)\" d=\"M1226.26 49.7694 Q1217.23 49.7694 1213.75 51.8354 Q1210.26 53.9013 1210.26 58.8839 Q1210.26 62.8538 1212.85 65.2034 Q1215.49 67.5124 1219.98 67.5124 Q1226.18 67.5124 1229.91 63.1374 Q1233.68 58.7219 1233.68 51.4303 L1233.68 49.7694 L1226.26 49.7694 M1241.13 46.6907 L1241.13 72.576 L1233.68 72.576 L1233.68 65.6895 Q1231.12 69.8214 1227.32 71.8063 Q1223.51 73.7508 1218 73.7508 Q1211.03 73.7508 1206.9 69.8619 Q1202.81 65.9325 1202.81 59.3701 Q1202.81 51.7138 1207.91 47.825 Q1213.06 43.9361 1223.22 43.9361 L1233.68 43.9361 L1233.68 43.2069 Q1233.68 38.0623 1230.27 35.2672 Q1226.91 32.4315 1220.79 32.4315 Q1216.91 32.4315 1213.22 33.3632 Q1209.53 34.295 1206.13 36.1584 L1206.13 29.2718 Q1210.22 27.692 1214.07 26.9223 Q1217.92 26.1121 1221.56 26.1121 Q1231.41 26.1121 1236.27 31.2163 Q1241.13 36.3204 1241.13 46.6907 Z\" fill=\"#000000\" fill-rule=\"evenodd\" fill-opacity=\"1\" /><path clip-path=\"url(#clip710)\" d=\"M1286.34 34.0924 L1286.34 9.54393 L1293.79 9.54393 L1293.79 72.576 L1286.34 72.576 L1286.34 65.7705 Q1283.99 69.8214 1280.38 71.8063 Q1276.82 73.7508 1271.8 73.7508 Q1263.57 73.7508 1258.39 67.1883 Q1253.24 60.6258 1253.24 49.9314 Q1253.24 39.2371 1258.39 32.6746 Q1263.57 26.1121 1271.8 26.1121 Q1276.82 26.1121 1280.38 28.0971 Q1283.99 30.0415 1286.34 34.0924 M1260.94 49.9314 Q1260.94 58.1548 1264.3 62.8538 Q1267.7 67.5124 1273.62 67.5124 Q1279.53 67.5124 1282.94 62.8538 Q1286.34 58.1548 1286.34 49.9314 Q1286.34 41.7081 1282.94 37.0496 Q1279.53 32.3505 1273.62 32.3505 Q1267.7 32.3505 1264.3 37.0496 Q1260.94 41.7081 1260.94 49.9314 Z\" fill=\"#000000\" fill-rule=\"evenodd\" fill-opacity=\"1\" /><path clip-path=\"url(#clip710)\" d=\"M1342.73 65.7705 L1342.73 89.8329 L1335.23 89.8329 L1335.23 27.2059 L1342.73 27.2059 L1342.73 34.0924 Q1345.08 30.0415 1348.64 28.0971 Q1352.25 26.1121 1357.23 26.1121 Q1365.49 26.1121 1370.64 32.6746 Q1375.82 39.2371 1375.82 49.9314 Q1375.82 60.6258 1370.64 67.1883 Q1365.49 73.7508 1357.23 73.7508 Q1352.25 73.7508 1348.64 71.8063 Q1345.08 69.8214 1342.73 65.7705 M1368.09 49.9314 Q1368.09 41.7081 1364.68 37.0496 Q1361.32 32.3505 1355.41 32.3505 Q1349.49 32.3505 1346.09 37.0496 Q1342.73 41.7081 1342.73 49.9314 Q1342.73 58.1548 1346.09 62.8538 Q1349.49 67.5124 1355.41 67.5124 Q1361.32 67.5124 1364.68 62.8538 Q1368.09 58.1548 1368.09 49.9314 Z\" fill=\"#000000\" fill-rule=\"evenodd\" fill-opacity=\"1\" /><path clip-path=\"url(#clip710)\" d=\"M1414.47 34.1734 Q1413.21 33.4443 1411.71 33.1202 Q1410.25 32.7556 1408.47 32.7556 Q1402.15 32.7556 1398.75 36.8875 Q1395.39 40.9789 1395.39 48.6757 L1395.39 72.576 L1387.89 72.576 L1387.89 27.2059 L1395.39 27.2059 L1395.39 34.2544 Q1397.74 30.1225 1401.5 28.1376 Q1405.27 26.1121 1410.66 26.1121 Q1411.43 26.1121 1412.36 26.2337 Q1413.29 26.3147 1414.43 26.5172 L1414.47 34.1734 Z\" fill=\"#000000\" fill-rule=\"evenodd\" fill-opacity=\"1\" /><path clip-path=\"url(#clip710)\" d=\"M1459.27 48.0275 L1459.27 51.6733 L1425 51.6733 Q1425.49 59.3701 1429.62 63.421 Q1433.79 67.4314 1441.2 67.4314 Q1445.5 67.4314 1449.51 66.3781 Q1453.56 65.3249 1457.53 63.2184 L1457.53 70.267 Q1453.52 71.9684 1449.31 72.8596 Q1445.09 73.7508 1440.76 73.7508 Q1429.9 73.7508 1423.54 67.4314 Q1417.22 61.1119 1417.22 50.3365 Q1417.22 39.1965 1423.22 32.6746 Q1429.25 26.1121 1439.46 26.1121 Q1448.62 26.1121 1453.92 32.0264 Q1459.27 37.9003 1459.27 48.0275 M1451.82 45.84 Q1451.74 39.7232 1448.37 36.0774 Q1445.05 32.4315 1439.54 32.4315 Q1433.3 32.4315 1429.54 35.9558 Q1425.81 39.4801 1425.24 45.8805 L1451.82 45.84 Z\" fill=\"#000000\" fill-rule=\"evenodd\" fill-opacity=\"1\" /><path clip-path=\"url(#clip710)\" d=\"M1501.36 34.0924 L1501.36 9.54393 L1508.81 9.54393 L1508.81 72.576 L1501.36 72.576 L1501.36 65.7705 Q1499.01 69.8214 1495.4 71.8063 Q1491.84 73.7508 1486.82 73.7508 Q1478.59 73.7508 1473.41 67.1883 Q1468.26 60.6258 1468.26 49.9314 Q1468.26 39.2371 1473.41 32.6746 Q1478.59 26.1121 1486.82 26.1121 Q1491.84 26.1121 1495.4 28.0971 Q1499.01 30.0415 1501.36 34.0924 M1475.96 49.9314 Q1475.96 58.1548 1479.32 62.8538 Q1482.73 67.5124 1488.64 67.5124 Q1494.55 67.5124 1497.96 62.8538 Q1501.36 58.1548 1501.36 49.9314 Q1501.36 41.7081 1497.96 37.0496 Q1494.55 32.3505 1488.64 32.3505 Q1482.73 32.3505 1479.32 37.0496 Q1475.96 41.7081 1475.96 49.9314 Z\" fill=\"#000000\" fill-rule=\"evenodd\" fill-opacity=\"1\" /><path clip-path=\"url(#clip710)\" d=\"M1524.17 27.2059 L1531.62 27.2059 L1531.62 72.576 L1524.17 72.576 L1524.17 27.2059 M1524.17 9.54393 L1531.62 9.54393 L1531.62 18.9825 L1524.17 18.9825 L1524.17 9.54393 Z\" fill=\"#000000\" fill-rule=\"evenodd\" fill-opacity=\"1\" /><path clip-path=\"url(#clip710)\" d=\"M1579.87 28.9478 L1579.87 35.9153 Q1576.71 34.1734 1573.51 33.3227 Q1570.35 32.4315 1567.11 32.4315 Q1559.85 32.4315 1555.84 37.0496 Q1551.83 41.6271 1551.83 49.9314 Q1551.83 58.2358 1555.84 62.8538 Q1559.85 67.4314 1567.11 67.4314 Q1570.35 67.4314 1573.51 66.5807 Q1576.71 65.6895 1579.87 63.9476 L1579.87 70.8341 Q1576.75 72.2924 1573.38 73.0216 Q1570.06 73.7508 1566.3 73.7508 Q1556.05 73.7508 1550.01 67.3098 Q1543.98 60.8689 1543.98 49.9314 Q1543.98 38.832 1550.05 32.472 Q1556.17 26.1121 1566.78 26.1121 Q1570.23 26.1121 1573.51 26.8413 Q1576.79 27.5299 1579.87 28.9478 Z\" fill=\"#000000\" fill-rule=\"evenodd\" fill-opacity=\"1\" /><path clip-path=\"url(#clip710)\" d=\"M1600.2 14.324 L1600.2 27.2059 L1615.55 27.2059 L1615.55 32.9987 L1600.2 32.9987 L1600.2 57.6282 Q1600.2 63.1779 1601.7 64.7578 Q1603.24 66.3376 1607.9 66.3376 L1615.55 66.3376 L1615.55 72.576 L1607.9 72.576 Q1599.27 72.576 1595.99 69.3758 Q1592.71 66.1351 1592.71 57.6282 L1592.71 32.9987 L1587.24 32.9987 L1587.24 27.2059 L1592.71 27.2059 L1592.71 14.324 L1600.2 14.324 Z\" fill=\"#000000\" fill-rule=\"evenodd\" fill-opacity=\"1\" /><path clip-path=\"url(#clip710)\" d=\"M1625.36 27.2059 L1632.81 27.2059 L1632.81 72.576 L1625.36 72.576 L1625.36 27.2059 M1625.36 9.54393 L1632.81 9.54393 L1632.81 18.9825 L1625.36 18.9825 L1625.36 9.54393 Z\" fill=\"#000000\" fill-rule=\"evenodd\" fill-opacity=\"1\" /><path clip-path=\"url(#clip710)\" d=\"M1665.99 32.4315 Q1659.99 32.4315 1656.51 37.1306 Q1653.03 41.7891 1653.03 49.9314 Q1653.03 58.0738 1656.47 62.7728 Q1659.95 67.4314 1665.99 67.4314 Q1671.94 67.4314 1675.43 62.7323 Q1678.91 58.0333 1678.91 49.9314 Q1678.91 41.8701 1675.43 37.1711 Q1671.94 32.4315 1665.99 32.4315 M1665.99 26.1121 Q1675.71 26.1121 1681.26 32.4315 Q1686.81 38.7509 1686.81 49.9314 Q1686.81 61.0714 1681.26 67.4314 Q1675.71 73.7508 1665.99 73.7508 Q1656.23 73.7508 1650.68 67.4314 Q1645.17 61.0714 1645.17 49.9314 Q1645.17 38.7509 1650.68 32.4315 Q1656.23 26.1121 1665.99 26.1121 Z\" fill=\"#000000\" fill-rule=\"evenodd\" fill-opacity=\"1\" /><path clip-path=\"url(#clip710)\" d=\"M1736.88 45.1919 L1736.88 72.576 L1729.43 72.576 L1729.43 45.4349 Q1729.43 38.994 1726.91 35.7938 Q1724.4 32.5936 1719.38 32.5936 Q1713.34 32.5936 1709.86 36.4419 Q1706.38 40.2903 1706.38 46.9338 L1706.38 72.576 L1698.88 72.576 L1698.88 27.2059 L1706.38 27.2059 L1706.38 34.2544 Q1709.05 30.163 1712.65 28.1376 Q1716.3 26.1121 1721.04 26.1121 Q1728.86 26.1121 1732.87 30.9732 Q1736.88 35.7938 1736.88 45.1919 Z\" fill=\"#000000\" fill-rule=\"evenodd\" fill-opacity=\"1\" /><polyline clip-path=\"url(#clip712)\" style=\"stroke:#009af9; stroke-linecap:butt; stroke-linejoin:round; stroke-width:4; stroke-opacity:1; fill:none\" points=\"\n  -19672.2,804.96 -19650.1,804.96 -19628.1,751.186 -19606,717.605 -19584,921.368 -19562,901.287 -19539.9,876.588 -19517.9,881.44 -19495.8,885.2 -19473.8,884.397 \n  -19451.7,887.232 -19429.7,891.229 -19407.6,899.59 -19385.6,908.149 -19363.5,915.374 -19341.5,924.108 -19319.4,934.437 -19297.4,940.457 -19275.3,945.813 -19253.3,953.085 \n  -19231.3,959.925 -19209.2,966.399 -19187.2,971.421 -19165.1,974.752 -19143.1,978.265 -19121,980.012 -19099,983.161 -19076.9,983.028 -19054.9,986.253 -19032.8,988.939 \n  -19010.8,989.946 -18988.7,988.705 -18966.7,990.931 -18944.6,989.826 -18922.6,988.811 -18900.5,991.996 -18878.5,990.275 -18856.5,990.346 -18834.4,991.672 -18812.4,991.515 \n  -18790.3,991.333 -18768.3,988.753 -18746.2,990.585 -18724.2,989.541 -18702.1,987.913 -18680.1,988.994 -18658,987.095 -18636,986.733 -18613.9,987.222 -18591.9,987.277 \n  -18569.8,987.117 -18547.8,985.089 -18525.7,986.234 -18503.7,985.166 -18481.7,985.033 -18459.6,985.296 -18437.6,985.094 -18415.5,986.407 -18393.5,986.583 -18371.4,988.961 \n  -18349.4,991.229 -18327.3,989.673 -18305.3,989.567 -18283.2,991.018 -18261.2,991.765 -18239.1,992.169 -18217.1,989.657 -18195,988.715 -18173,990.354 -18150.9,989.61 \n  -18128.9,991.388 -18106.9,990.964 -18084.8,989.676 -18062.8,988.59 -18040.7,987.523 -18018.7,987.448 -17996.6,986.534 -17974.6,988.398 -17952.5,988.176 -17930.5,986.825 \n  -17908.4,986.845 -17886.4,983.636 -17864.3,981.849 -17842.3,982.18 -17820.2,981.941 -17798.2,980.565 -17776.1,981.539 -17754.1,981.934 -17732.1,978.035 -17710,977.965 \n  -17688,979.571 -17665.9,977.283 -17643.9,975.862 -17621.8,977.997 -17599.8,977.995 -17577.7,977.323 -17555.7,980.532 -17533.6,979.7 -17511.6,979.748 -17489.5,978.795 \n  -17467.5,978.054 -17445.4,979.732 -17423.4,979.958 -17401.3,979.503 -17379.3,979.056 -17357.3,978.367 -17335.2,976.757 -17313.2,977.322 -17291.1,978.879 -17269.1,979.328 \n  -17247,980.296 -17225,980.431 -17202.9,980.518 -17180.9,983.51 -17158.8,982.578 -17136.8,984.498 -17114.7,984.55 -17092.7,984.316 -17070.6,986.662 -17048.6,983.573 \n  -17026.6,982.83 -17004.5,984.291 -16982.5,979.248 -16960.4,980.682 -16938.4,975.312 -16916.3,973.145 -16894.3,974.201 -16872.2,967.542 -16850.2,965.985 -16828.1,962.619 \n  -16806.1,956.984 -16784,954.538 -16762,952.616 -16739.9,951.581 -16717.9,945.613 -16695.8,944.429 -16673.8,933.492 -16651.8,916.409 -16629.7,899.272 -16607.7,851.335 \n  -16585.6,797.901 -16563.6,742.567 -16541.5,691.743 -16519.5,655.403 -16497.4,634.374 -16475.4,600.13 -16453.3,572.76 -16431.3,535.355 -16409.2,498.361 -16387.2,462.843 \n  -16365.1,432.539 -16343.1,409.624 -16321,381.816 -16299,366.228 -16277,341.767 -16254.9,344.797 -16232.9,347.389 -16210.8,346.642 -16188.8,346.33 -16166.7,346.415 \n  -16144.7,346.472 -16122.6,346.574 -16100.6,346.775 -16078.5,347.057 -16056.5,347.409 -16034.4,347.83 -16012.4,348.315 -15990.3,348.856 -15968.3,350.249 -15946.2,355.232 \n  -15924.2,365.427 -15902.2,367.193 -15880.1,382.09 -15858.1,387.346 -15836,399.006 -15814,402.487 -15791.9,419.53 -15769.9,431.079 -15747.8,449.805 -15725.8,461.274 \n  -15703.7,480.752 -15681.7,500.056 -15659.6,515.466 -15637.6,540.511 -15615.5,561.966 -15593.5,574.243 -15571.4,596.659 -15549.4,616.215 -15527.4,632.488 -15505.3,650.41 \n  -15483.3,666.688 -15461.2,680.59 -15439.2,697.672 -15417.1,716.252 -15395.1,738.889 -15373,759.798 -15351,783.022 -15328.9,810.658 -15306.9,867.143 -15284.8,901.545 \n  -15262.8,914.061 -15240.7,928.288 -15218.7,941.658 -15196.7,951.629 -15174.6,960.442 -15152.6,969.445 -15130.5,979.129 -15108.5,986.154 -15086.4,990.697 -15064.4,996.804 \n  -15042.3,1000.48 -15020.3,1004.49 -14998.2,1007.47 -14976.2,1011.49 -14954.1,1013.97 -14932.1,1013.28 -14910,1014.33 -14888,1013.02 -14865.9,1013.31 -14843.9,1011.83 \n  -14821.9,1013.9 -14799.8,1014.66 -14777.8,1010.93 -14755.7,1009.87 -14733.7,1009.84 -14711.6,1008.27 -14689.6,1006.1 -14667.5,1005.99 -14645.5,1005.01 -14623.4,1003.08 \n  -14601.4,1001.54 -14579.3,999.68 -14557.3,998.621 -14535.2,995.775 -14513.2,993.432 -14491.1,993.243 -14469.1,994.005 -14447.1,993.075 -14425,992.043 -14403,993.626 \n  -14380.9,992.962 -14358.9,991.402 -14336.8,993.082 -14314.8,993.142 -14292.7,992.942 -14270.7,994.319 -14248.6,995.924 -14226.6,995.915 -14204.5,996.908 -14182.5,998.92 \n  -14160.4,1000.06 -14138.4,998.281 -14116.3,998.387 -14094.3,999.89 -14072.3,1003.54 -14050.2,1006.65 -14028.2,1007.33 -14006.1,1010.18 -13984.1,1012.91 -13962,1013.61 \n  -13940,1017.58 -13917.9,1022.38 -13895.9,1023.24 -13873.8,1025.26 -13851.8,1031.35 -13829.7,1034.23 -13807.7,1037.47 -13785.6,1041.22 -13763.6,1045.13 -13741.5,1047.82 \n  -13719.5,1048.56 -13697.5,1051.81 -13675.4,1054.27 -13653.4,1055.48 -13631.3,1055.13 -13609.3,1055.88 -13587.2,1059.1 -13565.2,1057.1 -13543.1,1055.05 -13521.1,1054.97 \n  -13499,1055 -13477,1054.9 -13454.9,1055.9 -13432.9,1054.18 -13410.8,1052.48 -13388.8,1051.4 -13366.8,1049.15 -13344.7,1045.25 -13322.7,1044.06 -13300.6,1044.39 \n  -13278.6,1040.27 -13256.5,1040.75 -13234.5,1037.77 -13212.4,1036.8 -13190.4,1036.43 -13168.3,1034.44 -13146.3,1032.55 -13124.2,1029.41 -13102.2,1028.73 -13080.1,1028.84 \n  -13058.1,1026.39 -13036,1022.83 -13014,1023.26 -12992,1019.82 -12969.9,1019.85 -12947.9,1019.42 -12925.8,1014.35 -12903.8,1012.17 -12881.7,1009.7 -12859.7,1010.17 \n  -12837.6,1007.41 -12815.6,1007.23 -12793.5,1007.64 -12771.5,1003.12 -12749.4,1000.19 -12727.4,1001.15 -12705.3,1002.29 -12683.3,1000.89 -12661.2,997.222 -12639.2,996.626 \n  -12617.2,998.864 -12595.1,998.486 -12573.1,997.04 -12551,995.058 -12529,995.5 -12506.9,992.937 -12484.9,990.426 -12462.8,989.822 -12440.8,987.975 -12418.7,985.868 \n  -12396.7,986.554 -12374.6,985.501 -12352.6,984.017 -12330.5,979.287 -12308.5,979.846 -12286.4,978.704 -12264.4,974.78 -12242.4,972.797 -12220.3,972.088 -12198.3,969.44 \n  -12176.2,964.036 -12154.2,960.511 -12132.1,958.958 -12110.1,957.652 -12088,954.009 -12066,951.304 -12043.9,950.364 -12021.9,944.875 -11999.8,943.23 -11977.8,939.877 \n  -11955.7,930.728 -11933.7,928.198 -11911.6,918.992 -11889.6,910.959 -11867.6,905.398 -11845.5,898.61 -11823.5,890.073 -11801.4,879.304 -11779.4,869.601 -11757.3,863.749 \n  -11735.3,852.747 -11713.2,847.095 -11691.2,837.255 -11669.1,828.823 -11647.1,821.652 -11625,810.344 -11603,795.457 -11580.9,786.362 -11558.9,778.66 -11536.8,769.896 \n  -11514.8,756.18 -11492.8,745.248 -11470.7,738.306 -11448.7,727.492 -11426.6,719.034 -11404.6,706.624 -11382.5,697.119 -11360.5,689.295 -11338.4,681.977 -11316.4,672.17 \n  -11294.3,658.94 -11272.3,643.959 -11250.2,630.853 -11228.2,611.853 -11206.1,599.109 -11184.1,580.349 -11162.1,558.916 -11140,547.102 -11118,533.158 -11095.9,512.712 \n  -11073.9,500.11 -11051.8,490.711 -11029.8,476.135 -11007.7,463.21 -10985.7,458.551 -10963.6,448.941 -10941.6,438.051 -10919.5,425.177 -10897.5,416.688 -10875.4,408.904 \n  -10853.4,404.097 -10831.3,393.62 -10809.3,390.518 -10787.3,383.42 -10765.2,383.2 -10743.2,378.805 -10721.1,379.322 -10699.1,381.464 -10677,380.08 -10655,378.528 \n  -10632.9,380.783 -10610.9,379.377 -10588.8,381.444 -10566.8,389.586 -10544.7,393.691 -10522.7,396.564 -10500.6,406.327 -10478.6,409.303 -10456.5,413.358 -10434.5,425.868 \n  -10412.5,432.659 -10390.4,437.915 -10368.4,448.589 -10346.3,452.025 -10324.3,464.708 -10302.2,474.086 -10280.2,478.577 -10258.1,488.014 -10236.1,500.965 -10214,512.173 \n  -10192,517.265 -10169.9,525.17 -10147.9,537.073 -10125.8,549.536 -10103.8,556.297 -10081.7,564.166 -10059.7,570.75 -10037.7,579.874 -10015.6,586.357 -9993.56,594.229 \n  -9971.51,604.446 -9949.47,608.093 -9927.42,616.988 -9905.37,621.983 -9883.33,627.775 -9861.28,633.832 -9839.23,642.447 -9817.18,650.411 -9795.14,652.949 -9773.09,659.18 \n  -9751.04,667.961 -9729,672.39 -9706.95,675.651 -9684.9,683.601 -9662.86,690.192 -9640.81,691.598 -9618.76,695.632 -9596.71,702.436 -9574.67,707.761 -9552.62,714.537 \n  -9530.57,723.533 -9508.53,730.034 -9486.48,732.24 -9464.43,738.486 -9442.39,746.175 -9420.34,755.819 -9398.29,764.848 -9376.24,769.684 -9354.2,779.386 -9332.15,790.709 \n  -9310.1,800.487 -9288.06,810.381 -9266.01,818.362 -9243.96,859.21 -9221.92,883.095 -9199.87,885.468 -9177.82,892.599 -9155.77,902.775 -9133.73,908.44 -9111.68,915.179 \n  -9089.63,926.083 -9067.59,933.855 -9045.54,940.743 -9023.49,950.192 -9001.45,957.909 -8979.4,964.123 -8957.35,970.4 -8935.3,979.985 -8913.26,988.545 -8891.21,996.47 \n  -8869.16,1002.03 -8847.12,1008.77 -8825.07,1014.75 -8803.02,1022.03 -8780.98,1028.27 -8758.93,1034.16 -8736.88,1036.22 -8714.83,1041.44 -8692.79,1041.87 -8670.74,1044.8 \n  -8648.69,1044.36 -8626.65,1043.7 -8604.6,1043.58 -8582.55,1044.32 -8560.51,1044.58 -8538.46,1042.49 -8516.41,1042.03 -8494.36,1039.79 -8472.32,1035.76 -8450.27,1035.36 \n  -8428.22,1030.77 -8406.18,1026.12 -8384.13,1026.41 -8362.08,1023.76 -8340.04,1014.84 -8317.99,1010.28 -8295.94,1007.37 -8273.89,1001.34 -8251.85,994.066 -8229.8,987.387 \n  -8207.75,978.345 -8185.71,973.025 -8163.66,970.999 -8141.61,967.301 -8119.57,960.792 -8097.52,953.005 -8075.47,948.515 -8053.42,945.928 -8031.38,942.128 -8009.33,939.368 \n  -7987.28,931.972 -7965.24,920.99 -7943.19,909.204 -7921.14,895.714 -7899.1,885.218 -7877.05,872.615 -7855,858.442 -7832.95,844.93 -7810.91,830.816 -7788.86,824 \n  -7766.81,812.818 -7744.77,794.745 -7722.72,784.272 -7700.67,773.254 -7678.63,764.689 -7656.58,753.524 -7634.53,740.868 -7612.48,731.207 -7590.44,723.605 -7568.39,716.685 \n  -7546.34,711.793 -7524.3,706.336 -7502.25,697.041 -7480.2,694.52 -7458.16,691.143 -7436.11,688.202 -7414.06,687.473 -7392.01,685.22 -7369.97,679.6 -7347.92,678.015 \n  -7325.87,678.027 -7303.83,675.49 -7281.78,674.989 -7259.73,677.703 -7237.69,678.484 -7215.64,677.146 -7193.59,675.025 -7171.55,676.284 -7149.5,677.019 -7127.45,675.323 \n  -7105.4,677.427 -7083.36,676.667 -7061.31,678.29 -7039.26,680.358 -7017.22,679.306 -6995.17,682.548 -6973.12,686.524 -6951.08,688.232 -6929.03,687.054 -6906.98,689.801 \n  -6884.93,692.473 -6862.89,691.25 -6840.84,695.717 -6818.79,697.296 -6796.75,699.432 -6774.7,702.176 -6752.65,704.63 -6730.61,707.057 -6708.56,708.774 -6686.51,710.403 \n  -6664.46,713.542 -6642.42,717.602 -6620.37,719.306 -6598.32,721.544 -6576.28,726.206 -6554.23,733.112 -6532.18,737.012 -6510.14,738.011 -6488.09,740.884 -6466.04,745.983 \n  -6443.99,752.758 -6421.95,756.281 -6399.9,758.924 -6377.85,761.573 -6355.81,762.973 -6333.76,765.31 -6311.71,771.666 -6289.67,773.782 -6267.62,777.373 -6245.57,783.618 \n  -6223.52,785.055 -6201.48,787.708 -6179.43,791.886 -6157.38,797.744 -6135.34,799.549 -6113.29,800.578 -6091.24,805.492 -6069.2,809.483 -6047.15,835.593 -6025.1,853.909 \n  -6003.05,851.567 -5981.01,850.726 -5958.96,854.251 -5936.91,856.248 -5914.87,855.069 -5892.82,855.102 -5870.77,855.275 -5848.73,855.185 -5826.68,858.482 -5804.63,859.175 \n  -5782.58,859.117 -5760.54,860.868 -5738.49,857.808 -5716.44,859.019 -5694.4,857.884 -5672.35,856.255 -5650.3,858.153 -5628.26,855.303 -5606.21,852.159 -5584.16,849.494 \n  -5562.11,846.934 -5540.07,843.328 -5518.02,841.1 -5495.97,831.64 -5473.93,823.073 -5451.88,819.715 -5429.83,815.067 -5407.79,803.426 -5385.74,797.7 -5363.69,791.695 \n  -5341.64,781.869 -5319.6,770.635 -5297.55,764.161 -5275.5,754.271 -5253.46,745.263 -5231.41,735.228 -5209.36,728.517 -5187.32,718.581 -5165.27,707.103 -5143.22,700.197 \n  -5121.17,692.587 -5099.13,686.904 -5077.08,683.139 -5055.03,681.043 -5032.99,677.586 -5010.94,674.338 -4988.89,669.59 -4966.85,666.374 -4944.8,665.971 -4922.75,666.058 \n  -4900.7,668.349 -4878.66,668.159 -4856.61,668.473 -4834.56,671.664 -4812.52,674.278 -4790.47,673.502 -4768.42,675.896 -4746.38,680.556 -4724.33,681.625 -4702.28,690.543 \n  -4680.23,697.925 -4658.19,702.327 -4636.14,709.437 -4614.09,721.745 -4592.05,732.367 -4570,742.353 -4547.95,757.116 -4525.91,771.277 -4503.86,783.849 -4481.81,797.014 \n  -4459.76,812.036 -4437.72,856.191 -4415.67,887.231 -4393.62,891.98 -4371.58,898.975 -4349.53,908.293 -4327.48,914.919 -4305.44,919.284 -4283.39,922.855 -4261.34,928.693 \n  -4239.29,930.449 -4217.25,932.27 -4195.2,937.178 -4173.15,937.728 -4151.11,939.85 -4129.06,938.581 -4107.01,940.998 -4084.97,939.172 -4062.92,941.479 -4040.87,935.249 \n  -4018.83,931.111 -3996.78,927.103 -3974.73,915.762 -3952.68,906.303 -3930.64,872.964 -3908.59,763.721 -3886.54,703.793 -3864.5,632.816 -3842.45,605.572 -3820.4,575.537 \n  -3798.36,510.809 -3776.31,464.444 -3754.26,407.888 -3732.21,358.662 -3710.17,325.162 -3688.12,352.377 -3666.07,355.615 -3644.03,351.453 -3621.98,350.693 -3599.93,350.322 \n  -3577.89,349.358 -3555.84,348.416 -3533.79,347.64 -3511.74,346.955 -3489.7,346.429 -3467.65,346.079 -3445.6,345.945 -3423.56,346.019 -3401.51,346.273 -3379.46,346.655 \n  -3357.42,347.095 -3335.37,347.534 -3313.32,347.918 -3291.27,348.218 -3269.23,348.424 -3247.18,348.534 -3225.13,348.568 -3203.09,348.554 -3181.04,348.527 -3158.99,353.227 \n  -3136.95,356.918 -3114.9,365.166 -3092.85,375.358 -3070.8,374.927 -3048.76,381.596 -3026.71,391.504 -3004.66,394.892 -2982.62,403.402 -2960.57,410.637 -2938.52,415.132 \n  -2916.48,425.659 -2894.43,431.75 -2872.38,435.523 -2850.33,442.023 -2828.29,440.135 -2806.24,445.53 -2784.19,447.975 -2762.15,452.363 -2740.1,449.078 -2718.05,453.956 \n  -2696.01,457.362 -2673.96,453.642 -2651.91,457.022 -2629.86,457.905 -2607.82,459.206 -2585.77,463.046 -2563.72,464.285 -2541.68,462.158 -2519.63,465.711 -2497.58,464.396 \n  -2475.54,468.666 -2453.49,468.853 -2431.44,466.672 -2409.39,472.071 -2387.35,475.007 -2365.3,472.98 -2343.25,471.491 -2321.21,474.83 -2299.16,478.092 -2277.11,484.793 \n  -2255.07,485.114 -2233.02,486.107 -2210.97,495.532 -2188.92,501.908 -2166.88,505.718 -2144.83,515.289 -2122.78,523.294 -2100.74,531.939 -2078.69,544.017 -2056.64,553.753 \n  -2034.6,559.087 -2012.55,567.533 -1990.5,579.293 -1968.45,586.995 -1946.41,599.229 -1924.36,610.766 -1902.31,619.225 -1880.27,629.878 -1858.22,637.388 -1836.17,644.943 \n  -1814.13,654.973 -1792.08,665.368 -1770.03,675.869 -1747.98,690.427 -1725.94,699.416 -1703.89,707.764 -1681.84,719.418 -1659.8,732.726 -1637.75,742.871 -1615.7,753.06 \n  -1593.66,766.133 -1571.61,777.412 -1549.56,784.617 -1527.51,794.363 -1505.47,805.493 -1483.42,810.685 -1461.37,818.714 -1439.33,825.816 -1417.28,860.9 -1395.23,872.961 \n  -1373.19,871.318 -1351.14,868.194 -1329.09,867.375 -1307.04,870.374 -1285,867.853 -1262.95,869.524 -1240.9,869.567 -1218.86,866.301 -1196.81,867.863 -1174.76,865.04 \n  -1152.72,867.091 -1130.67,866.615 -1108.62,862.436 -1086.57,853.11 -1064.53,843.029 -1042.48,838.285 -1020.43,833.296 -998.387,819.889 -976.34,810.482 -954.293,799.057 \n  -932.246,789.603 -910.199,777.18 -888.152,762.495 -866.105,750.122 -844.058,742.798 -822.011,727.107 -799.964,717.243 -777.917,709.639 -755.87,699.171 -733.823,691.65 \n  -711.776,686.272 -689.729,683.711 -667.682,679.452 -645.635,674.976 -623.588,672.913 -601.541,667.256 -579.494,661.516 -557.447,661.265 -535.4,656.382 -513.353,651.407 \n  -491.306,643.637 -469.259,638.652 -447.212,636.155 -425.165,627.429 -403.118,623.431 -381.071,617.409 -359.024,615.093 -336.977,608.915 -314.93,607.061 -292.883,603.684 \n  -270.836,599.621 -248.789,594.979 -226.742,586.962 -204.695,584.912 -182.648,578.228 -160.601,570.217 -138.554,568.588 -116.507,563.184 -94.4603,557.727 -72.4133,554.479 \n  -50.3663,553.577 -28.3193,549.612 -6.27234,544.402 15.7747,543.531 37.8216,542.166 59.8686,540.762 81.9156,543.197 103.963,547.314 126.01,545.469 148.057,543.755 \n  170.104,545.157 192.151,546.746 214.198,552.148 236.245,553.611 258.292,553.477 280.339,554.748 302.386,560.398 324.433,564.004 346.48,565.409 368.527,570.651 \n  390.574,580.424 412.621,585.522 434.668,588.843 456.715,597.3 478.762,606.14 500.809,614.485 522.855,619.446 544.902,630.779 566.949,638.373 588.996,643.509 \n  611.043,652.403 633.09,660.44 655.137,672.075 677.184,681.935 699.231,687.068 721.278,692.934 743.325,702.737 765.372,712.144 787.419,718.323 809.466,725.682 \n  831.513,734.054 853.56,738.431 875.607,741.356 897.654,748.235 919.701,752.134 941.748,757.345 963.795,761.552 985.842,764.799 1007.89,770.724 1029.94,774.596 \n  1051.98,780.6 1074.03,787.147 1096.08,792.021 1118.12,796.575 1140.17,803.935 1162.22,813.943 1184.27,822.752 1206.31,831.474 1228.36,873.184 1250.41,891.461 \n  1272.45,893.895 1294.5,903.64 1316.55,912.055 1338.59,919.813 1360.64,932.118 1382.69,939.498 1404.74,947.496 1426.78,956.689 1448.83,967.154 1470.88,972.824 \n  1492.92,981.929 1514.97,993.541 1537.02,1001.71 1559.06,1014.45 1581.11,1027.61 1603.16,1034.79 1625.21,1047.66 1647.25,1065.44 1669.3,1082.31 1691.35,1093.41 \n  1713.39,1103.84 1735.44,1117.09 1757.49,1129.07 1779.53,1139.29 1801.58,1147.36 1823.63,1155.88 1845.68,1164.86 1867.72,1167.32 1889.77,1165.12 1911.82,1165.92 \n  1933.86,1166.89 1955.91,1163.53 1977.96,1163.78 2000,1159.82 2022.05,1156.46 2044.1,1156.2 2066.14,1155.08 2088.19,1151.6 2110.24,1148.79 2132.29,1144.93 \n  2154.33,1143.87 2176.38,1139.15 2198.43,1136.91 2220.47,1131.58 2242.52,1122.96 2264.57,1118.65 2286.61,1112.67 2308.66,1111.41 2330.71,1105.27 2352.76,1097.04 \n  2374.8,1088.59 2396.85,1081.33 \n  \"/>\n<polyline clip-path=\"url(#clip712)\" style=\"stroke:#e26f46; stroke-linecap:butt; stroke-linejoin:round; stroke-width:4; stroke-opacity:1; fill:none\" points=\"\n  -19672.2,873.299 -19650.1,873.362 -19628.1,873.561 -19606,871.71 -19584,872.285 -19562,873.749 -19539.9,873.529 -19517.9,877.198 -19495.8,880.481 -19473.8,889.795 \n  -19451.7,897.614 -19429.7,905.266 -19407.6,914.966 -19385.6,925.879 -19363.5,931.075 -19341.5,938.601 -19319.4,946.713 -19297.4,954.271 -19275.3,962.09 -19253.3,967.797 \n  -19231.3,972.324 -19209.2,977.237 -19187.2,979.348 -19165.1,984.293 -19143.1,983.394 -19121,989.101 -19099,990.481 -19076.9,992.195 -19054.9,990.481 -19032.8,993.983 \n  -19010.8,990.763 -18988.7,991.087 -18966.7,994.181 -18944.6,990.376 -18922.6,992.394 -18900.5,992.425 -18878.5,992.195 -18856.5,992.133 -18834.4,988.85 -18812.4,992.519 \n  -18790.3,989.206 -18768.3,989.237 -18746.2,990.345 -18724.2,987.449 -18702.1,988.631 -18680.1,988.338 -18658,988.599 -18636,988.244 -18613.9,985.662 -18591.9,987.962 \n  -18569.8,984.669 -18547.8,985.881 -18525.7,984.669 -18503.7,984.418 -18481.7,985.505 -18459.6,984.512 -18437.6,987.669 -18415.5,988.526 -18393.5,986.237 -18371.4,987.188 \n  -18349.4,988.056 -18327.3,988.693 -18305.3,989.331 -18283.2,986.206 -18261.2,986.906 -18239.1,988.631 -18217.1,987.449 -18195,991.15 -18173,989.456 -18150.9,989.613 \n  -18128.9,988.568 -18106.9,988.024 -18084.8,988.432 -18062.8,987.449 -18040.7,990.512 -18018.7,989.331 -17996.6,988.976 -17974.6,989.394 -17952.5,985.568 -17930.5,985.244 \n  -17908.4,985.401 -17886.4,985.024 -17864.3,983.624 -17842.3,985.244 -17820.2,984.481 -17798.2,979.724 -17776.1,981.167 -17754.1,980.874 -17732.1,977.331 -17710,976.411 \n  -17688,978 -17665.9,976.055 -17643.9,975.71 -17621.8,979.212 -17599.8,975.899 -17577.7,978.062 -17555.7,975.449 -17533.6,976.212 -17511.6,978.23 -17489.5,978.167 \n  -17467.5,978.669 -17445.4,978.481 -17423.4,978.136 -17401.3,976.442 -17379.3,977.906 -17357.3,978.669 -17335.2,978.637 -17313.2,979.505 -17291.1,978.512 -17269.1,978.418 \n  -17247,981.418 -17225,978.062 -17202.9,981.993 -17180.9,979.505 -17158.8,980.488 -17136.8,982.819 -17114.7,978.899 -17092.7,980.237 -17070.6,981.993 -17048.6,977.968 \n  -17026.6,981.449 -17004.5,977.205 -16982.5,977.08 -16960.4,978.742 -16938.4,974.174 -16916.3,973.567 -16894.3,970.766 -16872.2,966.261 -16850.2,963.679 -16828.1,961.41 \n  -16806.1,960.072 -16784,955.253 -16762,953.403 -16739.9,945.051 -16717.9,931.493 -16695.8,916.116 -16673.8,878.38 -16651.8,830.2 -16629.7,775.331 -16607.7,722.249 \n  -16585.6,681.188 -16563.6,655.128 -16541.5,620.8 -16519.5,592.377 -16497.4,553.585 -16475.4,515.462 -16453.3,477.663 -16431.3,445.09 -16409.2,419.605 -16387.2,390.764 \n  -16365.1,373.38 -16343.1,348.616 -16321,347.791 -16299,347.791 -16277,347.791 -16254.9,347.791 -16232.9,347.791 -16210.8,347.791 -16188.8,347.791 -16166.7,347.791 \n  -16144.7,347.791 -16122.6,347.791 -16100.6,347.791 -16078.5,347.791 -16056.5,347.791 -16034.4,348.397 -16012.4,351.711 -15990.3,359.31 -15968.3,361.924 -15946.2,373.088 \n  -15924.2,378.764 -15902.2,388.621 -15880.1,393.064 -15858.1,406.078 -15836,416.95 -15814,433.288 -15791.9,445.477 -15769.9,462.829 -15747.8,480.851 -15725.8,496.834 \n  -15703.7,519.58 -15681.7,540.821 -15659.6,555.216 -15637.6,576.812 -15615.5,596.203 -15593.5,613.754 -15571.4,632.675 -15549.4,649.797 -15527.4,665.08 -15505.3,684 \n  -15483.3,703.715 -15461.2,728.563 -15439.2,749.783 -15417.1,775.624 -15395.1,804.464 -15373,869.986 -15351,889.638 -15328.9,908.558 -15306.9,923.13 -15284.8,935.894 \n  -15262.8,945.469 -15240.7,954.94 -15218.7,964.222 -15196.7,974.623 -15174.6,981.292 -15152.6,986.969 -15130.5,994.683 -15108.5,998.425 -15086.4,1004.54 -15064.4,1008.02 \n  -15042.3,1013.6 -15020.3,1016.29 -14998.2,1016.22 -14976.2,1018.2 -14954.1,1016.19 -14932.1,1017.21 -14910,1014.63 -14888,1017.46 -14865.9,1016.64 -14843.9,1012.55 \n  -14821.9,1012.3 -14799.8,1011.44 -14777.8,1009.81 -14755.7,1007.99 -14733.7,1008.57 -14711.6,1007.42 -14689.6,1006.17 -14667.5,1005.12 -14645.5,1003.37 -14623.4,1002.69 \n  -14601.4,999.094 -14579.3,997.213 -14557.3,996.575 -14535.2,996.533 -14513.2,994.244 -14491.1,992.802 -14469.1,993.732 -14447.1,990.857 -14425,989.07 -14403,990.418 \n  -14380.9,988.631 -14358.9,988.756 -14336.8,989.906 -14314.8,991.338 -14292.7,991.15 -14270.7,993.188 -14248.6,995.363 -14226.6,996.732 -14204.5,994.85 -14182.5,996.502 \n  -14160.4,997.621 -14138.4,1002.02 -14116.3,1004.26 -14094.3,1004.71 -14072.3,1008.21 -14050.2,1009.81 -14028.2,1010.16 -14006.1,1014.88 -13984.1,1018.64 -13962,1018.78 \n  -13940,1021.87 -13917.9,1028.25 -13895.9,1029.91 -13873.8,1034.69 -13851.8,1038.2 -13829.7,1042.74 -13807.7,1045.41 -13785.6,1046.5 -13763.6,1050.87 -13741.5,1052.78 \n  -13719.5,1054.54 -13697.5,1054.21 -13675.4,1055.65 -13653.4,1059.07 -13631.3,1056.1 -13609.3,1055.4 -13587.2,1055.27 -13565.2,1055.3 -13543.1,1055.43 -13521.1,1056.77 \n  -13499,1054.7 -13477,1053.77 -13454.9,1052.69 -13432.9,1050.39 -13410.8,1046.59 -13388.8,1046.02 -13366.8,1045.89 -13344.7,1040.98 -13322.7,1042.99 -13300.6,1037.89 \n  -13278.6,1038.43 -13256.5,1036.92 -13234.5,1034.82 -13212.4,1033.04 -13190.4,1029.46 -13168.3,1029.56 -13146.3,1029.14 -13124.2,1026.49 -13102.2,1023.4 -13080.1,1024.8 \n  -13058.1,1019.92 -13036,1022.15 -13014,1020.34 -12992,1015.27 -12969.9,1014.44 -12947.9,1010.74 -12925.8,1012.33 -12903.8,1007.48 -12881.7,1009.05 -12859.7,1007.71 \n  -12837.6,1002.22 -12815.6,1000.31 -12793.5,1000.81 -12771.5,1001.07 -12749.4,998.99 -12727.4,995.101 -12705.3,995.519 -12683.3,997.401 -12661.2,996.251 -12639.2,995.613 \n  -12617.2,993.638 -12595.1,995.227 -12573.1,991.725 -12551,990.795 -12529,990.512 -12506.9,988.725 -12484.9,987.387 -12462.8,988.819 -12440.8,987.324 -12418.7,986.645 \n  -12396.7,981.575 -12374.6,983.718 -12352.6,981.261 -12330.5,977.968 -12308.5,976.568 -12286.4,975.742 -12264.4,972.993 -12242.4,967.86 -12220.3,965.111 -12198.3,963.553 \n  -12176.2,962.341 -12154.2,958.703 -12132.1,956.696 -12110.1,955.797 -12088,949.671 -12066,949.42 -12043.9,944.727 -12021.9,935.382 -11999.8,934.462 -11977.8,922.242 \n  -11955.7,916.242 -11933.7,909.604 -11911.6,902.339 -11889.6,893.526 -11867.6,882.425 -11845.5,873.237 -11823.5,867.749 -11801.4,855.184 -11779.4,852.34 -11757.3,840.026 \n  -11735.3,834.068 -11713.2,826.249 -11691.2,814.635 -11669.1,799.959 -11647.1,792.558 -11625,783.401 -11603,774.693 -11580.9,759.515 -11558.9,750.065 -11536.8,742.183 \n  -11514.8,729.65 -11492.8,722.5 -11470.7,707.604 -11448.7,700.078 -11426.6,690.983 -11404.6,684.126 -11382.5,673.788 -11360.5,660.94 -11338.4,646.483 -11316.4,634.232 \n  -11294.3,614.329 -11272.3,604.022 -11250.2,583.063 -11228.2,563.129 -11206.1,552.059 -11184.1,536.232 -11162.1,515.911 -11140,504.235 -11118,493.29 -11095.9,478.175 \n  -11073.9,465.767 -11051.8,460.561 -11029.8,449.94 -11007.7,439.895 -10985.7,427.225 -10963.6,418.999 -10941.6,410.929 -10919.5,406.235 -10897.5,396.116 -10875.4,393.315 \n  -10853.4,385.851 -10831.3,385.621 -10809.3,380.813 -10787.3,381.252 -10765.2,382.496 -10743.2,381.064 -10721.1,379.496 -10699.1,380.813 -10677,379.025 -10655,380.426 \n  -10632.9,386.677 -10610.9,390.252 -10588.8,393.158 -10566.8,401.322 -10544.7,404.228 -10522.7,408.368 -10500.6,419.093 -10478.6,425.626 -10456.5,431.501 -10434.5,441.546 \n  -10412.5,445.121 -10390.4,457.885 -10368.4,466.53 -10346.3,471.892 -10324.3,481.813 -10302.2,494.346 -10280.2,505.573 -10258.1,510.967 -10236.1,520.124 -10214,532.051 \n  -10192,544.626 -10169.9,551.128 -10147.9,560.61 -10125.8,566.693 -10103.8,577.199 -10081.7,582.676 -10059.7,592.095 -10037.7,602.203 -10015.6,604.283 -9993.56,616.273 \n  -9971.51,617.873 -9949.47,626.162 -9927.42,630.626 -9905.37,640.619 -9883.33,647.121 -9861.28,648.971 -9839.23,657.554 -9817.18,665.31 -9795.14,668.948 -9773.09,673.474 \n  -9751.04,682.945 -9729,688.088 -9706.95,689.614 -9684.9,695.959 -9662.86,702.377 -9640.81,707.447 -9618.76,715.392 -9596.71,724.193 -9574.67,729.368 -9552.62,730.863 \n  -9530.57,738.87 -9508.53,744.358 -9486.48,754.79 -9464.43,761.804 -9442.39,765.641 -9420.34,777.118 -9398.29,786.307 -9376.24,796.039 -9354.2,805.802 -9332.15,813.005 \n  -9310.1,864.529 -9288.06,872.348 -9266.01,880.763 -9243.96,889.094 -9221.92,898.638 -9199.87,902.934 -9177.82,911.109 -9155.77,921.73 -9133.73,927.949 -9111.68,935.35 \n  -9089.63,944.664 -9067.59,951.239 -9045.54,957.49 -9023.49,963.616 -9001.45,973.829 -8979.4,981.512 -8957.35,990.22 -8935.3,995.331 -8913.26,1003.59 -8891.21,1009.14 \n  -8869.16,1018.04 -8847.12,1024.04 -8825.07,1031.25 -8803.02,1033.13 -8780.98,1040.69 -8758.93,1040.18 -8736.88,1045.51 -8714.83,1044.51 -8692.79,1045.32 -8670.74,1045.48 \n  -8648.69,1046.63 -8626.65,1047 -8604.6,1045.12 -8582.55,1045.09 -8560.51,1042.6 -8538.46,1038.9 -8516.41,1038.71 -8494.36,1033.8 -8472.32,1029.91 -8450.27,1030.16 \n  -8428.22,1027.49 -8406.18,1019.85 -8384.13,1016.15 -8362.08,1013.23 -8340.04,1008.05 -8317.99,1001.9 -8295.94,995.864 -8273.89,987.449 -8251.85,982.474 -8229.8,980.049 \n  -8207.75,976.254 -8185.71,970.024 -8163.66,962.341 -8141.61,957.647 -8119.57,954.365 -8097.52,950.152 -8075.47,947.382 -8053.42,939.469 -8031.38,928.88 -8009.33,917.266 \n  -7987.28,903.614 -7965.24,893.788 -7943.19,880.261 -7921.14,866.473 -7899.1,852.947 -7877.05,838.208 -7855,833.2 -7832.95,817.73 -7810.91,799.551 -7788.86,791.377 \n  -7766.81,775.624 -7744.77,769.498 -7722.72,753.254 -7700.67,742.089 -7678.63,730.925 -7656.58,723.012 -7634.53,714.848 -7612.48,710.385 -7590.44,703.36 -7568.39,693.408 \n  -7546.34,694.171 -7524.3,687.314 -7502.25,687.22 -7480.2,685.694 -7458.16,683.488 -7436.11,677.3 -7414.06,678.23 -7392.01,676.662 -7369.97,674.049 -7347.92,674.53 \n  -7325.87,677.08 -7303.83,676.443 -7281.78,675.136 -7259.73,672.512 -7237.69,674.655 -7215.64,673.537 -7193.59,671.718 -7171.55,674.906 -7149.5,671.498 -7127.45,675.544 \n  -7105.4,675.575 -7083.36,674.53 -7061.31,679.568 -7039.26,682.056 -7017.22,684.094 -6995.17,682.464 -6973.12,687.795 -6951.08,688.788 -6929.03,688.088 -6906.98,695.645 \n  -6884.93,694.109 -6862.89,699.795 -6840.84,701.008 -6818.79,704.834 -6796.75,706.715 -6774.7,708.628 -6752.65,710.029 -6730.61,713.447 -6708.56,716.761 -6686.51,717.148 \n  -6664.46,719.918 -6642.42,724.068 -6620.37,730.894 -6598.32,732.65 -6576.28,733.988 -6554.23,737.5 -6532.18,742.696 -6510.14,750.034 -6488.09,752.24 -6466.04,756.829 \n  -6443.99,759.191 -6421.95,761.292 -6399.9,764.648 -6377.85,772.561 -6355.81,771.892 -6333.76,779.199 -6311.71,783.788 -6289.67,784.039 -6267.62,788.607 -6245.57,791.471 \n  -6223.52,798.339 -6201.48,797.22 -6179.43,800.471 -6157.38,805.384 -6135.34,808.51 -6113.29,844.208 -6091.24,849.988 -6069.2,850.626 -6047.15,852.278 -6025.1,855.915 \n  -6003.05,856.971 -5981.01,855.759 -5958.96,856.71 -5936.91,855.884 -5914.87,855.884 -5892.82,859.71 -5870.77,858.058 -5848.73,859.01 -5826.68,860.316 -5804.63,855.602 \n  -5782.58,859.585 -5760.54,856.208 -5738.49,856.741 -5716.44,859.553 -5694.4,856.616 -5672.35,855.915 -5650.3,854.285 -5628.26,853.114 -5606.21,850.49 -5584.16,849.508 \n  -5562.11,839.263 -5540.07,832.437 -5518.02,828.925 -5495.97,822.799 -5473.93,809.566 -5451.88,805.74 -5429.83,796.384 -5407.79,786.056 -5385.74,774.056 -5363.69,768.63 \n  -5341.64,755.971 -5319.6,749.271 -5297.55,737.845 -5275.5,733.769 -5253.46,721.768 -5231.41,712.486 -5209.36,706.715 -5187.32,698.039 -5165.27,694.015 -5143.22,689.363 \n  -5121.17,687.544 -5099.13,682.182 -5077.08,679.119 -5055.03,672.136 -5032.99,669.199 -5010.94,667.317 -4988.89,666.042 -4966.85,667.599 -4944.8,665.279 -4922.75,665.341 \n  -4900.7,667.411 -4878.66,668.561 -4856.61,666.773 -4834.56,668.686 -4812.52,671.749 -4790.47,671.592 -4768.42,679.631 -4746.38,684.993 -4724.33,688.757 -4702.28,695.133 \n  -4680.23,706.423 -4658.19,716.123 -4636.14,726.368 -4614.09,742.183 -4592.05,756.065 -4570,769.947 -4547.95,784.781 -4525.91,801.872 -4503.86,859.491 -4481.81,874.606 \n  -4459.76,885.718 -4437.72,896.077 -4415.67,905.684 -4393.62,912.478 -4371.58,917.485 -4349.53,921.217 -4327.48,927.312 -4305.44,927.312 -4283.39,929.256 -4261.34,932.831 \n  -4239.29,931.681 -4217.25,932.8 -4195.2,930.437 -4173.15,931.305 -4151.11,929.674 -4129.06,931.2 -4107.01,928.817 -4084.97,927.312 -4062.92,926.319 -4040.87,922.461 \n  -4018.83,918.311 -3996.78,902.464 -3974.73,843.257 -3952.68,781.457 -3930.64,709.747 -3908.59,659.916 -3886.54,619.012 -3864.5,563.641 -3842.45,511.218 -3820.4,452.491 \n  -3798.36,397.141 -3776.31,352.223 -3754.26,347.791 -3732.21,347.791 -3710.17,347.791 -3688.12,347.791 -3666.07,347.791 -3644.03,347.791 -3621.98,347.791 -3599.93,347.791 \n  -3577.89,347.791 -3555.84,347.791 -3533.79,347.791 -3511.74,347.791 -3489.7,347.791 -3467.65,347.791 -3445.6,347.791 -3423.56,347.791 -3401.51,347.791 -3379.46,347.791 \n  -3357.42,347.791 -3335.37,347.791 -3313.32,347.791 -3291.27,347.791 -3269.23,347.791 -3247.18,347.791 -3225.13,351.679 -3203.09,355.035 -3181.04,362.561 -3158.99,371.875 \n  -3136.95,372.607 -3114.9,378.994 -3092.85,387.315 -3070.8,390.764 -3048.76,398.834 -3026.71,405.023 -3004.66,409.392 -2982.62,419.344 -2960.57,424.706 -2938.52,429.295 \n  -2916.48,436.351 -2894.43,435.264 -2872.38,442.728 -2850.33,445.634 -2828.29,452.01 -2806.24,449.815 -2784.19,456.61 -2762.15,459.641 -2740.1,456.61 -2718.05,460.854 \n  -2696.01,460.31 -2673.96,461.711 -2651.91,464.774 -2629.86,464.93 -2607.82,462.411 -2585.77,465.892 -2563.72,463.143 -2541.68,468.255 -2519.63,467.293 -2497.58,466.018 \n  -2475.54,472.049 -2453.49,474.213 -2431.44,472.938 -2409.39,472.175 -2387.35,475.488 -2365.3,478.049 -2343.25,484.645 -2321.21,483.914 -2299.16,485.064 -2277.11,493.102 \n  -2255.07,497.66 -2233.02,500.984 -2210.97,509.305 -2188.92,515.692 -2166.88,523.636 -2144.83,534.664 -2122.78,543.602 -2100.74,548.996 -2078.69,557.672 -2056.64,569.056 \n  -2034.6,576.551 -2012.55,589.983 -1990.5,601.022 -1968.45,609.96 -1946.41,621.605 -1924.36,628.368 -1902.31,636.981 -1880.27,647.215 -1858.22,657.428 -1836.17,668.174 \n  -1814.13,683.875 -1792.08,690.283 -1770.03,701.071 -1747.98,712.716 -1725.94,726.587 -1703.89,735.525 -1681.84,747.776 -1659.8,761.334 -1637.75,772.017 -1615.7,779.355 \n  -1593.66,791.669 -1571.61,802.321 -1549.56,806.921 -1527.51,818.399 -1505.47,824.273 -1483.42,867.592 -1461.37,868.679 -1439.33,874.292 -1417.28,871.324 -1395.23,872.191 \n  -1373.19,875.787 -1351.14,872.986 -1329.09,876.592 -1307.04,875.819 -1285,873.08 -1262.95,875.38 -1240.9,871.292 -1218.86,874.543 -1196.81,872.693 -1174.76,868.898 \n  -1152.72,859.522 -1130.67,850.145 -1108.62,845.964 -1086.57,840.695 -1064.53,827.524 -1042.48,820.343 -1020.43,808.259 -998.387,800.346 -976.34,787.07 -954.293,772.78 \n  -932.246,760.56 -910.199,753.159 -888.152,732.713 -866.105,726.713 -844.058,713.855 -822.011,702.471 -799.964,693.858 -777.917,686.3 -755.87,682.819 -733.823,675.575 \n  -711.776,671.143 -689.729,668.435 -667.682,661.034 -645.635,656.947 -623.588,658.066 -601.541,651.94 -579.494,650.278 -557.447,642.501 -535.4,640.776 -513.353,638.926 \n  -491.306,630.02 -469.259,629.131 -447.212,621.186 -425.165,620.967 -403.118,612.029 -381.071,612.291 -359.024,605.904 -336.977,602.329 -314.93,596.37 -292.883,587.495 \n  -270.836,587.015 -248.789,577.513 -226.742,571.356 -204.695,570.655 -182.648,563.798 -160.601,560.223 -138.554,557.16 -116.507,556.773 -94.4603,551.923 -72.4133,547.208 \n  -50.3663,546.539 -28.3193,543.633 -6.27234,541.846 15.7747,543.602 37.8216,546.184 59.8686,542.578 81.9156,540.79 103.963,541.051 126.01,541.428 148.057,546.445 \n  170.104,546.633 192.151,546.916 214.198,548.222 236.245,554.066 258.292,557.16 280.339,559.198 302.386,565.23 324.433,575.025 346.48,579.3 368.527,583.419 \n  390.574,592.252 412.621,600.008 434.668,608.172 456.715,612.186 478.762,624.5 500.809,629.507 522.855,635.131 544.902,644.184 566.949,650.978 588.996,664.035 \n  611.043,672.261 633.09,677.624 655.137,684.993 677.184,696.126 699.231,705.44 721.278,712.486 743.325,722.437 765.372,731.72 787.419,736.476 809.466,741.901 \n  831.513,751.309 853.56,754.027 875.607,763.017 897.654,765.473 919.701,770.742 941.748,776.868 963.795,779.199 985.842,786.85 1007.89,790.938 1029.94,795.244 \n  1051.98,798.464 1074.03,805.478 1096.08,813.747 1118.12,820.541 1140.17,828.319 1162.22,875.819 1184.27,880.199 1206.31,888.174 1228.36,897.865 1250.41,904.252 \n  1272.45,912.353 1294.5,924.824 1316.55,930.793 1338.59,939.876 1360.64,948.657 1382.69,959.121 1404.74,964.379 1426.78,974.142 1448.83,985.056 1470.88,993 \n  1492.92,1005.92 1514.97,1018.49 1537.02,1026.07 1559.06,1039.44 1581.11,1056.83 1603.16,1074.19 1625.21,1086.57 1647.25,1098.46 1669.3,1112.6 1691.35,1125.27 \n  1713.39,1136.56 1735.44,1145.42 1757.49,1154.73 1779.53,1164.06 1801.58,1166.58 1823.63,1165.13 1845.68,1166.38 1867.72,1166.92 1889.77,1163.67 1911.82,1164.43 \n  1933.86,1160.13 1955.91,1157.42 1977.96,1157 2000,1155.79 2022.05,1152.82 2044.1,1150.4 2066.14,1146.79 2088.19,1145.78 2110.24,1141.44 2132.29,1139.52 \n  2154.33,1134.55 2176.38,1126.92 2198.43,1122.61 2220.47,1116.58 2242.52,1115.15 2264.57,1109.18 2286.61,1101.81 2308.66,1093.61 2330.71,1086.34 2352.76,1083.41 \n  \n  \"/>\n<path clip-path=\"url(#clip710)\" d=\"\nM1739.13 324.425 L2279.27 324.425 L2279.27 168.905 L1739.13 168.905  Z\n  \" fill=\"#ffffff\" fill-rule=\"evenodd\" fill-opacity=\"1\"/>\n<polyline clip-path=\"url(#clip710)\" style=\"stroke:#000000; stroke-linecap:butt; stroke-linejoin:round; stroke-width:4; stroke-opacity:1; fill:none\" points=\"\n  1739.13,324.425 2279.27,324.425 2279.27,168.905 1739.13,168.905 1739.13,324.425 \n  \"/>\n<polyline clip-path=\"url(#clip710)\" style=\"stroke:#009af9; stroke-linecap:butt; stroke-linejoin:round; stroke-width:4; stroke-opacity:1; fill:none\" points=\"\n  1763.13,220.745 1907.13,220.745 \n  \"/>\n<path clip-path=\"url(#clip710)\" d=\"M1935.41 234.136 L1935.41 247.886 L1931.13 247.886 L1931.13 212.099 L1935.41 212.099 L1935.41 216.034 Q1936.75 213.719 1938.79 212.608 Q1940.85 211.474 1943.7 211.474 Q1948.42 211.474 1951.36 215.224 Q1954.32 218.974 1954.32 225.085 Q1954.32 231.196 1951.36 234.946 Q1948.42 238.696 1943.7 238.696 Q1940.85 238.696 1938.79 237.585 Q1936.75 236.451 1935.41 234.136 M1949.9 225.085 Q1949.9 220.386 1947.96 217.724 Q1946.04 215.039 1942.66 215.039 Q1939.28 215.039 1937.33 217.724 Q1935.41 220.386 1935.41 225.085 Q1935.41 229.784 1937.33 232.469 Q1939.28 235.131 1942.66 235.131 Q1946.04 235.131 1947.96 232.469 Q1949.9 229.784 1949.9 225.085 Z\" fill=\"#000000\" fill-rule=\"evenodd\" fill-opacity=\"1\" /><path clip-path=\"url(#clip710)\" d=\"M1976.41 216.08 Q1975.69 215.664 1974.83 215.478 Q1974 215.27 1972.98 215.27 Q1969.37 215.27 1967.42 217.631 Q1965.5 219.969 1965.5 224.367 L1965.5 238.025 L1961.22 238.025 L1961.22 212.099 L1965.5 212.099 L1965.5 216.127 Q1966.85 213.766 1969 212.631 Q1971.15 211.474 1974.23 211.474 Q1974.67 211.474 1975.2 211.543 Q1975.73 211.59 1976.38 211.705 L1976.41 216.08 Z\" fill=\"#000000\" fill-rule=\"evenodd\" fill-opacity=\"1\" /><path clip-path=\"url(#clip710)\" d=\"M2002.01 223.997 L2002.01 226.08 L1982.42 226.08 Q1982.7 230.478 1985.06 232.793 Q1987.45 235.085 1991.68 235.085 Q1994.14 235.085 1996.43 234.483 Q1998.74 233.881 2001.01 232.677 L2001.01 236.705 Q1998.72 237.677 1996.31 238.187 Q1993.91 238.696 1991.43 238.696 Q1985.23 238.696 1981.59 235.085 Q1977.98 231.474 1977.98 225.316 Q1977.98 218.951 1981.41 215.224 Q1984.86 211.474 1990.69 211.474 Q1995.92 211.474 1998.95 214.853 Q2002.01 218.21 2002.01 223.997 M1997.75 222.747 Q1997.7 219.252 1995.78 217.168 Q1993.88 215.085 1990.73 215.085 Q1987.17 215.085 1985.02 217.099 Q1982.89 219.113 1982.56 222.77 L1997.75 222.747 Z\" fill=\"#000000\" fill-rule=\"evenodd\" fill-opacity=\"1\" /><path clip-path=\"url(#clip710)\" d=\"M2026.06 216.034 L2026.06 202.006 L2030.32 202.006 L2030.32 238.025 L2026.06 238.025 L2026.06 234.136 Q2024.72 236.451 2022.66 237.585 Q2020.62 238.696 2017.75 238.696 Q2013.05 238.696 2010.09 234.946 Q2007.15 231.196 2007.15 225.085 Q2007.15 218.974 2010.09 215.224 Q2013.05 211.474 2017.75 211.474 Q2020.62 211.474 2022.66 212.608 Q2024.72 213.719 2026.06 216.034 M2011.54 225.085 Q2011.54 229.784 2013.47 232.469 Q2015.41 235.131 2018.79 235.131 Q2022.17 235.131 2024.11 232.469 Q2026.06 229.784 2026.06 225.085 Q2026.06 220.386 2024.11 217.724 Q2022.17 215.039 2018.79 215.039 Q2015.41 215.039 2013.47 217.724 Q2011.54 220.386 2011.54 225.085 Z\" fill=\"#000000\" fill-rule=\"evenodd\" fill-opacity=\"1\" /><path clip-path=\"url(#clip710)\" d=\"M2039.09 212.099 L2043.35 212.099 L2043.35 238.025 L2039.09 238.025 L2039.09 212.099 M2039.09 202.006 L2043.35 202.006 L2043.35 207.4 L2039.09 207.4 L2039.09 202.006 Z\" fill=\"#000000\" fill-rule=\"evenodd\" fill-opacity=\"1\" /><path clip-path=\"url(#clip710)\" d=\"M2070.92 213.094 L2070.92 217.076 Q2069.11 216.08 2067.29 215.594 Q2065.48 215.085 2063.63 215.085 Q2059.48 215.085 2057.19 217.724 Q2054.9 220.34 2054.9 225.085 Q2054.9 229.83 2057.19 232.469 Q2059.48 235.085 2063.63 235.085 Q2065.48 235.085 2067.29 234.599 Q2069.11 234.089 2070.92 233.094 L2070.92 237.029 Q2069.14 237.863 2067.22 238.279 Q2065.32 238.696 2063.16 238.696 Q2057.31 238.696 2053.86 235.015 Q2050.41 231.335 2050.41 225.085 Q2050.41 218.742 2053.88 215.108 Q2057.38 211.474 2063.44 211.474 Q2065.41 211.474 2067.29 211.891 Q2069.16 212.284 2070.92 213.094 Z\" fill=\"#000000\" fill-rule=\"evenodd\" fill-opacity=\"1\" /><path clip-path=\"url(#clip710)\" d=\"M2082.54 204.738 L2082.54 212.099 L2091.31 212.099 L2091.31 215.409 L2082.54 215.409 L2082.54 229.483 Q2082.54 232.654 2083.4 233.557 Q2084.28 234.46 2086.94 234.46 L2091.31 234.46 L2091.31 238.025 L2086.94 238.025 Q2082.01 238.025 2080.13 236.196 Q2078.26 234.344 2078.26 229.483 L2078.26 215.409 L2075.13 215.409 L2075.13 212.099 L2078.26 212.099 L2078.26 204.738 L2082.54 204.738 Z\" fill=\"#000000\" fill-rule=\"evenodd\" fill-opacity=\"1\" /><path clip-path=\"url(#clip710)\" d=\"M2096.91 212.099 L2101.17 212.099 L2101.17 238.025 L2096.91 238.025 L2096.91 212.099 M2096.91 202.006 L2101.17 202.006 L2101.17 207.4 L2096.91 207.4 L2096.91 202.006 Z\" fill=\"#000000\" fill-rule=\"evenodd\" fill-opacity=\"1\" /><path clip-path=\"url(#clip710)\" d=\"M2120.13 215.085 Q2116.71 215.085 2114.72 217.77 Q2112.72 220.432 2112.72 225.085 Q2112.72 229.738 2114.69 232.423 Q2116.68 235.085 2120.13 235.085 Q2123.54 235.085 2125.53 232.4 Q2127.52 229.715 2127.52 225.085 Q2127.52 220.478 2125.53 217.793 Q2123.54 215.085 2120.13 215.085 M2120.13 211.474 Q2125.69 211.474 2128.86 215.085 Q2132.03 218.696 2132.03 225.085 Q2132.03 231.451 2128.86 235.085 Q2125.69 238.696 2120.13 238.696 Q2114.55 238.696 2111.38 235.085 Q2108.23 231.451 2108.23 225.085 Q2108.23 218.696 2111.38 215.085 Q2114.55 211.474 2120.13 211.474 Z\" fill=\"#000000\" fill-rule=\"evenodd\" fill-opacity=\"1\" /><path clip-path=\"url(#clip710)\" d=\"M2160.64 222.377 L2160.64 238.025 L2156.38 238.025 L2156.38 222.515 Q2156.38 218.835 2154.95 217.006 Q2153.51 215.178 2150.64 215.178 Q2147.19 215.178 2145.2 217.377 Q2143.21 219.576 2143.21 223.372 L2143.21 238.025 L2138.93 238.025 L2138.93 212.099 L2143.21 212.099 L2143.21 216.127 Q2144.74 213.789 2146.8 212.631 Q2148.88 211.474 2151.59 211.474 Q2156.06 211.474 2158.35 214.252 Q2160.64 217.006 2160.64 222.377 Z\" fill=\"#000000\" fill-rule=\"evenodd\" fill-opacity=\"1\" /><path clip-path=\"url(#clip710)\" d=\"M2185.66 212.863 L2185.66 216.891 Q2183.86 215.965 2181.91 215.502 Q2179.97 215.039 2177.89 215.039 Q2174.72 215.039 2173.12 216.011 Q2171.54 216.983 2171.54 218.928 Q2171.54 220.409 2172.68 221.265 Q2173.81 222.099 2177.24 222.863 L2178.7 223.187 Q2183.23 224.159 2185.13 225.941 Q2187.05 227.701 2187.05 230.872 Q2187.05 234.483 2184.18 236.589 Q2181.34 238.696 2176.34 238.696 Q2174.25 238.696 2171.98 238.279 Q2169.74 237.886 2167.24 237.076 L2167.24 232.677 Q2169.6 233.904 2171.89 234.529 Q2174.18 235.131 2176.43 235.131 Q2179.44 235.131 2181.06 234.113 Q2182.68 233.071 2182.68 231.196 Q2182.68 229.46 2181.5 228.534 Q2180.34 227.608 2176.38 226.752 L2174.9 226.404 Q2170.94 225.571 2169.18 223.858 Q2167.42 222.122 2167.42 219.113 Q2167.42 215.455 2170.02 213.465 Q2172.61 211.474 2177.38 211.474 Q2179.74 211.474 2181.82 211.821 Q2183.91 212.168 2185.66 212.863 Z\" fill=\"#000000\" fill-rule=\"evenodd\" fill-opacity=\"1\" /><polyline clip-path=\"url(#clip710)\" style=\"stroke:#e26f46; stroke-linecap:butt; stroke-linejoin:round; stroke-width:4; stroke-opacity:1; fill:none\" points=\"\n  1763.13,272.585 1907.13,272.585 \n  \"/>\n<path clip-path=\"url(#clip710)\" d=\"M1943.03 266.925 Q1939.6 266.925 1937.61 269.61 Q1935.62 272.272 1935.62 276.925 Q1935.62 281.578 1937.59 284.263 Q1939.58 286.925 1943.03 286.925 Q1946.43 286.925 1948.42 284.24 Q1950.41 281.555 1950.41 276.925 Q1950.41 272.318 1948.42 269.633 Q1946.43 266.925 1943.03 266.925 M1943.03 263.314 Q1948.58 263.314 1951.75 266.925 Q1954.92 270.536 1954.92 276.925 Q1954.92 283.291 1951.75 286.925 Q1948.58 290.536 1943.03 290.536 Q1937.45 290.536 1934.28 286.925 Q1931.13 283.291 1931.13 276.925 Q1931.13 270.536 1934.28 266.925 Q1937.45 263.314 1943.03 263.314 Z\" fill=\"#000000\" fill-rule=\"evenodd\" fill-opacity=\"1\" /><path clip-path=\"url(#clip710)\" d=\"M1980.6 276.925 Q1980.6 272.226 1978.65 269.564 Q1976.73 266.879 1973.35 266.879 Q1969.97 266.879 1968.03 269.564 Q1966.11 272.226 1966.11 276.925 Q1966.11 281.624 1968.03 284.309 Q1969.97 286.971 1973.35 286.971 Q1976.73 286.971 1978.65 284.309 Q1980.6 281.624 1980.6 276.925 M1966.11 267.874 Q1967.45 265.559 1969.48 264.448 Q1971.55 263.314 1974.39 263.314 Q1979.11 263.314 1982.05 267.064 Q1985.02 270.814 1985.02 276.925 Q1985.02 283.036 1982.05 286.786 Q1979.11 290.536 1974.39 290.536 Q1971.55 290.536 1969.48 289.425 Q1967.45 288.291 1966.11 285.976 L1966.11 289.865 L1961.82 289.865 L1961.82 253.846 L1966.11 253.846 L1966.11 267.874 Z\" fill=\"#000000\" fill-rule=\"evenodd\" fill-opacity=\"1\" /><path clip-path=\"url(#clip710)\" d=\"M2008.61 264.703 L2008.61 268.731 Q2006.8 267.805 2004.86 267.342 Q2002.91 266.879 2000.83 266.879 Q1997.66 266.879 1996.06 267.851 Q1994.48 268.823 1994.48 270.768 Q1994.48 272.249 1995.62 273.105 Q1996.75 273.939 2000.18 274.703 L2001.64 275.027 Q2006.17 275.999 2008.07 277.781 Q2009.99 279.541 2009.99 282.712 Q2009.99 286.323 2007.12 288.429 Q2004.28 290.536 1999.28 290.536 Q1997.19 290.536 1994.92 290.119 Q1992.68 289.726 1990.18 288.916 L1990.18 284.517 Q1992.54 285.744 1994.83 286.369 Q1997.12 286.971 1999.37 286.971 Q2002.38 286.971 2004 285.953 Q2005.62 284.911 2005.62 283.036 Q2005.62 281.3 2004.44 280.374 Q2003.28 279.448 1999.32 278.592 L1997.84 278.244 Q1993.88 277.411 1992.12 275.698 Q1990.36 273.962 1990.36 270.953 Q1990.36 267.295 1992.96 265.305 Q1995.55 263.314 2000.32 263.314 Q2002.68 263.314 2004.76 263.661 Q2006.85 264.008 2008.61 264.703 Z\" fill=\"#000000\" fill-rule=\"evenodd\" fill-opacity=\"1\" /><path clip-path=\"url(#clip710)\" d=\"M2038.95 275.837 L2038.95 277.92 L2019.37 277.92 Q2019.65 282.318 2022.01 284.633 Q2024.39 286.925 2028.63 286.925 Q2031.08 286.925 2033.37 286.323 Q2035.69 285.721 2037.96 284.517 L2037.96 288.545 Q2035.67 289.517 2033.26 290.027 Q2030.85 290.536 2028.37 290.536 Q2022.17 290.536 2018.54 286.925 Q2014.92 283.314 2014.92 277.156 Q2014.92 270.791 2018.35 267.064 Q2021.8 263.314 2027.63 263.314 Q2032.86 263.314 2035.9 266.693 Q2038.95 270.05 2038.95 275.837 M2034.69 274.587 Q2034.65 271.092 2032.73 269.008 Q2030.83 266.925 2027.68 266.925 Q2024.11 266.925 2021.96 268.939 Q2019.83 270.953 2019.51 274.61 L2034.69 274.587 Z\" fill=\"#000000\" fill-rule=\"evenodd\" fill-opacity=\"1\" /><path clip-path=\"url(#clip710)\" d=\"M2060.97 267.92 Q2060.25 267.504 2059.39 267.318 Q2058.56 267.11 2057.54 267.11 Q2053.93 267.11 2051.98 269.471 Q2050.06 271.809 2050.06 276.207 L2050.06 289.865 L2045.78 289.865 L2045.78 263.939 L2050.06 263.939 L2050.06 267.967 Q2051.41 265.606 2053.56 264.471 Q2055.71 263.314 2058.79 263.314 Q2059.23 263.314 2059.76 263.383 Q2060.29 263.43 2060.94 263.545 L2060.97 267.92 Z\" fill=\"#000000\" fill-rule=\"evenodd\" fill-opacity=\"1\" /><path clip-path=\"url(#clip710)\" d=\"M2062.38 263.939 L2066.89 263.939 L2074.99 285.698 L2083.1 263.939 L2087.61 263.939 L2077.89 289.865 L2072.1 289.865 L2062.38 263.939 Z\" fill=\"#000000\" fill-rule=\"evenodd\" fill-opacity=\"1\" /><path clip-path=\"url(#clip710)\" d=\"M2105.27 276.832 Q2100.11 276.832 2098.12 278.013 Q2096.13 279.193 2096.13 282.041 Q2096.13 284.309 2097.61 285.652 Q2099.11 286.971 2101.68 286.971 Q2105.22 286.971 2107.35 284.471 Q2109.51 281.948 2109.51 277.781 L2109.51 276.832 L2105.27 276.832 M2113.77 275.073 L2113.77 289.865 L2109.51 289.865 L2109.51 285.929 Q2108.05 288.291 2105.87 289.425 Q2103.7 290.536 2100.55 290.536 Q2096.57 290.536 2094.21 288.314 Q2091.87 286.068 2091.87 282.318 Q2091.87 277.943 2094.79 275.721 Q2097.72 273.499 2103.54 273.499 L2109.51 273.499 L2109.51 273.082 Q2109.51 270.143 2107.56 268.545 Q2105.64 266.925 2102.15 266.925 Q2099.92 266.925 2097.82 267.457 Q2095.71 267.99 2093.77 269.055 L2093.77 265.119 Q2096.1 264.217 2098.3 263.777 Q2100.5 263.314 2102.59 263.314 Q2108.21 263.314 2110.99 266.231 Q2113.77 269.147 2113.77 275.073 Z\" fill=\"#000000\" fill-rule=\"evenodd\" fill-opacity=\"1\" /><path clip-path=\"url(#clip710)\" d=\"M2126.75 256.578 L2126.75 263.939 L2135.53 263.939 L2135.53 267.249 L2126.75 267.249 L2126.75 281.323 Q2126.75 284.494 2127.61 285.397 Q2128.49 286.3 2131.15 286.3 L2135.53 286.3 L2135.53 289.865 L2131.15 289.865 Q2126.22 289.865 2124.35 288.036 Q2122.47 286.184 2122.47 281.323 L2122.47 267.249 L2119.35 267.249 L2119.35 263.939 L2122.47 263.939 L2122.47 256.578 L2126.75 256.578 Z\" fill=\"#000000\" fill-rule=\"evenodd\" fill-opacity=\"1\" /><path clip-path=\"url(#clip710)\" d=\"M2141.13 263.939 L2145.39 263.939 L2145.39 289.865 L2141.13 289.865 L2141.13 263.939 M2141.13 253.846 L2145.39 253.846 L2145.39 259.24 L2141.13 259.24 L2141.13 253.846 Z\" fill=\"#000000\" fill-rule=\"evenodd\" fill-opacity=\"1\" /><path clip-path=\"url(#clip710)\" d=\"M2164.34 266.925 Q2160.92 266.925 2158.93 269.61 Q2156.94 272.272 2156.94 276.925 Q2156.94 281.578 2158.91 284.263 Q2160.9 286.925 2164.34 286.925 Q2167.75 286.925 2169.74 284.24 Q2171.73 281.555 2171.73 276.925 Q2171.73 272.318 2169.74 269.633 Q2167.75 266.925 2164.34 266.925 M2164.34 263.314 Q2169.9 263.314 2173.07 266.925 Q2176.24 270.536 2176.24 276.925 Q2176.24 283.291 2173.07 286.925 Q2169.9 290.536 2164.34 290.536 Q2158.77 290.536 2155.6 286.925 Q2152.45 283.291 2152.45 276.925 Q2152.45 270.536 2155.6 266.925 Q2158.77 263.314 2164.34 263.314 Z\" fill=\"#000000\" fill-rule=\"evenodd\" fill-opacity=\"1\" /><path clip-path=\"url(#clip710)\" d=\"M2204.85 274.217 L2204.85 289.865 L2200.59 289.865 L2200.59 274.355 Q2200.59 270.675 2199.16 268.846 Q2197.72 267.018 2194.85 267.018 Q2191.41 267.018 2189.41 269.217 Q2187.42 271.416 2187.42 275.212 L2187.42 289.865 L2183.14 289.865 L2183.14 263.939 L2187.42 263.939 L2187.42 267.967 Q2188.95 265.629 2191.01 264.471 Q2193.09 263.314 2195.8 263.314 Q2200.27 263.314 2202.56 266.092 Q2204.85 268.846 2204.85 274.217 Z\" fill=\"#000000\" fill-rule=\"evenodd\" fill-opacity=\"1\" /><path clip-path=\"url(#clip710)\" d=\"M2229.88 264.703 L2229.88 268.731 Q2228.07 267.805 2226.13 267.342 Q2224.18 266.879 2222.1 266.879 Q2218.93 266.879 2217.33 267.851 Q2215.76 268.823 2215.76 270.768 Q2215.76 272.249 2216.89 273.105 Q2218.03 273.939 2221.45 274.703 L2222.91 275.027 Q2227.45 275.999 2229.34 277.781 Q2231.27 279.541 2231.27 282.712 Q2231.27 286.323 2228.4 288.429 Q2225.55 290.536 2220.55 290.536 Q2218.47 290.536 2216.2 290.119 Q2213.95 289.726 2211.45 288.916 L2211.45 284.517 Q2213.81 285.744 2216.1 286.369 Q2218.4 286.971 2220.64 286.971 Q2223.65 286.971 2225.27 285.953 Q2226.89 284.911 2226.89 283.036 Q2226.89 281.3 2225.71 280.374 Q2224.55 279.448 2220.59 278.592 L2219.11 278.244 Q2215.15 277.411 2213.4 275.698 Q2211.64 273.962 2211.64 270.953 Q2211.64 267.295 2214.23 265.305 Q2216.82 263.314 2221.59 263.314 Q2223.95 263.314 2226.03 263.661 Q2228.12 264.008 2229.88 264.703 Z\" fill=\"#000000\" fill-rule=\"evenodd\" fill-opacity=\"1\" /></svg>\n"
     },
     "execution_count": 58,
     "metadata": {},
     "output_type": "execute_result"
    }
   ],
   "source": [
    "plot(pred, label=\"predictions\")\n",
    "plot!(output_val, xlims=(1, 1000), ylims=(-3, 3), title=\"1-step ahead prediction\", label=\"observations\")"
   ]
  },
  {
   "cell_type": "code",
   "execution_count": 55,
   "metadata": {},
   "outputs": [
    {
     "data": {
      "text/plain": [
       "(0.4691450725082296, 0.04017829407592036, [0.0, 0.0, 0.23672118996334865, 0.8398856589292043, 0.715807009446228, 0.6344178311545504, 0.5579228111154846, 0.4856136878067994, 0.4164354549826097, 0.3497290599165232  …  -1.0654164316946038, -1.0499430963848693, -1.032607187871076, -1.0135825843294375, -0.993065141875642, -0.9711919343797919, -0.9480871300598596, -0.9238308129717913, -0.898492531016162, -0.8721557658739085], [0.0, 0.0, 0.23672118996334865, 0.3845480902195395, -0.5124418618891577, -0.4240435132167593, -0.3153153671595407, -0.3366766911091095, -0.3532254166847035, -0.34969300299863293  …  -1.461290547721629, -1.4378205402092779, -1.399877270660455, -1.3809258922746905, -1.3545884846531466, -1.349032020604659, -1.3220101505419768, -1.2857533805016992, -1.2485740729236587, -1.2166039113533151])"
      ]
     },
     "execution_count": 55,
     "metadata": {},
     "output_type": "execute_result"
    }
   ],
   "source": [
    "rms_sim, rms_pred, sim, pred = experiment_RLS(input_trn, output_trn, input_val, output_val, ϕ_fl, M1=M1, M2=M2, M3=M3, N=N, λ=1.0)"
   ]
  },
  {
   "cell_type": "code",
   "execution_count": null,
   "metadata": {},
   "outputs": [],
   "source": []
  }
 ],
 "metadata": {
  "kernelspec": {
   "display_name": "Julia 1.6.0",
   "language": "julia",
   "name": "julia-1.6"
  },
  "language_info": {
   "file_extension": ".jl",
   "mimetype": "application/julia",
   "name": "julia",
   "version": "1.6.0"
  },
  "orig_nbformat": 4
 },
 "nbformat": 4,
 "nbformat_minor": 2
}
