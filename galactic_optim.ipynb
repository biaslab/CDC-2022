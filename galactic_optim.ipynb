{
 "cells": [
  {
   "cell_type": "code",
   "execution_count": 2,
   "id": "scheduled-modem",
   "metadata": {},
   "outputs": [],
   "source": [
    "using GalacticOptim\n",
    "using Evolutionary"
   ]
  },
  {
   "cell_type": "code",
   "execution_count": 44,
   "id": "digital-bouquet",
   "metadata": {},
   "outputs": [
    {
     "name": "stdout",
     "output_type": "stream",
     "text": [
      "(3_w,6)-aCMA-ES (mu_w=2.0,w_1=64%) in dimension 2 (seed=13023512868790091795, 2022-01-13T16:51:39.800)\n",
      "  iter   fevals   function value      sigma  axis ratio   time[s]\n",
      "     1        6   1.00115625e+04   7.68e-02   1.221e+00     0.117\n",
      "     2       12   1.00019252e+04   7.38e-02   1.134e+00     0.118\n",
      "     3       18   9.99355817e+03   8.81e-02   1.202e+00     0.118\n",
      "    85      510   9.80100000e+03   3.57e-04   1.305e+03     0.125\n"
     ]
    },
    {
     "data": {
      "text/plain": [
       "u: 2-element Vector{Float64}:\n",
       " 1.0999999780400207\n",
       " 1.099931590090934"
      ]
     },
     "execution_count": 44,
     "metadata": {},
     "output_type": "execute_result"
    }
   ],
   "source": [
    "using CMAEvolutionStrategy\n",
    "rosenbrock(x, p) =  (p[1] - x[1])^2 + p[2] * (x[2] - x[1]^2)^2\n",
    "x0 = zeros(2)\n",
    "p  = [100.0, 100.0]\n",
    "f = OptimizationFunction(rosenbrock)\n",
    "prob = GalacticOptim.OptimizationProblem(f, x0, p, lb = [-1.0,-1.0], ub = [1.0,1.0])\n",
    "sol = solve(prob, CMAEvolutionStrategyOpt())"
   ]
  },
  {
   "cell_type": "code",
   "execution_count": 56,
   "id": "tested-assumption",
   "metadata": {},
   "outputs": [
    {
     "name": "stdout",
     "output_type": "stream",
     "text": [
      "Starting optimization with optimizer DiffEvoOpt{FitPopulation{Float64}, RadiusLimitedSelector, BlackBoxOptim.AdaptiveDiffEvoRandBin{3}, RandomBound{ContinuousRectSearchSpace}}\n",
      "0.00 secs, 0 evals, 0 steps\n",
      "\n",
      "Optimization stopped after 6031 steps and 0.01 seconds\n",
      "Termination reason: Delta fitness (3.85673524500199e-51) below tolerance (1.0e-50)\n",
      "Steps per second = 645499.83\n",
      "Function evals per second = 656202.86\n",
      "Improvements/step = 0.21340\n",
      "Total function evaluations = 6131\n",
      "\n",
      "\n",
      "Best candidate found: [1.30229e-26]\n",
      "\n",
      "Fitness: 0.000000000\n",
      "\n"
     ]
    },
    {
     "data": {
      "text/plain": [
       "u: 1-element Vector{Float64}:\n",
       " 1.3022896604592827e-26"
      ]
     },
     "execution_count": 56,
     "metadata": {},
     "output_type": "execute_result"
    }
   ],
   "source": [
    "using BlackBoxOptim\n",
    "square_fun(x, p=nothing) = x[1]^2\n",
    "x0 = zeros(2)\n",
    "f = OptimizationFunction(square_fun)\n",
    "prob = GalacticOptim.OptimizationProblem(f, x0, lb = [-1.0], ub = [1.0])\n",
    "sol = solve(prob,BBO_adaptive_de_rand_1_bin_radiuslimited())"
   ]
  },
  {
   "cell_type": "code",
   "execution_count": 57,
   "id": "animal-frame",
   "metadata": {},
   "outputs": [
    {
     "data": {
      "text/plain": [
       "u: 2-element Vector{Float64}:\n",
       " 0.0\n",
       " 0.0"
      ]
     },
     "execution_count": 57,
     "metadata": {},
     "output_type": "execute_result"
    }
   ],
   "source": [
    "using Flux\n",
    "square_fun(x, p=nothing) = x[1]^2\n",
    "x0 = zeros(2)\n",
    "f = OptimizationFunction(square_fun,GalacticOptim.AutoZygote())\n",
    "prob = GalacticOptim.OptimizationProblem(f, x0)\n",
    "sol = solve(prob,Flux.Optimise.Descent(0.01),maxiters=1000)"
   ]
  },
  {
   "cell_type": "code",
   "execution_count": 59,
   "id": "sharing-evening",
   "metadata": {},
   "outputs": [
    {
     "data": {
      "text/plain": [
       "u: 2-element Vector{Float64}:\n",
       " 0.0\n",
       " 0.0"
      ]
     },
     "execution_count": 59,
     "metadata": {},
     "output_type": "execute_result"
    }
   ],
   "source": [
    "using Flux\n",
    "square_fun(x, p=nothing) = x[1]^2\n",
    "x0 = zeros(2)\n",
    "f = OptimizationFunction(square_fun,GalacticOptim.AutoZygote())\n",
    "prob = GalacticOptim.OptimizationProblem(f, x0)\n",
    "sol = solve(prob,Flux.Optimise.ADAM(),maxiters=1000)"
   ]
  },
  {
   "cell_type": "code",
   "execution_count": 60,
   "id": "legendary-mitchell",
   "metadata": {},
   "outputs": [
    {
     "data": {
      "text/plain": [
       "u: 2-element Vector{Float64}:\n",
       " 0.0\n",
       " 0.0"
      ]
     },
     "execution_count": 60,
     "metadata": {},
     "output_type": "execute_result"
    }
   ],
   "source": [
    "using Flux\n",
    "square_fun(x, p=nothing) = x[1]^2\n",
    "x0 = zeros(2)\n",
    "f = OptimizationFunction(square_fun,GalacticOptim.AutoForwardDiff())\n",
    "prob = GalacticOptim.OptimizationProblem(f, x0)\n",
    "sol = solve(prob,Flux.Optimise.ADAM(),maxiters=1000)"
   ]
  },
  {
   "cell_type": "code",
   "execution_count": null,
   "id": "temporal-injection",
   "metadata": {},
   "outputs": [],
   "source": []
  }
 ],
 "metadata": {
  "kernelspec": {
   "display_name": "Julia 1.6.0",
   "language": "julia",
   "name": "julia-1.6"
  },
  "language_info": {
   "file_extension": ".jl",
   "mimetype": "application/julia",
   "name": "julia",
   "version": "1.6.0"
  }
 },
 "nbformat": 4,
 "nbformat_minor": 5
}
